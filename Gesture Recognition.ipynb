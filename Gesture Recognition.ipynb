{
 "cells": [
  {
   "cell_type": "markdown",
   "metadata": {},
   "source": [
    "# Gesture Recognition\n",
    "In this group project, you are going to build a 3D Conv model that will be able to predict the 5 gestures correctly. Please import the following libraries to get started."
   ]
  },
  {
   "cell_type": "code",
   "execution_count": 1,
   "metadata": {},
   "outputs": [],
   "source": [
    "import numpy as np\n",
    "import os\n",
    "import imageio\n",
    "import PIL\n",
    "from PIL import Image\n",
    "import datetime\n",
    "import os\n",
    "import pandas as pd\n",
    "import pathlib\n",
    "from tensorflow.keras.utils import array_to_img, img_to_array, load_img, Sequence\n",
    "import random\n",
    "from tensorflow.keras.utils import to_categorical\n",
    "import seaborn as sns"
   ]
  },
  {
   "cell_type": "markdown",
   "metadata": {},
   "source": [
    "We set the random seed so that the results don't vary drastically."
   ]
  },
  {
   "cell_type": "code",
   "execution_count": 2,
   "metadata": {},
   "outputs": [],
   "source": [
    "np.random.seed(30)\n",
    "import random as rn\n",
    "rn.seed(30)\n",
    "from keras import backend as K\n",
    "import tensorflow as tf\n",
    "tf.random.set_seed(30)"
   ]
  },
  {
   "cell_type": "markdown",
   "metadata": {},
   "source": [
    "In this block, you read the folder names for training and validation. You also set the `batch_size` here. Note that you set the batch size in such a way that you are able to use the GPU in full capacity. You keep increasing the batch size until the machine throws an error."
   ]
  },
  {
   "cell_type": "code",
   "execution_count": 3,
   "metadata": {},
   "outputs": [],
   "source": [
    "train_doc = np.random.permutation(open('/datasets/Project_data/train.csv').readlines())\n",
    "val_doc = np.random.permutation(open('/datasets/Project_data/val.csv').readlines())\n",
    "batch_size = 32"
   ]
  },
  {
   "cell_type": "code",
   "execution_count": 4,
   "metadata": {},
   "outputs": [
    {
     "data": {
      "text/plain": [
       "(663,)"
      ]
     },
     "execution_count": 4,
     "metadata": {},
     "output_type": "execute_result"
    }
   ],
   "source": [
    "train_doc.shape"
   ]
  },
  {
   "cell_type": "code",
   "execution_count": 5,
   "metadata": {},
   "outputs": [],
   "source": [
    "train_df=pd.DataFrame(train_doc,columns=['folders'])"
   ]
  },
  {
   "cell_type": "code",
   "execution_count": 6,
   "metadata": {},
   "outputs": [],
   "source": [
    "train_df['labels'] = train_df.folders.apply(lambda x:x.split(';')[1])"
   ]
  },
  {
   "cell_type": "code",
   "execution_count": 7,
   "metadata": {},
   "outputs": [],
   "source": [
    "train_df.folders = train_df.folders.apply(lambda x:x.split(';')[0])"
   ]
  },
  {
   "cell_type": "code",
   "execution_count": 8,
   "metadata": {},
   "outputs": [
    {
     "data": {
      "text/plain": [
       "0                    Right_Swipe_new\n",
       "1                    Thumbs_Down_new\n",
       "2                     Left_Swipe_new\n",
       "3                      Thumbs_Up_new\n",
       "4                     Left_Swipe_new\n",
       "                   ...              \n",
       "658                    Thumbs_Up_new\n",
       "659                  Right_Swipe_new\n",
       "660                  Right_Swipe_new\n",
       "661    Left Swipe_new_Left Swipe_new\n",
       "662                    Thumbs_Up_new\n",
       "Name: labels, Length: 663, dtype: object"
      ]
     },
     "execution_count": 8,
     "metadata": {},
     "output_type": "execute_result"
    }
   ],
   "source": [
    "train_df.labels"
   ]
  },
  {
   "cell_type": "code",
   "execution_count": 9,
   "metadata": {},
   "outputs": [],
   "source": [
    "val_df=pd.DataFrame(val_doc,columns=['folders'])"
   ]
  },
  {
   "cell_type": "code",
   "execution_count": 10,
   "metadata": {},
   "outputs": [],
   "source": [
    "val_df['labels'] = val_df.folders.apply(lambda x:x.split(';')[1])"
   ]
  },
  {
   "cell_type": "code",
   "execution_count": 11,
   "metadata": {},
   "outputs": [],
   "source": [
    "val_df.folders=val_df.folders.apply(lambda x:x.split(';')[0])"
   ]
  },
  {
   "cell_type": "code",
   "execution_count": 12,
   "metadata": {},
   "outputs": [],
   "source": [
    "train_dir='/datasets/Project_data/train/'"
   ]
  },
  {
   "cell_type": "markdown",
   "metadata": {},
   "source": [
    "#### Verifying few images"
   ]
  },
  {
   "cell_type": "code",
   "execution_count": 13,
   "metadata": {},
   "outputs": [
    {
     "data": {
      "text/plain": [
       "663"
      ]
     },
     "execution_count": 13,
     "metadata": {},
     "output_type": "execute_result"
    }
   ],
   "source": [
    "len(train_df.folders)"
   ]
  },
  {
   "cell_type": "code",
   "execution_count": 14,
   "metadata": {},
   "outputs": [],
   "source": [
    "for i in range(0,len(train_df.folders)):\n",
    "    train_images=pathlib.Path('/datasets/Project_data/train/'+train_df.iloc[i]['folders']).glob(\"*\")\n",
    "    train_df['no_of_files']=len(list(train_images))\n",
    "for i in range(0,len(val_df.folders)):\n",
    "    val_images=pathlib.Path('/datasets/Project_data/val/'+val_df.iloc[i]['folders']).glob(\"*\")\n",
    "    val_df['no_of_files']=len(list(val_images))"
   ]
  },
  {
   "cell_type": "code",
   "execution_count": 15,
   "metadata": {},
   "outputs": [
    {
     "data": {
      "text/html": [
       "<div>\n",
       "<style scoped>\n",
       "    .dataframe tbody tr th:only-of-type {\n",
       "        vertical-align: middle;\n",
       "    }\n",
       "\n",
       "    .dataframe tbody tr th {\n",
       "        vertical-align: top;\n",
       "    }\n",
       "\n",
       "    .dataframe thead th {\n",
       "        text-align: right;\n",
       "    }\n",
       "</style>\n",
       "<table border=\"1\" class=\"dataframe\">\n",
       "  <thead>\n",
       "    <tr style=\"text-align: right;\">\n",
       "      <th></th>\n",
       "      <th>folders</th>\n",
       "      <th>labels</th>\n",
       "      <th>no_of_files</th>\n",
       "    </tr>\n",
       "  </thead>\n",
       "  <tbody>\n",
       "  </tbody>\n",
       "</table>\n",
       "</div>"
      ],
      "text/plain": [
       "Empty DataFrame\n",
       "Columns: [folders, labels, no_of_files]\n",
       "Index: []"
      ]
     },
     "execution_count": 15,
     "metadata": {},
     "output_type": "execute_result"
    }
   ],
   "source": [
    "train_df[train_df['no_of_files']!=30]"
   ]
  },
  {
   "cell_type": "code",
   "execution_count": 16,
   "metadata": {},
   "outputs": [
    {
     "data": {
      "text/html": [
       "<div>\n",
       "<style scoped>\n",
       "    .dataframe tbody tr th:only-of-type {\n",
       "        vertical-align: middle;\n",
       "    }\n",
       "\n",
       "    .dataframe tbody tr th {\n",
       "        vertical-align: top;\n",
       "    }\n",
       "\n",
       "    .dataframe thead th {\n",
       "        text-align: right;\n",
       "    }\n",
       "</style>\n",
       "<table border=\"1\" class=\"dataframe\">\n",
       "  <thead>\n",
       "    <tr style=\"text-align: right;\">\n",
       "      <th></th>\n",
       "      <th>folders</th>\n",
       "      <th>labels</th>\n",
       "      <th>no_of_files</th>\n",
       "    </tr>\n",
       "  </thead>\n",
       "  <tbody>\n",
       "  </tbody>\n",
       "</table>\n",
       "</div>"
      ],
      "text/plain": [
       "Empty DataFrame\n",
       "Columns: [folders, labels, no_of_files]\n",
       "Index: []"
      ]
     },
     "execution_count": 16,
     "metadata": {},
     "output_type": "execute_result"
    }
   ],
   "source": [
    "val_df[val_df['no_of_files']!=30]"
   ]
  },
  {
   "cell_type": "code",
   "execution_count": 17,
   "metadata": {},
   "outputs": [
    {
     "data": {
      "image/png": "[encoded data removed]",
      "text/plain": [
       "<PIL.PngImagePlugin.PngImageFile image mode=RGB size=160x120 at 0x7F66904A3B20>"
      ]
     },
     "metadata": {},
     "output_type": "display_data"
    },
    {
     "data": {
      "image/png": "[encoded data removed]",
      "text/plain": [
       "<PIL.PngImagePlugin.PngImageFile image mode=RGB size=160x120 at 0x7F6690409E80>"
      ]
     },
     "metadata": {},
     "output_type": "display_data"
    },
    {
     "data": {
      "image/png": "[encoded data removed]",
      "text/plain": [
       "<PIL.PngImagePlugin.PngImageFile image mode=RGB size=160x120 at 0x7F6690409F70>"
      ]
     },
     "metadata": {},
     "output_type": "display_data"
    }
   ],
   "source": [
    "train_images=pathlib.Path('/datasets/Project_data/train/'+train_df.iloc[i]['folders']).glob(\"*\")\n",
    "for i in range(3):\n",
    "    im=Image.open(next(train_images))\n",
    "    im.show()"
   ]
  },
  {
   "cell_type": "code",
   "execution_count": 18,
   "metadata": {},
   "outputs": [],
   "source": [
    "im=Image.open(next(train_images))"
   ]
  },
  {
   "cell_type": "code",
   "execution_count": 19,
   "metadata": {},
   "outputs": [
    {
     "data": {
      "text/plain": [
       "(160, 120)"
      ]
     },
     "execution_count": 19,
     "metadata": {},
     "output_type": "execute_result"
    }
   ],
   "source": [
    "im.size"
   ]
  },
  {
   "cell_type": "code",
   "execution_count": 20,
   "metadata": {},
   "outputs": [],
   "source": [
    "val_images=pathlib.Path('/datasets/Project_data/train/'+train_df.iloc[i]['folders']).glob(\"*\")\n",
    "im_val=Image.open(next(val_images))"
   ]
  },
  {
   "cell_type": "code",
   "execution_count": 21,
   "metadata": {},
   "outputs": [
    {
     "data": {
      "text/plain": [
       "(160, 120)"
      ]
     },
     "execution_count": 21,
     "metadata": {},
     "output_type": "execute_result"
    }
   ],
   "source": [
    "im_val.size"
   ]
  },
  {
   "cell_type": "code",
   "execution_count": 22,
   "metadata": {},
   "outputs": [
    {
     "data": {
      "image/png": "[encoded data removed]",
      "text/plain": [
       "<PIL.Image.Image image mode=RGB size=100x100 at 0x7F66904A37C0>"
      ]
     },
     "execution_count": 22,
     "metadata": {},
     "output_type": "execute_result"
    }
   ],
   "source": [
    "im_val.resize((100,100))"
   ]
  },
  {
   "cell_type": "code",
   "execution_count": 23,
   "metadata": {},
   "outputs": [],
   "source": [
    "img_arr=img_to_array(im_val.resize((100,100)))"
   ]
  },
  {
   "cell_type": "code",
   "execution_count": 24,
   "metadata": {},
   "outputs": [],
   "source": [
    "img_arr=img_arr/255"
   ]
  },
  {
   "cell_type": "code",
   "execution_count": 25,
   "metadata": {},
   "outputs": [
    {
     "data": {
      "text/plain": [
       "(100, 100, 3)"
      ]
     },
     "execution_count": 25,
     "metadata": {},
     "output_type": "execute_result"
    }
   ],
   "source": [
    "img_arr.shape"
   ]
  },
  {
   "cell_type": "code",
   "execution_count": 26,
   "metadata": {},
   "outputs": [
    {
     "data": {
      "text/plain": [
       "array([[[0.53333336, 0.49803922, 0.36862746],\n",
       "        [0.53333336, 0.5058824 , 0.3647059 ],\n",
       "        [0.5411765 , 0.50980395, 0.37254903],\n",
       "        [0.5411765 , 0.50980395, 0.38431373]],\n",
       "\n",
       "       [[0.5176471 , 0.49019608, 0.34901962],\n",
       "        [0.52156866, 0.49411765, 0.34901962],\n",
       "        [0.5254902 , 0.49411765, 0.3529412 ],\n",
       "        [0.5294118 , 0.49803922, 0.3647059 ]],\n",
       "\n",
       "       [[0.5137255 , 0.47843137, 0.3372549 ],\n",
       "        [0.5176471 , 0.4862745 , 0.34509805],\n",
       "        [0.5176471 , 0.4862745 , 0.34509805],\n",
       "        [0.5294118 , 0.49019608, 0.3529412 ]],\n",
       "\n",
       "       [[0.5058824 , 0.46666667, 0.3254902 ],\n",
       "        [0.5058824 , 0.47058824, 0.32941177],\n",
       "        [0.5019608 , 0.47058824, 0.32941177],\n",
       "        [0.5176471 , 0.47843137, 0.34117648]]], dtype=float32)"
      ]
     },
     "execution_count": 26,
     "metadata": {},
     "output_type": "execute_result"
    }
   ],
   "source": [
    "img_arr[1:5,1:5]"
   ]
  },
  {
   "cell_type": "code",
   "execution_count": 27,
   "metadata": {},
   "outputs": [
    {
     "data": {
      "image/png": "[encoded data removed]",
      "text/plain": [
       "<PIL.Image.Image image mode=RGB size=100x100 at 0x7F6690423340>"
      ]
     },
     "execution_count": 27,
     "metadata": {},
     "output_type": "execute_result"
    }
   ],
   "source": [
    "array_to_img(img_arr)"
   ]
  },
  {
   "cell_type": "code",
   "execution_count": 28,
   "metadata": {},
   "outputs": [
    {
     "data": {
      "text/plain": [
       "Right_Swipe_new                  103\n",
       "Thumbs_Down_new                  100\n",
       "Left_Swipe_new                    96\n",
       "Stop_new                          93\n",
       "Thumbs_Up_new                     87\n",
       "Left Swipe_new_Left Swipe_new     40\n",
       "Thumbs Down_new                   37\n",
       "Stop Gesture_new                  37\n",
       "Thumbs Up_new                     36\n",
       "Right Swipe_new                   34\n",
       "Name: labels, dtype: int64"
      ]
     },
     "execution_count": 28,
     "metadata": {},
     "output_type": "execute_result"
    }
   ],
   "source": [
    "train_df.labels.value_counts()"
   ]
  },
  {
   "cell_type": "code",
   "execution_count": 29,
   "metadata": {},
   "outputs": [
    {
     "data": {
      "text/plain": [
       "Index(['folders', 'labels', 'no_of_files'], dtype='object')"
      ]
     },
     "execution_count": 29,
     "metadata": {},
     "output_type": "execute_result"
    }
   ],
   "source": [
    "train_df.columns"
   ]
  },
  {
   "cell_type": "code",
   "execution_count": 30,
   "metadata": {},
   "outputs": [],
   "source": [
    "pd.options.mode.chained_assignment = None"
   ]
  },
  {
   "cell_type": "code",
   "execution_count": 31,
   "metadata": {},
   "outputs": [],
   "source": [
    "right_swipe=train_df[train_df['labels'].isin(['Right_Swipe_new','Right Swipe_new'])]"
   ]
  },
  {
   "cell_type": "code",
   "execution_count": 32,
   "metadata": {},
   "outputs": [],
   "source": [
    "right_swipe.labels='RightSwipe'"
   ]
  },
  {
   "cell_type": "code",
   "execution_count": 33,
   "metadata": {},
   "outputs": [],
   "source": [
    "left_swipe=train_df[train_df['labels'].isin(['Left_Swipe_new','Left Swipe_new_Left Swipe_new'])]"
   ]
  },
  {
   "cell_type": "code",
   "execution_count": 34,
   "metadata": {},
   "outputs": [],
   "source": [
    "left_swipe.labels='LeftSwipe'"
   ]
  },
  {
   "cell_type": "code",
   "execution_count": 35,
   "metadata": {},
   "outputs": [],
   "source": [
    "thumbs_down=train_df[train_df['labels'].isin(['Thumbs_Down_new','Thumbs Down_new'])]"
   ]
  },
  {
   "cell_type": "code",
   "execution_count": 36,
   "metadata": {},
   "outputs": [],
   "source": [
    "thumbs_down.labels='ThumbsDown'"
   ]
  },
  {
   "cell_type": "code",
   "execution_count": 37,
   "metadata": {},
   "outputs": [],
   "source": [
    "thumbs_up=train_df[train_df['labels'].isin(['Thumbs_Up_new','Thumbs Up_new'])]"
   ]
  },
  {
   "cell_type": "code",
   "execution_count": 38,
   "metadata": {},
   "outputs": [],
   "source": [
    "thumbs_up.labels='ThumbsUp'"
   ]
  },
  {
   "cell_type": "code",
   "execution_count": 39,
   "metadata": {},
   "outputs": [],
   "source": [
    "stop_new=train_df[train_df['labels'].isin(['Stop_new','Stop Gesture_new'])]"
   ]
  },
  {
   "cell_type": "code",
   "execution_count": 40,
   "metadata": {},
   "outputs": [],
   "source": [
    "stop_new.labels='StopNew'"
   ]
  },
  {
   "cell_type": "code",
   "execution_count": 41,
   "metadata": {},
   "outputs": [
    {
     "name": "stdout",
     "output_type": "stream",
     "text": [
      "123\n",
      "137\n",
      "136\n",
      "130\n",
      "137\n"
     ]
    }
   ],
   "source": [
    "print(thumbs_up.shape[0])\n",
    "print(thumbs_down.shape[0]) \n",
    "print(left_swipe.shape[0]) \n",
    "print(stop_new.shape[0]) \n",
    "print(right_swipe.shape[0])"
   ]
  },
  {
   "cell_type": "code",
   "execution_count": 42,
   "metadata": {},
   "outputs": [],
   "source": [
    "train_df_processed=pd.concat([thumbs_up,thumbs_down,left_swipe,stop_new,right_swipe])"
   ]
  },
  {
   "cell_type": "code",
   "execution_count": 43,
   "metadata": {},
   "outputs": [
    {
     "data": {
      "text/plain": [
       "ThumbsDown    137\n",
       "RightSwipe    137\n",
       "LeftSwipe     136\n",
       "StopNew       130\n",
       "ThumbsUp      123\n",
       "Name: labels, dtype: int64"
      ]
     },
     "execution_count": 43,
     "metadata": {},
     "output_type": "execute_result"
    }
   ],
   "source": [
    "train_df_processed.labels.value_counts()"
   ]
  },
  {
   "cell_type": "code",
   "execution_count": 44,
   "metadata": {},
   "outputs": [
    {
     "data": {
      "text/plain": [
       "Stop_new                         14\n",
       "Left_Swipe_new                   13\n",
       "Right_Swipe_new                  13\n",
       "Thumbs_Down_new                  12\n",
       "Right Swipe_new                  10\n",
       "Thumbs_Up_new                    10\n",
       "Thumbs Down_new                   9\n",
       "Stop Gesture_new                  8\n",
       "Thumbs Up_new                     6\n",
       "Left Swipe_new_Left Swipe_new     5\n",
       "Name: labels, dtype: int64"
      ]
     },
     "execution_count": 44,
     "metadata": {},
     "output_type": "execute_result"
    }
   ],
   "source": [
    "val_df.labels.value_counts()"
   ]
  },
  {
   "cell_type": "code",
   "execution_count": 45,
   "metadata": {},
   "outputs": [],
   "source": [
    "right_swipe_val=val_df[val_df['labels'].isin(['Right_Swipe_new','Right Swipe_new'])]\n",
    "left_swipe_val=val_df[val_df['labels'].isin(['Left_Swipe_new','Left Swipe_new_Left Swipe_new'])]\n",
    "thumbs_down_val=val_df[val_df['labels'].isin(['Thumbs_Down_new','Thumbs Down_new'])]\n",
    "stop_new_val=val_df[val_df['labels'].isin(['Stop_new','Stop Gesture_new'])]\n",
    "thumbs_up_val=val_df[val_df['labels'].isin(['Thumbs_Up_new','Thumbs Up_new'])]\n",
    "\n",
    "right_swipe_val.labels='RightSwipe'\n",
    "left_swipe_val.labels='LeftSwipe'\n",
    "thumbs_down_val.labels='ThumbsDown'\n",
    "stop_new_val.labels='StopNew'\n",
    "thumbs_up_val.labels='ThumbsUp'"
   ]
  },
  {
   "cell_type": "code",
   "execution_count": 46,
   "metadata": {},
   "outputs": [],
   "source": [
    "val_df_processed=pd.concat([right_swipe_val,left_swipe_val,thumbs_down_val,stop_new_val,thumbs_up_val])"
   ]
  },
  {
   "cell_type": "code",
   "execution_count": 47,
   "metadata": {},
   "outputs": [
    {
     "data": {
      "text/plain": [
       "RightSwipe    23\n",
       "StopNew       22\n",
       "ThumbsDown    21\n",
       "LeftSwipe     18\n",
       "ThumbsUp      16\n",
       "Name: labels, dtype: int64"
      ]
     },
     "execution_count": 47,
     "metadata": {},
     "output_type": "execute_result"
    }
   ],
   "source": [
    "val_df_processed.labels.value_counts()"
   ]
  },
  {
   "cell_type": "code",
   "execution_count": 48,
   "metadata": {},
   "outputs": [],
   "source": [
    "permutated=np.random.permutation(train_df_processed.iloc[1:5])"
   ]
  },
  {
   "cell_type": "code",
   "execution_count": 49,
   "metadata": {},
   "outputs": [
    {
     "data": {
      "text/plain": [
       "['WIN_20180926_17_12_26_Pro_Thumbs_Up_new',\n",
       " 'WIN_20180925_17_20_53_Pro_Thumbs_Up_new',\n",
       " 'WIN_20180925_17_19_16_Pro_Thumbs_Up_new',\n",
       " 'WIN_20180926_17_30_47_Pro_Thumbs_Up_new']"
      ]
     },
     "execution_count": 49,
     "metadata": {},
     "output_type": "execute_result"
    }
   ],
   "source": [
    "list(permutated[:,:1].flatten())"
   ]
  },
  {
   "cell_type": "code",
   "execution_count": 50,
   "metadata": {},
   "outputs": [
    {
     "data": {
      "text/plain": [
       "['ThumbsUp', 'ThumbsUp', 'ThumbsUp', 'ThumbsUp']"
      ]
     },
     "execution_count": 50,
     "metadata": {},
     "output_type": "execute_result"
    }
   ],
   "source": [
    "list(permutated[:,1:2].flatten())"
   ]
  },
  {
   "cell_type": "code",
   "execution_count": 51,
   "metadata": {},
   "outputs": [],
   "source": [
    "from sklearn.preprocessing import LabelEncoder"
   ]
  },
  {
   "cell_type": "code",
   "execution_count": 52,
   "metadata": {},
   "outputs": [],
   "source": [
    "le = LabelEncoder()"
   ]
  },
  {
   "cell_type": "code",
   "execution_count": 53,
   "metadata": {},
   "outputs": [],
   "source": [
    "train_df_processed['labels']=le.fit_transform(train_df_processed['labels'])"
   ]
  },
  {
   "cell_type": "code",
   "execution_count": 54,
   "metadata": {},
   "outputs": [],
   "source": [
    "val_df_processed['labels']=le.fit_transform(val_df_processed['labels'])"
   ]
  },
  {
   "cell_type": "markdown",
   "metadata": {},
   "source": [
    "## Generator\n",
    "This is one of the most important part of the code. The overall structure of the generator has been given. In the generator, you are going to preprocess the images as you have images of 2 different dimensions as well as create a batch of video frames. You have to experiment with `img_idx`, `y`,`z` and normalization such that you get high accuracy."
   ]
  },
  {
   "cell_type": "code",
   "execution_count": 55,
   "metadata": {},
   "outputs": [],
   "source": [
    "def generator(source_path, folder_list, batch_size):\n",
    "    #print( 'Source path = ', source_path, '; batch size =', batch_size)\n",
    "    img_idx = [random.randint(0,29) for i in range(25)]\n",
    "    while True:\n",
    "        permutated = np.random.permutation(folder_list)\n",
    "        t=list(permutated[:,:1].flatten())\n",
    "        l=list(permutated[:,1:2].flatten())\n",
    "        num_batches = len(folder_list)//batch_size # calculate the number of batches 3\n",
    "        remaining_items = len(folder_list) % batch_size\n",
    "        #print(num_batches)\n",
    "        for batch in range(num_batches): # we iterate over the number of batches 0,1,2\n",
    "            x=len(img_idx)\n",
    "            y=100\n",
    "            z=100\n",
    "            batch_data = np.zeros((batch_size,x,y,z,3)) # x is the number of images you use for each video, (y,z) is the final size of the input images and 3 is the number of channels RGB\n",
    "            batch_labels = np.zeros((batch_size,5)) # batch_labels is the one hot representation of the output\n",
    "            for folder in range(batch_size): # iterate over the batch_size 0,1,2\n",
    "                imgs = os.listdir(source_path+'/'+ t[folder + (batch*batch_size)]) # read all the images in the folder\n",
    "                for idx,item in enumerate(img_idx): #  Iterate iver the frames/images of a folder to read them in\n",
    "                    image = Image.open(source_path+'/'+ t[folder + (batch*batch_size)]+'/'+imgs[item])\n",
    "                    img_arr=img_to_array(image.resize((100,100)))\n",
    "                    img_arr=img_arr/255\n",
    "                    #crop the images and resize them. Note that the images are of 2 different shape \n",
    "                    #and the conv3D will throw error if the inputs in a batch have different shapes\n",
    "                    \n",
    "                    batch_data[folder,idx,:,:,0] = img_arr[:,:,0]\n",
    "                    batch_data[folder,idx,:,:,1] = img_arr[:,:,1]\n",
    "                    batch_data[folder,idx,:,:,2] = img_arr[:,:,2]\n",
    "                    \n",
    "                batch_labels[folder, int(l[folder + (batch*batch_size)])] = 1\n",
    "            yield batch_data, batch_labels #you yield the batch_data and the batch_labels, remember what does yield do\n",
    "            \n",
    "\n",
    "        \n",
    "        # write the code for the remaining data points which are left after full batches\n",
    "        r_t=t[(len(t)-remaining_items):]\n",
    "        r_l=l[(len(l)-remaining_items):]\n",
    "        r_data = np.zeros((len(r_t),x,y,z,3)) # x is the number of images you use for each video, (y,z) is the final size of the input images and 3 is the number of channels RGB\n",
    "        r_labels = np.zeros((len(r_l),5)) # batch_labels is the one hot representation of the output\n",
    "        for folder in range(len(r_t)): # iterate over the batch_size 0,1,2\n",
    "                imgs = os.listdir(source_path+'/'+ t[folder]) # read all the images in the folder\n",
    "                for idx,item in enumerate(img_idx): #  Iterate iver the frames/images of a folder to read them in\n",
    "                    image = Image.open(source_path+'/'+ t[folder]+'/'+imgs[item])\n",
    "                    img_arr=img_to_array(image.resize((100,100)))\n",
    "                    img_arr=img_arr/255\n",
    "                    #crop the images and resize them. Note that the images are of 2 different shape \n",
    "                    #and the conv3D will throw error if the inputs in a batch have different shapes\n",
    "                    \n",
    "                    r_data[folder,idx,:,:,0] = img_arr[:,:,0]\n",
    "                    r_data[folder,idx,:,:,1] = img_arr[:,:,1]\n",
    "                    r_data[folder,idx,:,:,2] = img_arr[:,:,2]\n",
    "                    \n",
    "                r_labels[folder, int(l[folder])] = 1\n",
    "        yield r_data, r_labels #you yield the batch_data and the batch_labels, remember what does yield do       "
   ]
  },
  {
   "cell_type": "code",
   "execution_count": 56,
   "metadata": {},
   "outputs": [],
   "source": [
    "batch_size=32\n",
    "experiment_size=100"
   ]
  },
  {
   "cell_type": "code",
   "execution_count": 57,
   "metadata": {},
   "outputs": [],
   "source": [
    "def datagen(t_df,v_df,batch_size=32,experiment_size=100,train_path = '/datasets/Project_data/train/',val_path = '/datasets/Project_data/val/',num_epochs=10):\n",
    "    t=generator(source_path=train_path, folder_list=t_df.iloc[:experiment_size],batch_size=batch_size)\n",
    "    v=generator(source_path=val_path, folder_list=v_df,batch_size=batch_size)\n",
    "    curr_dt_time = datetime.datetime.now()\n",
    "    print('# training sequences =', experiment_size)\n",
    "    num_val_sequences = len(val_doc)\n",
    "    print('# validation sequences =', num_val_sequences)\n",
    "    num_epochs = num_epochs\n",
    "    print ('# epochs =', num_epochs)\n",
    "    return t,v"
   ]
  },
  {
   "cell_type": "code",
   "execution_count": 58,
   "metadata": {},
   "outputs": [
    {
     "name": "stdout",
     "output_type": "stream",
     "text": [
      "# training sequences = 100\n",
      "# validation sequences = 100\n",
      "# epochs = 10\n"
     ]
    }
   ],
   "source": [
    "train_gen,val_gen=datagen(train_df_processed,val_df_processed)"
   ]
  },
  {
   "cell_type": "markdown",
   "metadata": {},
   "source": [
    "Note here that a video is represented above in the generator as (number of images, height, width, number of channels). Take this into consideration while creating the model architecture."
   ]
  },
  {
   "cell_type": "code",
   "execution_count": 59,
   "metadata": {},
   "outputs": [],
   "source": [
    "input_shape=(25,100,100,3)"
   ]
  },
  {
   "cell_type": "markdown",
   "metadata": {},
   "source": [
    "## Model\n",
    "Here you make the model using different functionalities that Keras provides. Remember to use `Conv3D` and `MaxPooling3D` and not `Conv2D` and `Maxpooling2D` for a 3D convolution model. You would want to use `TimeDistributed` while building a Conv2D + RNN model. Also remember that the last layer is the softmax. Design the network in such a way that the model is able to give good accuracy on the least number of parameters so that it can fit in the memory of the webcam."
   ]
  },
  {
   "cell_type": "code",
   "execution_count": 60,
   "metadata": {},
   "outputs": [],
   "source": [
    "from matplotlib import pyplot as plt"
   ]
  },
  {
   "cell_type": "code",
   "execution_count": 61,
   "metadata": {},
   "outputs": [],
   "source": [
    "import keras\n",
    "from keras.models import Sequential, Model\n",
    "from keras.layers import Dense, GRU, Flatten, TimeDistributed, Flatten, BatchNormalization, Activation\n",
    "from keras.layers.convolutional import Conv3D, MaxPooling3D\n",
    "from keras.callbacks import ModelCheckpoint, ReduceLROnPlateau\n",
    "from keras import optimizers"
   ]
  },
  {
   "cell_type": "code",
   "execution_count": 62,
   "metadata": {},
   "outputs": [],
   "source": [
    "def plot_results(history):\n",
    "    results=pd.DataFrame(history.history)\n",
    "    sns.lineplot(y=results['categorical_accuracy'],x=[i for i in range(results.shape[0])])\n",
    "    sns.lineplot(y=results['val_categorical_accuracy'],x=[i for i in range(results.shape[0])])\n",
    "    plt.ylabel('accuracy')\n",
    "    plt.title(\"train_accuracy vs val_accuracy\")\n",
    "    plt.show()"
   ]
  },
  {
   "cell_type": "code",
   "execution_count": 63,
   "metadata": {},
   "outputs": [],
   "source": [
    "def add_conv3d_layer(filtr,model,kernel=(3,3,3),input_shape=input_shape):\n",
    "    model.add(keras.layers.Conv3D(filtr,kernel,input_shape=input_shape,padding='same',activation='relu'))\n",
    "    model.add(keras.layers.BatchNormalization())\n",
    "    model.add(keras.layers.MaxPooling3D(2,2))"
   ]
  },
  {
   "cell_type": "code",
   "execution_count": 64,
   "metadata": {},
   "outputs": [],
   "source": [
    "def add_dense_layer(filtr,model):\n",
    "    model.add(keras.layers.Dense(filtr,activation='relu'))\n",
    "    model.add(keras.layers.BatchNormalization())"
   ]
  },
  {
   "cell_type": "code",
   "execution_count": 65,
   "metadata": {},
   "outputs": [],
   "source": [
    "def create_conv3d_model(conv_filter,dense_filter,num_classes=5,drop_out=False,drop_out_percent=0.2,kernel=(3,3,3)):\n",
    "    model=keras.Sequential()\n",
    "    for c_f in conv_filter:\n",
    "        add_conv3d_layer(c_f,model)\n",
    "    if(drop_out):\n",
    "        model.add(keras.layers.Dropout(drop_out_percent))\n",
    "    model.add(keras.layers.Flatten())\n",
    "    for d_f in dense_filter:\n",
    "        add_dense_layer(d_f,model)\n",
    "        if(drop_out):\n",
    "            model.add(keras.layers.Dropout(drop_out_percent))\n",
    "    model.add(keras.layers.Dense(5,activation='softmax'))\n",
    "    model.compile(optimizer='Adam', loss='categorical_crossentropy', metrics=['categorical_accuracy'])\n",
    "    print(model.summary())\n",
    "    return model"
   ]
  },
  {
   "cell_type": "code",
   "execution_count": 66,
   "metadata": {},
   "outputs": [],
   "source": [
    "def get_steps(experiment_size):\n",
    "    if (experiment_size%batch_size) == 0:\n",
    "        steps_per_epoch = int(experiment_size/batch_size)\n",
    "    else:\n",
    "        steps_per_epoch = (experiment_size//batch_size) + 1\n",
    "    if (experiment_size%batch_size) == 0:\n",
    "        validation_steps = int(experiment_size/batch_size)\n",
    "    else:\n",
    "        validation_steps = (experiment_size//batch_size) + 1\n",
    "    print(\"steps_per_epoch:\",steps_per_epoch)\n",
    "    print(\"validations_steps_per_epoch:\",validation_steps)\n",
    "    return (steps_per_epoch,validation_steps)"
   ]
  },
  {
   "cell_type": "code",
   "execution_count": 67,
   "metadata": {},
   "outputs": [
    {
     "name": "stdout",
     "output_type": "stream",
     "text": [
      "WARNING:tensorflow:`period` argument is deprecated. Please use `save_freq` to specify the frequency in number of batches seen.\n"
     ]
    }
   ],
   "source": [
    "curr_dt_time = datetime.datetime.now()\n",
    "model_name = 'model_init' + '_' + str(curr_dt_time).replace(' ','').replace(':','_') + '/'    \n",
    "if not os.path.exists(model_name):\n",
    "    os.mkdir(model_name)\n",
    "filepath = model_name + 'model-{epoch:05d}-{loss:.5f}-{categorical_accuracy:.5f}-{val_loss:.5f}-{val_categorical_accuracy:.5f}.h5'\n",
    "checkpoint = ModelCheckpoint(filepath, monitor='val_loss', verbose=1, save_best_only=True, save_weights_only=False, mode='auto', period=1)\n",
    "LR = ReduceLROnPlateau(monitor='val_loss', factor=0.2,patience=5, min_lr=0.001)\n",
    "callbacks_list = [checkpoint, LR]"
   ]
  },
  {
   "cell_type": "markdown",
   "metadata": {},
   "source": [
    "#### Model1 : Ablation Experiment with Dataset of Size 250 ( Images from 250 folders) "
   ]
  },
  {
   "cell_type": "code",
   "execution_count": 68,
   "metadata": {},
   "outputs": [
    {
     "name": "stdout",
     "output_type": "stream",
     "text": [
      "Model: \"sequential\"\n",
      "_________________________________________________________________\n",
      " Layer (type)                Output Shape              Param #   \n",
      "=================================================================\n",
      " conv3d (Conv3D)             (None, 25, 100, 100, 32)  2624      \n",
      "                                                                 \n",
      " batch_normalization (BatchN  (None, 25, 100, 100, 32)  128      \n",
      " ormalization)                                                   \n",
      "                                                                 \n",
      " max_pooling3d (MaxPooling3D  (None, 12, 50, 50, 32)   0         \n",
      " )                                                               \n",
      "                                                                 \n",
      " conv3d_1 (Conv3D)           (None, 12, 50, 50, 64)    55360     \n",
      "                                                                 \n",
      " batch_normalization_1 (Batc  (None, 12, 50, 50, 64)   256       \n",
      " hNormalization)                                                 \n",
      "                                                                 \n",
      " max_pooling3d_1 (MaxPooling  (None, 6, 25, 25, 64)    0         \n",
      " 3D)                                                             \n",
      "                                                                 \n",
      " conv3d_2 (Conv3D)           (None, 6, 25, 25, 128)    221312    \n",
      "                                                                 \n",
      " batch_normalization_2 (Batc  (None, 6, 25, 25, 128)   512       \n",
      " hNormalization)                                                 \n",
      "                                                                 \n",
      " max_pooling3d_2 (MaxPooling  (None, 3, 12, 12, 128)   0         \n",
      " 3D)                                                             \n",
      "                                                                 \n",
      " flatten (Flatten)           (None, 55296)             0         \n",
      "                                                                 \n",
      " dense (Dense)               (None, 64)                3539008   \n",
      "                                                                 \n",
      " batch_normalization_3 (Batc  (None, 64)               256       \n",
      " hNormalization)                                                 \n",
      "                                                                 \n",
      " dense_1 (Dense)             (None, 5)                 325       \n",
      "                                                                 \n",
      "=================================================================\n",
      "Total params: 3,819,781\n",
      "Trainable params: 3,819,205\n",
      "Non-trainable params: 576\n",
      "_________________________________________________________________\n",
      "None\n"
     ]
    },
    {
     "name": "stderr",
     "output_type": "stream",
     "text": [
      "2025-01-24 11:10:44.295136: W tensorflow/core/common_runtime/gpu/gpu_bfc_allocator.cc:39] Overriding allow_growth setting because the TF_FORCE_GPU_ALLOW_GROWTH environment variable is set. Original config value was 0.\n",
      "2025-01-24 11:10:44.295225: I tensorflow/core/common_runtime/gpu/gpu_device.cc:1525] Created device /job:localhost/replica:0/task:0/device:GPU:0 with 14800 MB memory:  -> device: 0, name: Quadro RTX 5000, pci bus id: 0000:3d:00.0, compute capability: 7.5\n"
     ]
    }
   ],
   "source": [
    "model=create_conv3d_model([32,64,128],[64])"
   ]
  },
  {
   "cell_type": "markdown",
   "metadata": {},
   "source": [
    "Now that you have written the model, the next step is to `compile` the model. When you print the `summary` of the model, you'll see the total number of parameters you have to train."
   ]
  },
  {
   "cell_type": "markdown",
   "metadata": {},
   "source": [
    "Let us create the `train_generator` and the `val_generator` which will be used in `.fit_generator`."
   ]
  },
  {
   "cell_type": "markdown",
   "metadata": {},
   "source": [
    "The `steps_per_epoch` and `validation_steps` are used by `fit_generator` to decide the number of next() calls it need to make."
   ]
  },
  {
   "cell_type": "code",
   "execution_count": 69,
   "metadata": {},
   "outputs": [
    {
     "name": "stdout",
     "output_type": "stream",
     "text": [
      "# training sequences = 250\n",
      "# validation sequences = 100\n",
      "# epochs = 10\n",
      "steps_per_epoch: 8\n",
      "validations_steps_per_epoch: 8\n"
     ]
    }
   ],
   "source": [
    "num_epochs=10\n",
    "batch_size=32\n",
    "experiment_size=250\n",
    "train_gen,val_gen=datagen(train_df_processed,val_df_processed,batch_size=batch_size,experiment_size=experiment_size)\n",
    "steps_per_epoch,validation_steps=get_steps(experiment_size=experiment_size)"
   ]
  },
  {
   "cell_type": "markdown",
   "metadata": {},
   "source": [
    "Let us now fit the model. This will start training the model and with the help of the checkpoints, you'll be able to save the model at the end of each epoch."
   ]
  },
  {
   "cell_type": "code",
   "execution_count": 70,
   "metadata": {},
   "outputs": [
    {
     "name": "stderr",
     "output_type": "stream",
     "text": [
      "/tmp/ipykernel_931/802925002.py:1: UserWarning: `Model.fit_generator` is deprecated and will be removed in a future version. Please use `Model.fit`, which supports generators.\n",
      "  history=model.fit_generator(train_gen, steps_per_epoch=steps_per_epoch, epochs=num_epochs, verbose=1,\n"
     ]
    },
    {
     "name": "stdout",
     "output_type": "stream",
     "text": [
      "Epoch 1/10\n"
     ]
    },
    {
     "name": "stderr",
     "output_type": "stream",
     "text": [
      "2025-01-24 11:10:49.353543: I tensorflow/stream_executor/cuda/cuda_dnn.cc:377] Loaded cuDNN version 8302\n"
     ]
    },
    {
     "name": "stdout",
     "output_type": "stream",
     "text": [
      "8/8 [==============================] - ETA: 0s - loss: 1.4821 - categorical_accuracy: 0.5720\n",
      "Epoch 00001: val_loss improved from inf to 1.67600, saving model to model_init_2025-01-2411_10_43.445280/model-00001-1.48206-0.57200-1.67600-0.24500.h5\n",
      "8/8 [==============================] - 40s 5s/step - loss: 1.4821 - categorical_accuracy: 0.5720 - val_loss: 1.6760 - val_categorical_accuracy: 0.2450 - lr: 0.0010\n",
      "Epoch 2/10\n",
      "8/8 [==============================] - ETA: 0s - loss: 0.5626 - categorical_accuracy: 0.8920\n",
      "Epoch 00002: val_loss did not improve from 1.67600\n",
      "8/8 [==============================] - 35s 5s/step - loss: 0.5626 - categorical_accuracy: 0.8920 - val_loss: 1.8229 - val_categorical_accuracy: 0.2650 - lr: 0.0010\n",
      "Epoch 3/10\n",
      "8/8 [==============================] - ETA: 0s - loss: 0.4170 - categorical_accuracy: 0.9080\n",
      "Epoch 00003: val_loss did not improve from 1.67600\n",
      "8/8 [==============================] - 34s 5s/step - loss: 0.4170 - categorical_accuracy: 0.9080 - val_loss: 1.9855 - val_categorical_accuracy: 0.2200 - lr: 0.0010\n",
      "Epoch 4/10\n",
      "8/8 [==============================] - ETA: 0s - loss: 0.2389 - categorical_accuracy: 0.9720\n",
      "Epoch 00004: val_loss did not improve from 1.67600\n",
      "8/8 [==============================] - 32s 5s/step - loss: 0.2389 - categorical_accuracy: 0.9720 - val_loss: 7.0209 - val_categorical_accuracy: 0.2100 - lr: 0.0010\n",
      "Epoch 5/10\n",
      "8/8 [==============================] - ETA: 0s - loss: 0.1657 - categorical_accuracy: 0.9920\n",
      "Epoch 00005: val_loss did not improve from 1.67600\n",
      "8/8 [==============================] - 34s 5s/step - loss: 0.1657 - categorical_accuracy: 0.9920 - val_loss: 5.6702 - val_categorical_accuracy: 0.2450 - lr: 0.0010\n",
      "Epoch 6/10\n",
      "8/8 [==============================] - ETA: 0s - loss: 0.1335 - categorical_accuracy: 0.9800\n",
      "Epoch 00006: val_loss did not improve from 1.67600\n",
      "8/8 [==============================] - 34s 5s/step - loss: 0.1335 - categorical_accuracy: 0.9800 - val_loss: 10.6280 - val_categorical_accuracy: 0.2000 - lr: 0.0010\n",
      "Epoch 7/10\n",
      "8/8 [==============================] - ETA: 0s - loss: 0.0742 - categorical_accuracy: 1.0000\n",
      "Epoch 00007: val_loss did not improve from 1.67600\n",
      "8/8 [==============================] - 33s 5s/step - loss: 0.0742 - categorical_accuracy: 1.0000 - val_loss: 8.4626 - val_categorical_accuracy: 0.2350 - lr: 0.0010\n",
      "Epoch 8/10\n",
      "8/8 [==============================] - ETA: 0s - loss: 0.0631 - categorical_accuracy: 1.0000\n",
      "Epoch 00008: val_loss did not improve from 1.67600\n",
      "8/8 [==============================] - 32s 4s/step - loss: 0.0631 - categorical_accuracy: 1.0000 - val_loss: 7.4501 - val_categorical_accuracy: 0.2200 - lr: 0.0010\n",
      "Epoch 9/10\n",
      "8/8 [==============================] - ETA: 0s - loss: 0.0396 - categorical_accuracy: 1.0000\n",
      "Epoch 00009: val_loss did not improve from 1.67600\n",
      "8/8 [==============================] - 34s 5s/step - loss: 0.0396 - categorical_accuracy: 1.0000 - val_loss: 4.8465 - val_categorical_accuracy: 0.1950 - lr: 0.0010\n",
      "Epoch 10/10\n",
      "8/8 [==============================] - ETA: 0s - loss: 0.0261 - categorical_accuracy: 1.0000\n",
      "Epoch 00010: val_loss did not improve from 1.67600\n",
      "8/8 [==============================] - 34s 5s/step - loss: 0.0261 - categorical_accuracy: 1.0000 - val_loss: 3.4914 - val_categorical_accuracy: 0.2050 - lr: 0.0010\n"
     ]
    }
   ],
   "source": [
    "history=model.fit_generator(train_gen, steps_per_epoch=steps_per_epoch, epochs=num_epochs, verbose=1, \n",
    "                    callbacks=callbacks_list, validation_data=val_gen, \n",
    "                    validation_steps=validation_steps, class_weight=None, workers=1, initial_epoch=0)"
   ]
  },
  {
   "cell_type": "code",
   "execution_count": 71,
   "metadata": {},
   "outputs": [
    {
     "name": "stdout",
     "output_type": "stream",
     "text": [
      "32/32 [==============================] - 61s 2s/step - loss: 3.5398 - categorical_accuracy: 0.1850\n"
     ]
    },
    {
     "data": {
      "text/plain": [
       "[3.5397777557373047, 0.1850000023841858]"
      ]
     },
     "execution_count": 71,
     "metadata": {},
     "output_type": "execute_result"
    }
   ],
   "source": [
    "model.evaluate(val_gen,steps=32)"
   ]
  },
  {
   "cell_type": "code",
   "execution_count": 72,
   "metadata": {},
   "outputs": [
    {
     "data": {
      "image/png": "[encoded data removed]",
      "text/plain": [
       "<Figure size 432x288 with 1 Axes>"
      ]
     },
     "metadata": {
      "needs_background": "light"
     },
     "output_type": "display_data"
    }
   ],
   "source": [
    "plot_results(history)"
   ]
  },
  {
   "cell_type": "markdown",
   "metadata": {},
   "source": [
    "#### Model2 :  Conv3d model with 4 layers for feature extraction and 1 FC Layer"
   ]
  },
  {
   "cell_type": "code",
   "execution_count": 73,
   "metadata": {},
   "outputs": [
    {
     "name": "stdout",
     "output_type": "stream",
     "text": [
      "Model: \"sequential_1\"\n",
      "_________________________________________________________________\n",
      " Layer (type)                Output Shape              Param #   \n",
      "=================================================================\n",
      " conv3d_3 (Conv3D)           (None, 25, 100, 100, 16)  1312      \n",
      "                                                                 \n",
      " batch_normalization_4 (Batc  (None, 25, 100, 100, 16)  64       \n",
      " hNormalization)                                                 \n",
      "                                                                 \n",
      " max_pooling3d_3 (MaxPooling  (None, 12, 50, 50, 16)   0         \n",
      " 3D)                                                             \n",
      "                                                                 \n",
      " conv3d_4 (Conv3D)           (None, 12, 50, 50, 32)    13856     \n",
      "                                                                 \n",
      " batch_normalization_5 (Batc  (None, 12, 50, 50, 32)   128       \n",
      " hNormalization)                                                 \n",
      "                                                                 \n",
      " max_pooling3d_4 (MaxPooling  (None, 6, 25, 25, 32)    0         \n",
      " 3D)                                                             \n",
      "                                                                 \n",
      " conv3d_5 (Conv3D)           (None, 6, 25, 25, 64)     55360     \n",
      "                                                                 \n",
      " batch_normalization_6 (Batc  (None, 6, 25, 25, 64)    256       \n",
      " hNormalization)                                                 \n",
      "                                                                 \n",
      " max_pooling3d_5 (MaxPooling  (None, 3, 12, 12, 64)    0         \n",
      " 3D)                                                             \n",
      "                                                                 \n",
      " conv3d_6 (Conv3D)           (None, 3, 12, 12, 128)    221312    \n",
      "                                                                 \n",
      " batch_normalization_7 (Batc  (None, 3, 12, 12, 128)   512       \n",
      " hNormalization)                                                 \n",
      "                                                                 \n",
      " max_pooling3d_6 (MaxPooling  (None, 1, 6, 6, 128)     0         \n",
      " 3D)                                                             \n",
      "                                                                 \n",
      " dropout (Dropout)           (None, 1, 6, 6, 128)      0         \n",
      "                                                                 \n",
      " flatten_1 (Flatten)         (None, 4608)              0         \n",
      "                                                                 \n",
      " dense_2 (Dense)             (None, 64)                294976    \n",
      "                                                                 \n",
      " batch_normalization_8 (Batc  (None, 64)               256       \n",
      " hNormalization)                                                 \n",
      "                                                                 \n",
      " dropout_1 (Dropout)         (None, 64)                0         \n",
      "                                                                 \n",
      " dense_3 (Dense)             (None, 5)                 325       \n",
      "                                                                 \n",
      "=================================================================\n",
      "Total params: 588,357\n",
      "Trainable params: 587,749\n",
      "Non-trainable params: 608\n",
      "_________________________________________________________________\n",
      "None\n"
     ]
    }
   ],
   "source": [
    "model2=create_conv3d_model([16,32,64,128],[64],drop_out=True)"
   ]
  },
  {
   "cell_type": "code",
   "execution_count": 74,
   "metadata": {},
   "outputs": [
    {
     "name": "stdout",
     "output_type": "stream",
     "text": [
      "# training sequences = 500\n",
      "# validation sequences = 100\n",
      "# epochs = 20\n",
      "steps_per_epoch: 16\n",
      "validations_steps_per_epoch: 16\n"
     ]
    }
   ],
   "source": [
    "num_epochs=20\n",
    "batch_size=32\n",
    "experiment_size=500\n",
    "train_gen,val_gen=datagen(train_df_processed,val_df_processed,batch_size=batch_size,experiment_size=experiment_size,num_epochs=num_epochs)\n",
    "steps_per_epoch,validation_steps=get_steps(experiment_size=experiment_size)"
   ]
  },
  {
   "cell_type": "code",
   "execution_count": 75,
   "metadata": {},
   "outputs": [
    {
     "name": "stderr",
     "output_type": "stream",
     "text": [
      "/tmp/ipykernel_931/1378479748.py:1: UserWarning: `Model.fit_generator` is deprecated and will be removed in a future version. Please use `Model.fit`, which supports generators.\n",
      "  history2=model2.fit_generator(train_gen, steps_per_epoch=steps_per_epoch, epochs=num_epochs, verbose=1,\n"
     ]
    },
    {
     "name": "stdout",
     "output_type": "stream",
     "text": [
      "Epoch 1/20\n",
      "16/16 [==============================] - ETA: 0s - loss: 1.5004 - categorical_accuracy: 0.4320\n",
      "Epoch 00001: val_loss did not improve from 1.67600\n",
      "16/16 [==============================] - 73s 5s/step - loss: 1.5004 - categorical_accuracy: 0.4320 - val_loss: 1.8450 - val_categorical_accuracy: 0.1600 - lr: 0.0010\n",
      "Epoch 2/20\n",
      "16/16 [==============================] - ETA: 0s - loss: 0.8317 - categorical_accuracy: 0.7060\n",
      "Epoch 00002: val_loss did not improve from 1.67600\n",
      "16/16 [==============================] - 68s 5s/step - loss: 0.8317 - categorical_accuracy: 0.7060 - val_loss: 3.9696 - val_categorical_accuracy: 0.1625 - lr: 0.0010\n",
      "Epoch 3/20\n",
      "16/16 [==============================] - ETA: 0s - loss: 0.5468 - categorical_accuracy: 0.8140\n",
      "Epoch 00003: val_loss did not improve from 1.67600\n",
      "16/16 [==============================] - 70s 5s/step - loss: 0.5468 - categorical_accuracy: 0.8140 - val_loss: 5.9512 - val_categorical_accuracy: 0.1475 - lr: 0.0010\n",
      "Epoch 4/20\n",
      "16/16 [==============================] - ETA: 0s - loss: 0.3365 - categorical_accuracy: 0.9020\n",
      "Epoch 00004: val_loss did not improve from 1.67600\n",
      "16/16 [==============================] - 67s 4s/step - loss: 0.3365 - categorical_accuracy: 0.9020 - val_loss: 7.1032 - val_categorical_accuracy: 0.1950 - lr: 0.0010\n",
      "Epoch 5/20\n",
      "16/16 [==============================] - ETA: 0s - loss: 0.2509 - categorical_accuracy: 0.9300\n",
      "Epoch 00005: val_loss did not improve from 1.67600\n",
      "16/16 [==============================] - 67s 4s/step - loss: 0.2509 - categorical_accuracy: 0.9300 - val_loss: 8.1051 - val_categorical_accuracy: 0.2600 - lr: 0.0010\n",
      "Epoch 6/20\n",
      "16/16 [==============================] - ETA: 0s - loss: 0.1652 - categorical_accuracy: 0.9700\n",
      "Epoch 00006: val_loss did not improve from 1.67600\n",
      "16/16 [==============================] - 68s 5s/step - loss: 0.1652 - categorical_accuracy: 0.9700 - val_loss: 8.8798 - val_categorical_accuracy: 0.2275 - lr: 0.0010\n",
      "Epoch 7/20\n",
      "16/16 [==============================] - ETA: 0s - loss: 0.1341 - categorical_accuracy: 0.9720\n",
      "Epoch 00007: val_loss did not improve from 1.67600\n",
      "16/16 [==============================] - 67s 4s/step - loss: 0.1341 - categorical_accuracy: 0.9720 - val_loss: 8.9225 - val_categorical_accuracy: 0.2425 - lr: 0.0010\n",
      "Epoch 8/20\n",
      "16/16 [==============================] - ETA: 0s - loss: 0.0913 - categorical_accuracy: 0.9840\n",
      "Epoch 00008: val_loss did not improve from 1.67600\n",
      "16/16 [==============================] - 66s 4s/step - loss: 0.0913 - categorical_accuracy: 0.9840 - val_loss: 9.7844 - val_categorical_accuracy: 0.2050 - lr: 0.0010\n",
      "Epoch 9/20\n",
      "16/16 [==============================] - ETA: 0s - loss: 0.0709 - categorical_accuracy: 0.9860\n",
      "Epoch 00009: val_loss did not improve from 1.67600\n",
      "16/16 [==============================] - 67s 4s/step - loss: 0.0709 - categorical_accuracy: 0.9860 - val_loss: 10.7089 - val_categorical_accuracy: 0.2100 - lr: 0.0010\n",
      "Epoch 10/20\n",
      "16/16 [==============================] - ETA: 0s - loss: 0.0776 - categorical_accuracy: 0.9860\n",
      "Epoch 00010: val_loss did not improve from 1.67600\n",
      "16/16 [==============================] - 68s 5s/step - loss: 0.0776 - categorical_accuracy: 0.9860 - val_loss: 9.5347 - val_categorical_accuracy: 0.2450 - lr: 0.0010\n",
      "Epoch 11/20\n",
      "16/16 [==============================] - ETA: 0s - loss: 0.0770 - categorical_accuracy: 0.9800\n",
      "Epoch 00011: val_loss did not improve from 1.67600\n",
      "16/16 [==============================] - 67s 4s/step - loss: 0.0770 - categorical_accuracy: 0.9800 - val_loss: 9.9822 - val_categorical_accuracy: 0.2750 - lr: 0.0010\n",
      "Epoch 12/20\n",
      "16/16 [==============================] - ETA: 0s - loss: 0.0697 - categorical_accuracy: 0.9880\n",
      "Epoch 00012: val_loss did not improve from 1.67600\n",
      "16/16 [==============================] - 66s 4s/step - loss: 0.0697 - categorical_accuracy: 0.9880 - val_loss: 9.3546 - val_categorical_accuracy: 0.2000 - lr: 0.0010\n",
      "Epoch 13/20\n",
      "16/16 [==============================] - ETA: 0s - loss: 0.0528 - categorical_accuracy: 0.9940\n",
      "Epoch 00013: val_loss did not improve from 1.67600\n",
      "16/16 [==============================] - 69s 5s/step - loss: 0.0528 - categorical_accuracy: 0.9940 - val_loss: 8.8154 - val_categorical_accuracy: 0.1975 - lr: 0.0010\n",
      "Epoch 14/20\n",
      "16/16 [==============================] - ETA: 0s - loss: 0.0310 - categorical_accuracy: 1.0000\n",
      "Epoch 00014: val_loss did not improve from 1.67600\n",
      "16/16 [==============================] - 69s 5s/step - loss: 0.0310 - categorical_accuracy: 1.0000 - val_loss: 7.9561 - val_categorical_accuracy: 0.2100 - lr: 0.0010\n",
      "Epoch 15/20\n",
      "16/16 [==============================] - ETA: 0s - loss: 0.0227 - categorical_accuracy: 1.0000\n",
      "Epoch 00015: val_loss did not improve from 1.67600\n",
      "16/16 [==============================] - 68s 5s/step - loss: 0.0227 - categorical_accuracy: 1.0000 - val_loss: 7.6880 - val_categorical_accuracy: 0.2400 - lr: 0.0010\n",
      "Epoch 16/20\n",
      "16/16 [==============================] - ETA: 0s - loss: 0.0173 - categorical_accuracy: 1.0000\n",
      "Epoch 00016: val_loss did not improve from 1.67600\n",
      "16/16 [==============================] - 66s 4s/step - loss: 0.0173 - categorical_accuracy: 1.0000 - val_loss: 6.4812 - val_categorical_accuracy: 0.2800 - lr: 0.0010\n",
      "Epoch 17/20\n",
      "16/16 [==============================] - ETA: 0s - loss: 0.0169 - categorical_accuracy: 1.0000\n",
      "Epoch 00017: val_loss did not improve from 1.67600\n",
      "16/16 [==============================] - 68s 4s/step - loss: 0.0169 - categorical_accuracy: 1.0000 - val_loss: 6.0109 - val_categorical_accuracy: 0.2375 - lr: 0.0010\n",
      "Epoch 18/20\n",
      "16/16 [==============================] - ETA: 0s - loss: 0.0125 - categorical_accuracy: 1.0000\n",
      "Epoch 00018: val_loss did not improve from 1.67600\n",
      "16/16 [==============================] - 68s 5s/step - loss: 0.0125 - categorical_accuracy: 1.0000 - val_loss: 6.0276 - val_categorical_accuracy: 0.2300 - lr: 0.0010\n",
      "Epoch 19/20\n",
      "16/16 [==============================] - ETA: 0s - loss: 0.0104 - categorical_accuracy: 1.0000\n",
      "Epoch 00019: val_loss did not improve from 1.67600\n",
      "16/16 [==============================] - 68s 4s/step - loss: 0.0104 - categorical_accuracy: 1.0000 - val_loss: 5.3895 - val_categorical_accuracy: 0.2925 - lr: 0.0010\n",
      "Epoch 20/20\n",
      "16/16 [==============================] - ETA: 0s - loss: 0.0084 - categorical_accuracy: 1.0000\n",
      "Epoch 00020: val_loss did not improve from 1.67600\n",
      "16/16 [==============================] - 67s 4s/step - loss: 0.0084 - categorical_accuracy: 1.0000 - val_loss: 5.5098 - val_categorical_accuracy: 0.2775 - lr: 0.0010\n"
     ]
    }
   ],
   "source": [
    "history2=model2.fit_generator(train_gen, steps_per_epoch=steps_per_epoch, epochs=num_epochs, verbose=1, \n",
    "                    callbacks=callbacks_list, validation_data=val_gen, \n",
    "                    validation_steps=validation_steps, class_weight=None, workers=1, initial_epoch=0)"
   ]
  },
  {
   "cell_type": "code",
   "execution_count": 76,
   "metadata": {},
   "outputs": [
    {
     "name": "stdout",
     "output_type": "stream",
     "text": [
      "100/100 [==============================] - 197s 2s/step - loss: 5.4134 - categorical_accuracy: 0.2884\n"
     ]
    },
    {
     "data": {
      "text/plain": [
       "[5.41340446472168, 0.28839999437332153]"
      ]
     },
     "execution_count": 76,
     "metadata": {},
     "output_type": "execute_result"
    }
   ],
   "source": [
    "model2.evaluate(val_gen,steps=100)"
   ]
  },
  {
   "cell_type": "code",
   "execution_count": 77,
   "metadata": {},
   "outputs": [
    {
     "data": {
      "image/png": "[encoded data removed]",
      "text/plain": [
       "<Figure size 432x288 with 1 Axes>"
      ]
     },
     "metadata": {
      "needs_background": "light"
     },
     "output_type": "display_data"
    }
   ],
   "source": [
    "plot_results(history2)"
   ]
  },
  {
   "cell_type": "markdown",
   "metadata": {},
   "source": [
    "#### Model3 :  Conv3d model with 4 layers for feature extraction and 2 FC Layer"
   ]
  },
  {
   "cell_type": "code",
   "execution_count": 78,
   "metadata": {},
   "outputs": [
    {
     "name": "stdout",
     "output_type": "stream",
     "text": [
      "# training sequences = 663\n",
      "# validation sequences = 100\n",
      "# epochs = 20\n",
      "steps_per_epoch: 34\n",
      "validations_steps_per_epoch: 34\n"
     ]
    }
   ],
   "source": [
    "num_epochs=20\n",
    "batch_size=20\n",
    "experiment_size=663\n",
    "train_gen,val_gen=datagen(train_df_processed,val_df_processed,batch_size=batch_size,experiment_size=experiment_size,num_epochs=num_epochs)\n",
    "steps_per_epoch,validation_steps=get_steps(experiment_size=experiment_size)"
   ]
  },
  {
   "cell_type": "code",
   "execution_count": 79,
   "metadata": {},
   "outputs": [
    {
     "name": "stdout",
     "output_type": "stream",
     "text": [
      "Model: \"sequential_2\"\n",
      "_________________________________________________________________\n",
      " Layer (type)                Output Shape              Param #   \n",
      "=================================================================\n",
      " conv3d_7 (Conv3D)           (None, 25, 100, 100, 16)  1312      \n",
      "                                                                 \n",
      " batch_normalization_9 (Batc  (None, 25, 100, 100, 16)  64       \n",
      " hNormalization)                                                 \n",
      "                                                                 \n",
      " max_pooling3d_7 (MaxPooling  (None, 12, 50, 50, 16)   0         \n",
      " 3D)                                                             \n",
      "                                                                 \n",
      " conv3d_8 (Conv3D)           (None, 12, 50, 50, 32)    13856     \n",
      "                                                                 \n",
      " batch_normalization_10 (Bat  (None, 12, 50, 50, 32)   128       \n",
      " chNormalization)                                                \n",
      "                                                                 \n",
      " max_pooling3d_8 (MaxPooling  (None, 6, 25, 25, 32)    0         \n",
      " 3D)                                                             \n",
      "                                                                 \n",
      " conv3d_9 (Conv3D)           (None, 6, 25, 25, 64)     55360     \n",
      "                                                                 \n",
      " batch_normalization_11 (Bat  (None, 6, 25, 25, 64)    256       \n",
      " chNormalization)                                                \n",
      "                                                                 \n",
      " max_pooling3d_9 (MaxPooling  (None, 3, 12, 12, 64)    0         \n",
      " 3D)                                                             \n",
      "                                                                 \n",
      " conv3d_10 (Conv3D)          (None, 3, 12, 12, 128)    221312    \n",
      "                                                                 \n",
      " batch_normalization_12 (Bat  (None, 3, 12, 12, 128)   512       \n",
      " chNormalization)                                                \n",
      "                                                                 \n",
      " max_pooling3d_10 (MaxPoolin  (None, 1, 6, 6, 128)     0         \n",
      " g3D)                                                            \n",
      "                                                                 \n",
      " dropout_2 (Dropout)         (None, 1, 6, 6, 128)      0         \n",
      "                                                                 \n",
      " flatten_2 (Flatten)         (None, 4608)              0         \n",
      "                                                                 \n",
      " dense_4 (Dense)             (None, 128)               589952    \n",
      "                                                                 \n",
      " batch_normalization_13 (Bat  (None, 128)              512       \n",
      " chNormalization)                                                \n",
      "                                                                 \n",
      " dropout_3 (Dropout)         (None, 128)               0         \n",
      "                                                                 \n",
      " dense_5 (Dense)             (None, 64)                8256      \n",
      "                                                                 \n",
      " batch_normalization_14 (Bat  (None, 64)               256       \n",
      " chNormalization)                                                \n",
      "                                                                 \n",
      " dropout_4 (Dropout)         (None, 64)                0         \n",
      "                                                                 \n",
      " dense_6 (Dense)             (None, 5)                 325       \n",
      "                                                                 \n",
      "=================================================================\n",
      "Total params: 892,101\n",
      "Trainable params: 891,237\n",
      "Non-trainable params: 864\n",
      "_________________________________________________________________\n",
      "None\n"
     ]
    }
   ],
   "source": [
    "model3=create_conv3d_model([16,32,64,128],[128,64],drop_out=True)"
   ]
  },
  {
   "cell_type": "code",
   "execution_count": 80,
   "metadata": {},
   "outputs": [
    {
     "name": "stderr",
     "output_type": "stream",
     "text": [
      "/tmp/ipykernel_931/2799545467.py:1: UserWarning: `Model.fit_generator` is deprecated and will be removed in a future version. Please use `Model.fit`, which supports generators.\n",
      "  history3=model3.fit_generator(train_gen, steps_per_epoch=steps_per_epoch, epochs=num_epochs, verbose=1,\n"
     ]
    },
    {
     "name": "stdout",
     "output_type": "stream",
     "text": [
      "Epoch 1/20\n",
      "34/34 [==============================] - ETA: 0s - loss: 1.5435 - categorical_accuracy: 0.4087\n",
      "Epoch 00001: val_loss did not improve from 1.67600\n",
      "34/34 [==============================] - 98s 3s/step - loss: 1.5435 - categorical_accuracy: 0.4087 - val_loss: 2.6461 - val_categorical_accuracy: 0.2259 - lr: 0.0010\n",
      "Epoch 2/20\n",
      "34/34 [==============================] - ETA: 0s - loss: 1.0768 - categorical_accuracy: 0.5913\n",
      "Epoch 00002: val_loss did not improve from 1.67600\n",
      "34/34 [==============================] - 95s 3s/step - loss: 1.0768 - categorical_accuracy: 0.5913 - val_loss: 1.9008 - val_categorical_accuracy: 0.3679 - lr: 0.0010\n",
      "Epoch 3/20\n",
      "34/34 [==============================] - ETA: 0s - loss: 0.8739 - categorical_accuracy: 0.6440\n",
      "Epoch 00003: val_loss did not improve from 1.67600\n",
      "34/34 [==============================] - 92s 3s/step - loss: 0.8739 - categorical_accuracy: 0.6440 - val_loss: 2.8821 - val_categorical_accuracy: 0.1750 - lr: 0.0010\n",
      "Epoch 4/20\n",
      "34/34 [==============================] - ETA: 0s - loss: 0.6836 - categorical_accuracy: 0.7391\n",
      "Epoch 00004: val_loss did not improve from 1.67600\n",
      "34/34 [==============================] - 93s 3s/step - loss: 0.6836 - categorical_accuracy: 0.7391 - val_loss: 3.1490 - val_categorical_accuracy: 0.2411 - lr: 0.0010\n",
      "Epoch 5/20\n",
      "34/34 [==============================] - ETA: 0s - loss: 0.6598 - categorical_accuracy: 0.7587\n",
      "Epoch 00005: val_loss did not improve from 1.67600\n",
      "34/34 [==============================] - 91s 3s/step - loss: 0.6598 - categorical_accuracy: 0.7587 - val_loss: 2.6523 - val_categorical_accuracy: 0.2893 - lr: 0.0010\n",
      "Epoch 6/20\n",
      "34/34 [==============================] - ETA: 0s - loss: 0.6026 - categorical_accuracy: 0.7692\n",
      "Epoch 00006: val_loss did not improve from 1.67600\n",
      "34/34 [==============================] - 92s 3s/step - loss: 0.6026 - categorical_accuracy: 0.7692 - val_loss: 2.6305 - val_categorical_accuracy: 0.3000 - lr: 0.0010\n",
      "Epoch 7/20\n",
      "34/34 [==============================] - ETA: 0s - loss: 0.4575 - categorical_accuracy: 0.8250\n",
      "Epoch 00007: val_loss did not improve from 1.67600\n",
      "34/34 [==============================] - 93s 3s/step - loss: 0.4575 - categorical_accuracy: 0.8250 - val_loss: 2.5292 - val_categorical_accuracy: 0.3828 - lr: 0.0010\n",
      "Epoch 8/20\n",
      "34/34 [==============================] - ETA: 0s - loss: 0.4008 - categorical_accuracy: 0.8643\n",
      "Epoch 00008: val_loss did not improve from 1.67600\n",
      "34/34 [==============================] - 92s 3s/step - loss: 0.4008 - categorical_accuracy: 0.8643 - val_loss: 1.8252 - val_categorical_accuracy: 0.4571 - lr: 0.0010\n",
      "Epoch 9/20\n",
      "34/34 [==============================] - ETA: 0s - loss: 0.4899 - categorical_accuracy: 0.8145\n",
      "Epoch 00009: val_loss did not improve from 1.67600\n",
      "34/34 [==============================] - 92s 3s/step - loss: 0.4899 - categorical_accuracy: 0.8145 - val_loss: 3.3852 - val_categorical_accuracy: 0.2214 - lr: 0.0010\n",
      "Epoch 10/20\n",
      "34/34 [==============================] - ETA: 0s - loss: 0.4139 - categorical_accuracy: 0.8597\n",
      "Epoch 00010: val_loss did not improve from 1.67600\n",
      "34/34 [==============================] - 92s 3s/step - loss: 0.4139 - categorical_accuracy: 0.8597 - val_loss: 2.4323 - val_categorical_accuracy: 0.3179 - lr: 0.0010\n",
      "Epoch 11/20\n",
      "34/34 [==============================] - ETA: 0s - loss: 0.3204 - categorical_accuracy: 0.8869\n",
      "Epoch 00011: val_loss did not improve from 1.67600\n",
      "34/34 [==============================] - 96s 3s/step - loss: 0.3204 - categorical_accuracy: 0.8869 - val_loss: 2.0547 - val_categorical_accuracy: 0.3375 - lr: 0.0010\n",
      "Epoch 12/20\n",
      "34/34 [==============================] - ETA: 0s - loss: 0.3239 - categorical_accuracy: 0.8824\n",
      "Epoch 00012: val_loss improved from 1.67600 to 1.35601, saving model to model_init_2025-01-2411_10_43.445280/model-00012-0.32394-0.88235-1.35601-0.54483.h5\n",
      "34/34 [==============================] - 93s 3s/step - loss: 0.3239 - categorical_accuracy: 0.8824 - val_loss: 1.3560 - val_categorical_accuracy: 0.5448 - lr: 0.0010\n",
      "Epoch 13/20\n",
      "34/34 [==============================] - ETA: 0s - loss: 0.3101 - categorical_accuracy: 0.8899\n",
      "Epoch 00013: val_loss did not improve from 1.35601\n",
      "34/34 [==============================] - 94s 3s/step - loss: 0.3101 - categorical_accuracy: 0.8899 - val_loss: 1.9795 - val_categorical_accuracy: 0.4431 - lr: 0.0010\n",
      "Epoch 14/20\n",
      "34/34 [==============================] - ETA: 0s - loss: 0.4003 - categorical_accuracy: 0.8627\n",
      "Epoch 00014: val_loss did not improve from 1.35601\n",
      "34/34 [==============================] - 93s 3s/step - loss: 0.4003 - categorical_accuracy: 0.8627 - val_loss: 3.6275 - val_categorical_accuracy: 0.2696 - lr: 0.0010\n",
      "Epoch 15/20\n",
      "34/34 [==============================] - ETA: 0s - loss: 0.5661 - categorical_accuracy: 0.7813\n",
      "Epoch 00015: val_loss did not improve from 1.35601\n",
      "34/34 [==============================] - 93s 3s/step - loss: 0.5661 - categorical_accuracy: 0.7813 - val_loss: 1.4088 - val_categorical_accuracy: 0.5964 - lr: 0.0010\n",
      "Epoch 16/20\n",
      "34/34 [==============================] - ETA: 0s - loss: 0.4752 - categorical_accuracy: 0.8356\n",
      "Epoch 00016: val_loss improved from 1.35601 to 0.99466, saving model to model_init_2025-01-2411_10_43.445280/model-00016-0.47518-0.83560-0.99466-0.66071.h5\n",
      "34/34 [==============================] - 95s 3s/step - loss: 0.4752 - categorical_accuracy: 0.8356 - val_loss: 0.9947 - val_categorical_accuracy: 0.6607 - lr: 0.0010\n",
      "Epoch 17/20\n",
      "34/34 [==============================] - ETA: 0s - loss: 0.3716 - categorical_accuracy: 0.8522\n",
      "Epoch 00017: val_loss did not improve from 0.99466\n",
      "34/34 [==============================] - 93s 3s/step - loss: 0.3716 - categorical_accuracy: 0.8522 - val_loss: 1.7466 - val_categorical_accuracy: 0.5214 - lr: 0.0010\n",
      "Epoch 18/20\n",
      "34/34 [==============================] - ETA: 0s - loss: 0.4242 - categorical_accuracy: 0.8507\n",
      "Epoch 00018: val_loss did not improve from 0.99466\n",
      "34/34 [==============================] - 95s 3s/step - loss: 0.4242 - categorical_accuracy: 0.8507 - val_loss: 1.6173 - val_categorical_accuracy: 0.5310 - lr: 0.0010\n",
      "Epoch 19/20\n",
      "34/34 [==============================] - ETA: 0s - loss: 0.3766 - categorical_accuracy: 0.8612\n",
      "Epoch 00019: val_loss did not improve from 0.99466\n",
      "34/34 [==============================] - 95s 3s/step - loss: 0.3766 - categorical_accuracy: 0.8612 - val_loss: 1.6838 - val_categorical_accuracy: 0.6207 - lr: 0.0010\n",
      "Epoch 20/20\n",
      "34/34 [==============================] - ETA: 0s - loss: 0.4422 - categorical_accuracy: 0.8326\n",
      "Epoch 00020: val_loss improved from 0.99466 to 0.82775, saving model to model_init_2025-01-2411_10_43.445280/model-00020-0.44217-0.83258-0.82775-0.71786.h5\n",
      "34/34 [==============================] - 95s 3s/step - loss: 0.4422 - categorical_accuracy: 0.8326 - val_loss: 0.8277 - val_categorical_accuracy: 0.7179 - lr: 0.0010\n"
     ]
    }
   ],
   "source": [
    "history3=model3.fit_generator(train_gen, steps_per_epoch=steps_per_epoch, epochs=num_epochs, verbose=1, \n",
    "                    callbacks=callbacks_list, validation_data=val_gen, \n",
    "                    validation_steps=validation_steps, class_weight=None, workers=1, initial_epoch=0)"
   ]
  },
  {
   "cell_type": "code",
   "execution_count": 81,
   "metadata": {},
   "outputs": [
    {
     "name": "stdout",
     "output_type": "stream",
     "text": [
      "100/100 [==============================] - 137s 1s/step - loss: 0.8127 - categorical_accuracy: 0.7199\n"
     ]
    },
    {
     "data": {
      "text/plain": [
       "[0.8127090930938721, 0.7198795080184937]"
      ]
     },
     "execution_count": 81,
     "metadata": {},
     "output_type": "execute_result"
    }
   ],
   "source": [
    "model3.evaluate(val_gen,steps=100)"
   ]
  },
  {
   "cell_type": "code",
   "execution_count": 83,
   "metadata": {},
   "outputs": [
    {
     "data": {
      "image/png": "[encoded data removed]",
      "text/plain": [
       "<Figure size 432x288 with 1 Axes>"
      ]
     },
     "metadata": {
      "needs_background": "light"
     },
     "output_type": "display_data"
    }
   ],
   "source": [
    "plot_results(history3)"
   ]
  },
  {
   "cell_type": "markdown",
   "metadata": {},
   "source": [
    "#### Model4 :  Conv3d model with 4 layers for feature extraction and 3 FC Layer"
   ]
  },
  {
   "cell_type": "code",
   "execution_count": 84,
   "metadata": {},
   "outputs": [
    {
     "name": "stdout",
     "output_type": "stream",
     "text": [
      "Model: \"sequential_3\"\n",
      "_________________________________________________________________\n",
      " Layer (type)                Output Shape              Param #   \n",
      "=================================================================\n",
      " conv3d_11 (Conv3D)          (None, 25, 100, 100, 16)  1312      \n",
      "                                                                 \n",
      " batch_normalization_15 (Bat  (None, 25, 100, 100, 16)  64       \n",
      " chNormalization)                                                \n",
      "                                                                 \n",
      " max_pooling3d_11 (MaxPoolin  (None, 12, 50, 50, 16)   0         \n",
      " g3D)                                                            \n",
      "                                                                 \n",
      " conv3d_12 (Conv3D)          (None, 12, 50, 50, 32)    13856     \n",
      "                                                                 \n",
      " batch_normalization_16 (Bat  (None, 12, 50, 50, 32)   128       \n",
      " chNormalization)                                                \n",
      "                                                                 \n",
      " max_pooling3d_12 (MaxPoolin  (None, 6, 25, 25, 32)    0         \n",
      " g3D)                                                            \n",
      "                                                                 \n",
      " conv3d_13 (Conv3D)          (None, 6, 25, 25, 64)     55360     \n",
      "                                                                 \n",
      " batch_normalization_17 (Bat  (None, 6, 25, 25, 64)    256       \n",
      " chNormalization)                                                \n",
      "                                                                 \n",
      " max_pooling3d_13 (MaxPoolin  (None, 3, 12, 12, 64)    0         \n",
      " g3D)                                                            \n",
      "                                                                 \n",
      " conv3d_14 (Conv3D)          (None, 3, 12, 12, 128)    221312    \n",
      "                                                                 \n",
      " batch_normalization_18 (Bat  (None, 3, 12, 12, 128)   512       \n",
      " chNormalization)                                                \n",
      "                                                                 \n",
      " max_pooling3d_14 (MaxPoolin  (None, 1, 6, 6, 128)     0         \n",
      " g3D)                                                            \n",
      "                                                                 \n",
      " dropout_5 (Dropout)         (None, 1, 6, 6, 128)      0         \n",
      "                                                                 \n",
      " flatten_3 (Flatten)         (None, 4608)              0         \n",
      "                                                                 \n",
      " dense_7 (Dense)             (None, 256)               1179904   \n",
      "                                                                 \n",
      " batch_normalization_19 (Bat  (None, 256)              1024      \n",
      " chNormalization)                                                \n",
      "                                                                 \n",
      " dropout_6 (Dropout)         (None, 256)               0         \n",
      "                                                                 \n",
      " dense_8 (Dense)             (None, 128)               32896     \n",
      "                                                                 \n",
      " batch_normalization_20 (Bat  (None, 128)              512       \n",
      " chNormalization)                                                \n",
      "                                                                 \n",
      " dropout_7 (Dropout)         (None, 128)               0         \n",
      "                                                                 \n",
      " dense_9 (Dense)             (None, 64)                8256      \n",
      "                                                                 \n",
      " batch_normalization_21 (Bat  (None, 64)               256       \n",
      " chNormalization)                                                \n",
      "                                                                 \n",
      " dropout_8 (Dropout)         (None, 64)                0         \n",
      "                                                                 \n",
      " dense_10 (Dense)            (None, 5)                 325       \n",
      "                                                                 \n",
      "=================================================================\n",
      "Total params: 1,515,973\n",
      "Trainable params: 1,514,597\n",
      "Non-trainable params: 1,376\n",
      "_________________________________________________________________\n",
      "None\n"
     ]
    }
   ],
   "source": [
    "model4=create_conv3d_model([16,32,64,128],[256,128,64],drop_out=True)"
   ]
  },
  {
   "cell_type": "code",
   "execution_count": 85,
   "metadata": {},
   "outputs": [
    {
     "name": "stdout",
     "output_type": "stream",
     "text": [
      "# training sequences = 663\n",
      "# validation sequences = 100\n",
      "# epochs = 30\n",
      "steps_per_epoch: 67\n",
      "validations_steps_per_epoch: 67\n"
     ]
    }
   ],
   "source": [
    "num_epochs=30\n",
    "batch_size=10\n",
    "experiment_size=663\n",
    "train_gen,val_gen=datagen(train_df_processed,val_df_processed,batch_size=batch_size,experiment_size=experiment_size,num_epochs=num_epochs)\n",
    "steps_per_epoch,validation_steps=get_steps(experiment_size=experiment_size)"
   ]
  },
  {
   "cell_type": "code",
   "execution_count": 86,
   "metadata": {},
   "outputs": [
    {
     "name": "stderr",
     "output_type": "stream",
     "text": [
      "/tmp/ipykernel_931/3943903819.py:1: UserWarning: `Model.fit_generator` is deprecated and will be removed in a future version. Please use `Model.fit`, which supports generators.\n",
      "  history4=model4.fit_generator(train_gen, steps_per_epoch=steps_per_epoch, epochs=num_epochs, verbose=1,\n"
     ]
    },
    {
     "name": "stdout",
     "output_type": "stream",
     "text": [
      "Epoch 1/30\n",
      "67/67 [==============================] - ETA: 0s - loss: 1.7987 - categorical_accuracy: 0.3529\n",
      "Epoch 00001: val_loss did not improve from 0.82775\n",
      "67/67 [==============================] - 103s 2s/step - loss: 1.7987 - categorical_accuracy: 0.3529 - val_loss: 2.0738 - val_categorical_accuracy: 0.2410 - lr: 0.0010\n",
      "Epoch 2/30\n",
      "67/67 [==============================] - ETA: 0s - loss: 1.4106 - categorical_accuracy: 0.4766\n",
      "Epoch 00002: val_loss did not improve from 0.82775\n",
      "67/67 [==============================] - 98s 1s/step - loss: 1.4106 - categorical_accuracy: 0.4766 - val_loss: 4.1047 - val_categorical_accuracy: 0.2082 - lr: 0.0010\n",
      "Epoch 3/30\n",
      "67/67 [==============================] - ETA: 0s - loss: 1.2351 - categorical_accuracy: 0.5219\n",
      "Epoch 00003: val_loss did not improve from 0.82775\n",
      "67/67 [==============================] - 96s 1s/step - loss: 1.2351 - categorical_accuracy: 0.5219 - val_loss: 4.3396 - val_categorical_accuracy: 0.1574 - lr: 0.0010\n",
      "Epoch 4/30\n",
      "67/67 [==============================] - ETA: 0s - loss: 1.1644 - categorical_accuracy: 0.5370\n",
      "Epoch 00004: val_loss did not improve from 0.82775\n",
      "67/67 [==============================] - 95s 1s/step - loss: 1.1644 - categorical_accuracy: 0.5370 - val_loss: 2.9049 - val_categorical_accuracy: 0.2098 - lr: 0.0010\n",
      "Epoch 5/30\n",
      "67/67 [==============================] - ETA: 0s - loss: 1.0786 - categorical_accuracy: 0.6033\n",
      "Epoch 00005: val_loss did not improve from 0.82775\n",
      "67/67 [==============================] - 95s 1s/step - loss: 1.0786 - categorical_accuracy: 0.6033 - val_loss: 2.2049 - val_categorical_accuracy: 0.3344 - lr: 0.0010\n",
      "Epoch 6/30\n",
      "67/67 [==============================] - ETA: 0s - loss: 0.9944 - categorical_accuracy: 0.6199\n",
      "Epoch 00006: val_loss did not improve from 0.82775\n",
      "67/67 [==============================] - 92s 1s/step - loss: 0.9944 - categorical_accuracy: 0.6199 - val_loss: 4.8900 - val_categorical_accuracy: 0.2300 - lr: 0.0010\n",
      "Epoch 7/30\n",
      "67/67 [==============================] - ETA: 0s - loss: 0.9647 - categorical_accuracy: 0.6410\n",
      "Epoch 00007: val_loss did not improve from 0.82775\n",
      "67/67 [==============================] - 95s 1s/step - loss: 0.9647 - categorical_accuracy: 0.6410 - val_loss: 1.8708 - val_categorical_accuracy: 0.4049 - lr: 0.0010\n",
      "Epoch 8/30\n",
      "67/67 [==============================] - ETA: 0s - loss: 0.8639 - categorical_accuracy: 0.6712\n",
      "Epoch 00008: val_loss did not improve from 0.82775\n",
      "67/67 [==============================] - 95s 1s/step - loss: 0.8639 - categorical_accuracy: 0.6712 - val_loss: 2.2599 - val_categorical_accuracy: 0.3197 - lr: 0.0010\n",
      "Epoch 9/30\n",
      "67/67 [==============================] - ETA: 0s - loss: 0.9590 - categorical_accuracy: 0.6335\n",
      "Epoch 00009: val_loss did not improve from 0.82775\n",
      "67/67 [==============================] - 95s 1s/step - loss: 0.9590 - categorical_accuracy: 0.6335 - val_loss: 0.9396 - val_categorical_accuracy: 0.6492 - lr: 0.0010\n",
      "Epoch 10/30\n",
      "67/67 [==============================] - ETA: 0s - loss: 0.7989 - categorical_accuracy: 0.6833\n",
      "Epoch 00010: val_loss did not improve from 0.82775\n",
      "67/67 [==============================] - 92s 1s/step - loss: 0.7989 - categorical_accuracy: 0.6833 - val_loss: 1.4837 - val_categorical_accuracy: 0.5246 - lr: 0.0010\n",
      "Epoch 11/30\n",
      "67/67 [==============================] - ETA: 0s - loss: 0.8268 - categorical_accuracy: 0.6802\n",
      "Epoch 00011: val_loss did not improve from 0.82775\n",
      "67/67 [==============================] - 92s 1s/step - loss: 0.8268 - categorical_accuracy: 0.6802 - val_loss: 2.1630 - val_categorical_accuracy: 0.3836 - lr: 0.0010\n",
      "Epoch 12/30\n",
      "67/67 [==============================] - ETA: 0s - loss: 0.7547 - categorical_accuracy: 0.7300\n",
      "Epoch 00012: val_loss did not improve from 0.82775\n",
      "67/67 [==============================] - 93s 1s/step - loss: 0.7547 - categorical_accuracy: 0.7300 - val_loss: 1.8747 - val_categorical_accuracy: 0.4311 - lr: 0.0010\n",
      "Epoch 13/30\n",
      "67/67 [==============================] - ETA: 0s - loss: 0.6923 - categorical_accuracy: 0.7360\n",
      "Epoch 00013: val_loss did not improve from 0.82775\n",
      "67/67 [==============================] - 93s 1s/step - loss: 0.6923 - categorical_accuracy: 0.7360 - val_loss: 1.6277 - val_categorical_accuracy: 0.5328 - lr: 0.0010\n",
      "Epoch 14/30\n",
      "67/67 [==============================] - ETA: 0s - loss: 0.6013 - categorical_accuracy: 0.7738\n",
      "Epoch 00014: val_loss did not improve from 0.82775\n",
      "67/67 [==============================] - 95s 1s/step - loss: 0.6013 - categorical_accuracy: 0.7738 - val_loss: 1.0312 - val_categorical_accuracy: 0.7361 - lr: 0.0010\n",
      "Epoch 15/30\n",
      "67/67 [==============================] - ETA: 0s - loss: 0.6292 - categorical_accuracy: 0.7587\n",
      "Epoch 00015: val_loss did not improve from 0.82775\n",
      "67/67 [==============================] - 96s 1s/step - loss: 0.6292 - categorical_accuracy: 0.7587 - val_loss: 0.9054 - val_categorical_accuracy: 0.6344 - lr: 0.0010\n",
      "Epoch 16/30\n",
      "67/67 [==============================] - ETA: 0s - loss: 0.6585 - categorical_accuracy: 0.7557\n",
      "Epoch 00016: val_loss did not improve from 0.82775\n",
      "67/67 [==============================] - 105s 2s/step - loss: 0.6585 - categorical_accuracy: 0.7557 - val_loss: 1.7150 - val_categorical_accuracy: 0.4180 - lr: 0.0010\n",
      "Epoch 17/30\n",
      "67/67 [==============================] - ETA: 0s - loss: 0.7090 - categorical_accuracy: 0.7179\n",
      "Epoch 00017: val_loss did not improve from 0.82775\n",
      "67/67 [==============================] - 98s 1s/step - loss: 0.7090 - categorical_accuracy: 0.7179 - val_loss: 1.7060 - val_categorical_accuracy: 0.5700 - lr: 0.0010\n",
      "Epoch 18/30\n",
      "67/67 [==============================] - ETA: 0s - loss: 0.5477 - categorical_accuracy: 0.8054\n",
      "Epoch 00018: val_loss did not improve from 0.82775\n",
      "67/67 [==============================] - 92s 1s/step - loss: 0.5477 - categorical_accuracy: 0.8054 - val_loss: 0.9691 - val_categorical_accuracy: 0.5803 - lr: 0.0010\n",
      "Epoch 19/30\n",
      "67/67 [==============================] - ETA: 0s - loss: 0.4351 - categorical_accuracy: 0.8371\n",
      "Epoch 00019: val_loss improved from 0.82775 to 0.78265, saving model to model_init_2025-01-2411_10_43.445280/model-00019-0.43510-0.83710-0.78265-0.67213.h5\n",
      "67/67 [==============================] - 93s 1s/step - loss: 0.4351 - categorical_accuracy: 0.8371 - val_loss: 0.7826 - val_categorical_accuracy: 0.6721 - lr: 0.0010\n",
      "Epoch 20/30\n",
      "67/67 [==============================] - ETA: 0s - loss: 0.5489 - categorical_accuracy: 0.8054\n",
      "Epoch 00020: val_loss did not improve from 0.78265\n",
      "67/67 [==============================] - 96s 1s/step - loss: 0.5489 - categorical_accuracy: 0.8054 - val_loss: 1.2049 - val_categorical_accuracy: 0.6016 - lr: 0.0010\n",
      "Epoch 21/30\n",
      "67/67 [==============================] - ETA: 0s - loss: 0.4743 - categorical_accuracy: 0.8296\n",
      "Epoch 00021: val_loss did not improve from 0.78265\n",
      "67/67 [==============================] - 93s 1s/step - loss: 0.4743 - categorical_accuracy: 0.8296 - val_loss: 1.0837 - val_categorical_accuracy: 0.6508 - lr: 0.0010\n",
      "Epoch 22/30\n",
      "67/67 [==============================] - ETA: 0s - loss: 0.4998 - categorical_accuracy: 0.8175\n",
      "Epoch 00022: val_loss improved from 0.78265 to 0.75121, saving model to model_init_2025-01-2411_10_43.445280/model-00022-0.49978-0.81750-0.75121-0.68852.h5\n",
      "67/67 [==============================] - 92s 1s/step - loss: 0.4998 - categorical_accuracy: 0.8175 - val_loss: 0.7512 - val_categorical_accuracy: 0.6885 - lr: 0.0010\n",
      "Epoch 23/30\n",
      "67/67 [==============================] - ETA: 0s - loss: 0.4407 - categorical_accuracy: 0.8371\n",
      "Epoch 00023: val_loss did not improve from 0.75121\n",
      "67/67 [==============================] - 94s 1s/step - loss: 0.4407 - categorical_accuracy: 0.8371 - val_loss: 1.2126 - val_categorical_accuracy: 0.5590 - lr: 0.0010\n",
      "Epoch 24/30\n",
      "67/67 [==============================] - ETA: 0s - loss: 0.5225 - categorical_accuracy: 0.8205\n",
      "Epoch 00024: val_loss did not improve from 0.75121\n",
      "67/67 [==============================] - 92s 1s/step - loss: 0.5225 - categorical_accuracy: 0.8205 - val_loss: 7.9701 - val_categorical_accuracy: 0.3098 - lr: 0.0010\n",
      "Epoch 25/30\n",
      "67/67 [==============================] - ETA: 0s - loss: 0.5420 - categorical_accuracy: 0.7979\n",
      "Epoch 00025: val_loss did not improve from 0.75121\n",
      "67/67 [==============================] - 93s 1s/step - loss: 0.5420 - categorical_accuracy: 0.7979 - val_loss: 2.7969 - val_categorical_accuracy: 0.3246 - lr: 0.0010\n",
      "Epoch 26/30\n",
      "67/67 [==============================] - ETA: 0s - loss: 0.5007 - categorical_accuracy: 0.8160\n",
      "Epoch 00026: val_loss did not improve from 0.75121\n",
      "67/67 [==============================] - 94s 1s/step - loss: 0.5007 - categorical_accuracy: 0.8160 - val_loss: 1.7676 - val_categorical_accuracy: 0.5049 - lr: 0.0010\n",
      "Epoch 27/30\n",
      "67/67 [==============================] - ETA: 0s - loss: 0.4379 - categorical_accuracy: 0.8371\n",
      "Epoch 00027: val_loss did not improve from 0.75121\n",
      "67/67 [==============================] - 94s 1s/step - loss: 0.4379 - categorical_accuracy: 0.8371 - val_loss: 0.7754 - val_categorical_accuracy: 0.7213 - lr: 0.0010\n",
      "Epoch 28/30\n",
      "67/67 [==============================] - ETA: 0s - loss: 0.3842 - categorical_accuracy: 0.8627\n",
      "Epoch 00028: val_loss did not improve from 0.75121\n",
      "67/67 [==============================] - 93s 1s/step - loss: 0.3842 - categorical_accuracy: 0.8627 - val_loss: 0.9449 - val_categorical_accuracy: 0.7200 - lr: 0.0010\n",
      "Epoch 29/30\n",
      "67/67 [==============================] - ETA: 0s - loss: 0.3122 - categorical_accuracy: 0.8959\n",
      "Epoch 00029: val_loss did not improve from 0.75121\n",
      "67/67 [==============================] - 94s 1s/step - loss: 0.3122 - categorical_accuracy: 0.8959 - val_loss: 0.7732 - val_categorical_accuracy: 0.7213 - lr: 0.0010\n",
      "Epoch 30/30\n",
      "67/67 [==============================] - ETA: 0s - loss: 0.3718 - categorical_accuracy: 0.8643\n",
      "Epoch 00030: val_loss improved from 0.75121 to 0.67214, saving model to model_init_2025-01-2411_10_43.445280/model-00030-0.37180-0.86425-0.67214-0.77705.h5\n",
      "67/67 [==============================] - 92s 1s/step - loss: 0.3718 - categorical_accuracy: 0.8643 - val_loss: 0.6721 - val_categorical_accuracy: 0.7770 - lr: 0.0010\n"
     ]
    }
   ],
   "source": [
    "history4=model4.fit_generator(train_gen, steps_per_epoch=steps_per_epoch, epochs=num_epochs, verbose=1, \n",
    "                    callbacks=callbacks_list, validation_data=val_gen, \n",
    "                    validation_steps=validation_steps, class_weight=None, workers=1, initial_epoch=0)"
   ]
  },
  {
   "cell_type": "code",
   "execution_count": 87,
   "metadata": {},
   "outputs": [
    {
     "data": {
      "image/png": "[encoded data removed]",
      "text/plain": [
       "<Figure size 432x288 with 1 Axes>"
      ]
     },
     "metadata": {
      "needs_background": "light"
     },
     "output_type": "display_data"
    }
   ],
   "source": [
    "plot_results(history4)"
   ]
  },
  {
   "cell_type": "markdown",
   "metadata": {},
   "source": [
    "#### Model5 :  Conv3d model with 4 layers for feature extraction and 2 FC Layer , kernel shape as 5"
   ]
  },
  {
   "cell_type": "code",
   "execution_count": 88,
   "metadata": {},
   "outputs": [
    {
     "name": "stdout",
     "output_type": "stream",
     "text": [
      "Model: \"sequential_4\"\n",
      "_________________________________________________________________\n",
      " Layer (type)                Output Shape              Param #   \n",
      "=================================================================\n",
      " conv3d_15 (Conv3D)          (None, 25, 100, 100, 16)  1312      \n",
      "                                                                 \n",
      " batch_normalization_22 (Bat  (None, 25, 100, 100, 16)  64       \n",
      " chNormalization)                                                \n",
      "                                                                 \n",
      " max_pooling3d_15 (MaxPoolin  (None, 12, 50, 50, 16)   0         \n",
      " g3D)                                                            \n",
      "                                                                 \n",
      " conv3d_16 (Conv3D)          (None, 12, 50, 50, 32)    13856     \n",
      "                                                                 \n",
      " batch_normalization_23 (Bat  (None, 12, 50, 50, 32)   128       \n",
      " chNormalization)                                                \n",
      "                                                                 \n",
      " max_pooling3d_16 (MaxPoolin  (None, 6, 25, 25, 32)    0         \n",
      " g3D)                                                            \n",
      "                                                                 \n",
      " conv3d_17 (Conv3D)          (None, 6, 25, 25, 64)     55360     \n",
      "                                                                 \n",
      " batch_normalization_24 (Bat  (None, 6, 25, 25, 64)    256       \n",
      " chNormalization)                                                \n",
      "                                                                 \n",
      " max_pooling3d_17 (MaxPoolin  (None, 3, 12, 12, 64)    0         \n",
      " g3D)                                                            \n",
      "                                                                 \n",
      " conv3d_18 (Conv3D)          (None, 3, 12, 12, 128)    221312    \n",
      "                                                                 \n",
      " batch_normalization_25 (Bat  (None, 3, 12, 12, 128)   512       \n",
      " chNormalization)                                                \n",
      "                                                                 \n",
      " max_pooling3d_18 (MaxPoolin  (None, 1, 6, 6, 128)     0         \n",
      " g3D)                                                            \n",
      "                                                                 \n",
      " dropout_9 (Dropout)         (None, 1, 6, 6, 128)      0         \n",
      "                                                                 \n",
      " flatten_4 (Flatten)         (None, 4608)              0         \n",
      "                                                                 \n",
      " dense_11 (Dense)            (None, 256)               1179904   \n",
      "                                                                 \n",
      " batch_normalization_26 (Bat  (None, 256)              1024      \n",
      " chNormalization)                                                \n",
      "                                                                 \n",
      " dropout_10 (Dropout)        (None, 256)               0         \n",
      "                                                                 \n",
      " dense_12 (Dense)            (None, 128)               32896     \n",
      "                                                                 \n",
      " batch_normalization_27 (Bat  (None, 128)              512       \n",
      " chNormalization)                                                \n",
      "                                                                 \n",
      " dropout_11 (Dropout)        (None, 128)               0         \n",
      "                                                                 \n",
      " dense_13 (Dense)            (None, 64)                8256      \n",
      "                                                                 \n",
      " batch_normalization_28 (Bat  (None, 64)               256       \n",
      " chNormalization)                                                \n",
      "                                                                 \n",
      " dropout_12 (Dropout)        (None, 64)                0         \n",
      "                                                                 \n",
      " dense_14 (Dense)            (None, 5)                 325       \n",
      "                                                                 \n",
      "=================================================================\n",
      "Total params: 1,515,973\n",
      "Trainable params: 1,514,597\n",
      "Non-trainable params: 1,376\n",
      "_________________________________________________________________\n",
      "None\n"
     ]
    }
   ],
   "source": [
    "model5=create_conv3d_model([16,32,64,128],[256,128,64],drop_out=True,kernel=(5,5,5))"
   ]
  },
  {
   "cell_type": "code",
   "execution_count": 89,
   "metadata": {},
   "outputs": [
    {
     "name": "stdout",
     "output_type": "stream",
     "text": [
      "# training sequences = 663\n",
      "# validation sequences = 100\n",
      "# epochs = 15\n",
      "steps_per_epoch: 67\n",
      "validations_steps_per_epoch: 67\n"
     ]
    }
   ],
   "source": [
    "num_epochs=15\n",
    "batch_size=10\n",
    "experiment_size=663\n",
    "train_gen,val_gen=datagen(train_df_processed,val_df_processed,batch_size=batch_size,experiment_size=experiment_size,num_epochs=num_epochs)\n",
    "steps_per_epoch,validation_steps=get_steps(experiment_size=experiment_size)"
   ]
  },
  {
   "cell_type": "code",
   "execution_count": 90,
   "metadata": {},
   "outputs": [
    {
     "name": "stderr",
     "output_type": "stream",
     "text": [
      "/tmp/ipykernel_931/1515054326.py:1: UserWarning: `Model.fit_generator` is deprecated and will be removed in a future version. Please use `Model.fit`, which supports generators.\n",
      "  history5=model5.fit_generator(train_gen, steps_per_epoch=steps_per_epoch, epochs=num_epochs, verbose=1,\n"
     ]
    },
    {
     "name": "stdout",
     "output_type": "stream",
     "text": [
      "Epoch 1/15\n",
      "67/67 [==============================] - ETA: 0s - loss: 1.7170 - categorical_accuracy: 0.3590\n",
      "Epoch 00001: val_loss did not improve from 0.67214\n",
      "67/67 [==============================] - 102s 2s/step - loss: 1.7170 - categorical_accuracy: 0.3590 - val_loss: 2.5029 - val_categorical_accuracy: 0.2098 - lr: 0.0010\n",
      "Epoch 2/15\n",
      "67/67 [==============================] - ETA: 0s - loss: 1.3156 - categorical_accuracy: 0.4857\n",
      "Epoch 00002: val_loss did not improve from 0.67214\n",
      "67/67 [==============================] - 93s 1s/step - loss: 1.3156 - categorical_accuracy: 0.4857 - val_loss: 3.8401 - val_categorical_accuracy: 0.2082 - lr: 0.0010\n",
      "Epoch 3/15\n",
      "67/67 [==============================] - ETA: 0s - loss: 1.2056 - categorical_accuracy: 0.5098\n",
      "Epoch 00003: val_loss did not improve from 0.67214\n",
      "67/67 [==============================] - 93s 1s/step - loss: 1.2056 - categorical_accuracy: 0.5098 - val_loss: 3.8262 - val_categorical_accuracy: 0.2115 - lr: 0.0010\n",
      "Epoch 4/15\n",
      "67/67 [==============================] - ETA: 0s - loss: 1.2090 - categorical_accuracy: 0.5068\n",
      "Epoch 00004: val_loss did not improve from 0.67214\n",
      "67/67 [==============================] - 94s 1s/step - loss: 1.2090 - categorical_accuracy: 0.5068 - val_loss: 3.1481 - val_categorical_accuracy: 0.2541 - lr: 0.0010\n",
      "Epoch 5/15\n",
      "67/67 [==============================] - ETA: 0s - loss: 1.1133 - categorical_accuracy: 0.5596\n",
      "Epoch 00005: val_loss did not improve from 0.67214\n",
      "67/67 [==============================] - 93s 1s/step - loss: 1.1133 - categorical_accuracy: 0.5596 - val_loss: 1.4592 - val_categorical_accuracy: 0.5082 - lr: 0.0010\n",
      "Epoch 6/15\n",
      "67/67 [==============================] - ETA: 0s - loss: 1.0075 - categorical_accuracy: 0.5882\n",
      "Epoch 00006: val_loss did not improve from 0.67214\n",
      "67/67 [==============================] - 93s 1s/step - loss: 1.0075 - categorical_accuracy: 0.5882 - val_loss: 2.8756 - val_categorical_accuracy: 0.2800 - lr: 0.0010\n",
      "Epoch 7/15\n",
      "67/67 [==============================] - ETA: 0s - loss: 1.0226 - categorical_accuracy: 0.5973\n",
      "Epoch 00007: val_loss did not improve from 0.67214\n",
      "67/67 [==============================] - 95s 1s/step - loss: 1.0226 - categorical_accuracy: 0.5973 - val_loss: 2.2299 - val_categorical_accuracy: 0.3836 - lr: 0.0010\n",
      "Epoch 8/15\n",
      "67/67 [==============================] - ETA: 0s - loss: 1.0175 - categorical_accuracy: 0.5882\n",
      "Epoch 00008: val_loss did not improve from 0.67214\n",
      "67/67 [==============================] - 92s 1s/step - loss: 1.0175 - categorical_accuracy: 0.5882 - val_loss: 1.5837 - val_categorical_accuracy: 0.4787 - lr: 0.0010\n",
      "Epoch 9/15\n",
      "67/67 [==============================] - ETA: 0s - loss: 0.9305 - categorical_accuracy: 0.6048\n",
      "Epoch 00009: val_loss did not improve from 0.67214\n",
      "67/67 [==============================] - 93s 1s/step - loss: 0.9305 - categorical_accuracy: 0.6048 - val_loss: 2.2819 - val_categorical_accuracy: 0.4000 - lr: 0.0010\n",
      "Epoch 10/15\n",
      "67/67 [==============================] - ETA: 0s - loss: 0.9086 - categorical_accuracy: 0.6259\n",
      "Epoch 00010: val_loss did not improve from 0.67214\n",
      "67/67 [==============================] - 94s 1s/step - loss: 0.9086 - categorical_accuracy: 0.6259 - val_loss: 1.0648 - val_categorical_accuracy: 0.6000 - lr: 0.0010\n",
      "Epoch 11/15\n",
      "67/67 [==============================] - ETA: 0s - loss: 0.7916 - categorical_accuracy: 0.6893\n",
      "Epoch 00011: val_loss did not improve from 0.67214\n",
      "67/67 [==============================] - 93s 1s/step - loss: 0.7916 - categorical_accuracy: 0.6893 - val_loss: 1.2469 - val_categorical_accuracy: 0.4820 - lr: 0.0010\n",
      "Epoch 12/15\n",
      "67/67 [==============================] - ETA: 0s - loss: 0.7201 - categorical_accuracy: 0.7345\n",
      "Epoch 00012: val_loss did not improve from 0.67214\n",
      "67/67 [==============================] - 93s 1s/step - loss: 0.7201 - categorical_accuracy: 0.7345 - val_loss: 2.0751 - val_categorical_accuracy: 0.4607 - lr: 0.0010\n",
      "Epoch 13/15\n",
      "67/67 [==============================] - ETA: 0s - loss: 0.7801 - categorical_accuracy: 0.6893\n",
      "Epoch 00013: val_loss did not improve from 0.67214\n",
      "67/67 [==============================] - 93s 1s/step - loss: 0.7801 - categorical_accuracy: 0.6893 - val_loss: 0.9346 - val_categorical_accuracy: 0.6705 - lr: 0.0010\n",
      "Epoch 14/15\n",
      "67/67 [==============================] - ETA: 0s - loss: 0.7267 - categorical_accuracy: 0.7345\n",
      "Epoch 00014: val_loss did not improve from 0.67214\n",
      "67/67 [==============================] - 94s 1s/step - loss: 0.7267 - categorical_accuracy: 0.7345 - val_loss: 0.7562 - val_categorical_accuracy: 0.7049 - lr: 0.0010\n",
      "Epoch 15/15\n",
      "67/67 [==============================] - ETA: 0s - loss: 0.6264 - categorical_accuracy: 0.7617\n",
      "Epoch 00015: val_loss did not improve from 0.67214\n",
      "67/67 [==============================] - 94s 1s/step - loss: 0.6264 - categorical_accuracy: 0.7617 - val_loss: 0.8239 - val_categorical_accuracy: 0.6852 - lr: 0.0010\n"
     ]
    }
   ],
   "source": [
    "history5=model5.fit_generator(train_gen, steps_per_epoch=steps_per_epoch, epochs=num_epochs, verbose=1, \n",
    "                    callbacks=callbacks_list, validation_data=val_gen, \n",
    "                    validation_steps=validation_steps, class_weight=None, workers=1, initial_epoch=0)"
   ]
  },
  {
   "cell_type": "code",
   "execution_count": 91,
   "metadata": {},
   "outputs": [
    {
     "data": {
      "image/png": "[encoded data removed]",
      "text/plain": [
       "<Figure size 432x288 with 1 Axes>"
      ]
     },
     "metadata": {
      "needs_background": "light"
     },
     "output_type": "display_data"
    }
   ],
   "source": [
    "plot_results(history5)"
   ]
  },
  {
   "cell_type": "markdown",
   "metadata": {},
   "source": [
    "#### CNN - RNN Model"
   ]
  },
  {
   "cell_type": "code",
   "execution_count": 93,
   "metadata": {},
   "outputs": [],
   "source": [
    "input_shape=(25,100, 100, 3)"
   ]
  },
  {
   "cell_type": "code",
   "execution_count": 94,
   "metadata": {},
   "outputs": [],
   "source": [
    "def add_timedistributed_cnn(filtr,model,kernel=(3,3),input_shape=input_shape):\n",
    "    model.add(TimeDistributed(keras.layers.Conv2D(filtr,kernel,input_shape=input_shape,activation='relu')))\n",
    "    model.add(TimeDistributed(keras.layers.BatchNormalization()))\n",
    "    model.add(TimeDistributed(keras.layers.MaxPooling2D((2,2))))"
   ]
  },
  {
   "cell_type": "code",
   "execution_count": 95,
   "metadata": {},
   "outputs": [],
   "source": [
    "def create_cnn_lstm_models(conv_filters,dense_filters,kernel=(3,3),input_shape=input_shape,num_classes=5):\n",
    "    model=keras.Sequential()\n",
    "    for fil in conv_filters:\n",
    "        add_timedistributed_cnn(fil,model,kernel,input_shape)\n",
    "    model.add(TimeDistributed(keras.layers.Flatten()))\n",
    "    keras.layers.Dropout(0.2)\n",
    "    model.add(keras.layers.LSTM(256,return_sequences=False))\n",
    "    for fil in dense_filters:\n",
    "        add_dense_layer(fil,model)\n",
    "        keras.layers.Dropout(0.2)\n",
    "    model.add(keras.layers.Dense(num_classes,activation='softmax'))\n",
    "    model.compile(optimizer='Adam', loss='categorical_crossentropy', metrics=['categorical_accuracy'])\n",
    "    #print(model.summary())\n",
    "    return model"
   ]
  },
  {
   "cell_type": "code",
   "execution_count": 96,
   "metadata": {},
   "outputs": [],
   "source": [
    "def create_cnn_gru_models(conv_filters,dense_filters,kernel=(3,3),input_shape=input_shape,num_classes=5,bidirectional=False):\n",
    "    model=keras.Sequential()\n",
    "    for fil in conv_filters:\n",
    "        add_timedistributed_cnn(fil,model,kernel,input_shape)\n",
    "    model.add(TimeDistributed(keras.layers.Flatten()))\n",
    "    keras.layers.Dropout(0.2)\n",
    "    if(bidirectional):\n",
    "        model.add(keras.layers.Bidirectional(keras.layers.GRU(256,return_sequences=False)))\n",
    "    else:\n",
    "        model.add(keras.layers.GRU(256,return_sequences=False))\n",
    "    for fil in dense_filters:\n",
    "        add_dense_layer(fil,model)\n",
    "        keras.layers.Dropout(0.2)\n",
    "    model.add(keras.layers.Dense(num_classes,activation='softmax'))\n",
    "    model.compile(optimizer='Adam', loss='categorical_crossentropy', metrics=['categorical_accuracy'])\n",
    "    #print(model.summary())\n",
    "    return model"
   ]
  },
  {
   "cell_type": "code",
   "execution_count": 97,
   "metadata": {},
   "outputs": [],
   "source": [
    "def create_cnn_stacked_gru_bidirectional(conv_filters,dense_filters,kernel=(3,3),input_shape=input_shape,num_classes=5,bidirectional=False):\n",
    "    model=keras.Sequential()\n",
    "    for fil in conv_filters:\n",
    "        add_timedistributed_cnn(fil,model,kernel,input_shape)\n",
    "    model.add(TimeDistributed(keras.layers.Flatten()))\n",
    "    keras.layers.Dropout(0.2)\n",
    "    if(bidirectional):\n",
    "        model.add(keras.layers.Bidirectional(keras.layers.GRU(256,return_sequences=True)))\n",
    "        model.add(keras.layers.Bidirectional(keras.layers.GRU(256,return_sequences=False)))\n",
    "    else:\n",
    "        model.add(keras.layers.GRU(256,return_sequences=True))\n",
    "        model.add(keras.layers.GRU(256,return_sequences=False))\n",
    "    for fil in dense_filters:\n",
    "        add_dense_layer(fil,model)\n",
    "        keras.layers.Dropout(0.2)\n",
    "    model.add(keras.layers.Dense(num_classes,activation='softmax'))\n",
    "    model.compile(optimizer='Adam', loss='categorical_crossentropy', metrics=['categorical_accuracy'])\n",
    "    #print(model.summary())\n",
    "    return model"
   ]
  },
  {
   "cell_type": "code",
   "execution_count": 98,
   "metadata": {},
   "outputs": [],
   "source": [
    "def create_cnn_stacked_LSTM_bidirectional(conv_filters,dense_filters,kernel=(3,3),input_shape=input_shape,num_classes=5,bidirectional=False):\n",
    "    model=keras.Sequential()\n",
    "    for fil in conv_filters:\n",
    "        add_timedistributed_cnn(fil,model,kernel,input_shape)\n",
    "    model.add(TimeDistributed(keras.layers.Flatten()))\n",
    "    keras.layers.Dropout(0.2)\n",
    "    if(bidirectional):\n",
    "        model.add(keras.layers.Bidirectional(keras.layers.LSTM(256,return_sequences=True)))\n",
    "        model.add(keras.layers.Bidirectional(keras.layers.LSTM(256,return_sequences=False)))\n",
    "    else:\n",
    "        model.add(keras.layers.LSTM(256,return_sequences=True))\n",
    "        model.add(keras.layers.LSTM(256,return_sequences=False))\n",
    "    for fil in dense_filters:\n",
    "        add_dense_layer(fil,model)\n",
    "        keras.layers.Dropout(0.2)\n",
    "    model.add(keras.layers.Dense(num_classes,activation='softmax'))\n",
    "    model.compile(optimizer='Adam', loss='categorical_crossentropy', metrics=['categorical_accuracy'])\n",
    "    #print(model.summary())\n",
    "    return model"
   ]
  },
  {
   "cell_type": "markdown",
   "metadata": {},
   "source": [
    "#### Model 7 :LSTM Model with 1 Layer for feature extraction and 1 FC layer"
   ]
  },
  {
   "cell_type": "code",
   "execution_count": 99,
   "metadata": {},
   "outputs": [],
   "source": [
    "model7=create_cnn_lstm_models(conv_filters=[16],dense_filters=[128])"
   ]
  },
  {
   "cell_type": "code",
   "execution_count": null,
   "metadata": {},
   "outputs": [],
   "source": []
  },
  {
   "cell_type": "code",
   "execution_count": 100,
   "metadata": {},
   "outputs": [
    {
     "name": "stdout",
     "output_type": "stream",
     "text": [
      "# training sequences = 663\n",
      "# validation sequences = 100\n",
      "# epochs = 15\n",
      "steps_per_epoch: 42\n",
      "validations_steps_per_epoch: 42\n"
     ]
    }
   ],
   "source": [
    "num_epochs=15\n",
    "batch_size=16\n",
    "experiment_size=663\n",
    "train_gen,val_gen=datagen(train_df_processed,val_df_processed,batch_size=batch_size,experiment_size=experiment_size,num_epochs=num_epochs)\n",
    "steps_per_epoch,validation_steps=get_steps(experiment_size=experiment_size)"
   ]
  },
  {
   "cell_type": "code",
   "execution_count": 101,
   "metadata": {},
   "outputs": [
    {
     "name": "stderr",
     "output_type": "stream",
     "text": [
      "/tmp/ipykernel_931/3611134969.py:1: UserWarning: `Model.fit_generator` is deprecated and will be removed in a future version. Please use `Model.fit`, which supports generators.\n",
      "  history7=model7.fit_generator(train_gen, steps_per_epoch=steps_per_epoch, epochs=num_epochs, verbose=1,\n"
     ]
    },
    {
     "name": "stdout",
     "output_type": "stream",
     "text": [
      "Epoch 1/15\n",
      "42/42 [==============================] - ETA: 0s - loss: 1.5284 - categorical_accuracy: 0.4329\n",
      "Epoch 00001: val_loss did not improve from 0.67214\n",
      "42/42 [==============================] - 101s 2s/step - loss: 1.5284 - categorical_accuracy: 0.4329 - val_loss: 1.7729 - val_categorical_accuracy: 0.2317 - lr: 0.0010\n",
      "Epoch 2/15\n",
      "42/42 [==============================] - ETA: 0s - loss: 0.7391 - categorical_accuracy: 0.7240\n",
      "Epoch 00002: val_loss did not improve from 0.67214\n",
      "42/42 [==============================] - 95s 2s/step - loss: 0.7391 - categorical_accuracy: 0.7240 - val_loss: 1.4787 - val_categorical_accuracy: 0.3333 - lr: 0.0010\n",
      "Epoch 3/15\n",
      "42/42 [==============================] - ETA: 0s - loss: 0.4707 - categorical_accuracy: 0.8296\n",
      "Epoch 00003: val_loss did not improve from 0.67214\n",
      "42/42 [==============================] - 94s 2s/step - loss: 0.4707 - categorical_accuracy: 0.8296 - val_loss: 1.9965 - val_categorical_accuracy: 0.2450 - lr: 0.0010\n",
      "Epoch 4/15\n",
      "42/42 [==============================] - ETA: 0s - loss: 0.2424 - categorical_accuracy: 0.9291\n",
      "Epoch 00004: val_loss did not improve from 0.67214\n",
      "42/42 [==============================] - 96s 2s/step - loss: 0.2424 - categorical_accuracy: 0.9291 - val_loss: 1.3769 - val_categorical_accuracy: 0.5233 - lr: 0.0010\n",
      "Epoch 5/15\n",
      "42/42 [==============================] - ETA: 0s - loss: 0.1570 - categorical_accuracy: 0.9623\n",
      "Epoch 00005: val_loss did not improve from 0.67214\n",
      "42/42 [==============================] - 99s 2s/step - loss: 0.1570 - categorical_accuracy: 0.9623 - val_loss: 1.5512 - val_categorical_accuracy: 0.4750 - lr: 0.0010\n",
      "Epoch 6/15\n",
      "42/42 [==============================] - ETA: 0s - loss: 0.0896 - categorical_accuracy: 0.9819\n",
      "Epoch 00006: val_loss did not improve from 0.67214\n",
      "42/42 [==============================] - 102s 2s/step - loss: 0.0896 - categorical_accuracy: 0.9819 - val_loss: 1.8945 - val_categorical_accuracy: 0.4717 - lr: 0.0010\n",
      "Epoch 7/15\n",
      "42/42 [==============================] - ETA: 0s - loss: 0.0731 - categorical_accuracy: 0.9804\n",
      "Epoch 00007: val_loss did not improve from 0.67214\n",
      "42/42 [==============================] - 97s 2s/step - loss: 0.0731 - categorical_accuracy: 0.9804 - val_loss: 1.7202 - val_categorical_accuracy: 0.4933 - lr: 0.0010\n",
      "Epoch 8/15\n",
      "42/42 [==============================] - ETA: 0s - loss: 0.0418 - categorical_accuracy: 0.9955\n",
      "Epoch 00008: val_loss did not improve from 0.67214\n",
      "42/42 [==============================] - 97s 2s/step - loss: 0.0418 - categorical_accuracy: 0.9955 - val_loss: 1.5446 - val_categorical_accuracy: 0.4783 - lr: 0.0010\n",
      "Epoch 9/15\n",
      "42/42 [==============================] - ETA: 0s - loss: 0.0252 - categorical_accuracy: 0.9985\n",
      "Epoch 00009: val_loss did not improve from 0.67214\n",
      "42/42 [==============================] - 92s 2s/step - loss: 0.0252 - categorical_accuracy: 0.9985 - val_loss: 1.5385 - val_categorical_accuracy: 0.5417 - lr: 0.0010\n",
      "Epoch 10/15\n",
      "42/42 [==============================] - ETA: 0s - loss: 0.0140 - categorical_accuracy: 0.9985\n",
      "Epoch 00010: val_loss did not improve from 0.67214\n",
      "42/42 [==============================] - 93s 2s/step - loss: 0.0140 - categorical_accuracy: 0.9985 - val_loss: 1.4716 - val_categorical_accuracy: 0.5550 - lr: 0.0010\n",
      "Epoch 11/15\n",
      "42/42 [==============================] - ETA: 0s - loss: 0.0135 - categorical_accuracy: 0.9985\n",
      "Epoch 00011: val_loss did not improve from 0.67214\n",
      "42/42 [==============================] - 93s 2s/step - loss: 0.0135 - categorical_accuracy: 0.9985 - val_loss: 2.3160 - val_categorical_accuracy: 0.3967 - lr: 0.0010\n",
      "Epoch 12/15\n",
      "42/42 [==============================] - ETA: 0s - loss: 0.0207 - categorical_accuracy: 0.9985\n",
      "Epoch 00012: val_loss did not improve from 0.67214\n",
      "42/42 [==============================] - 93s 2s/step - loss: 0.0207 - categorical_accuracy: 0.9985 - val_loss: 1.7763 - val_categorical_accuracy: 0.4883 - lr: 0.0010\n",
      "Epoch 13/15\n",
      "42/42 [==============================] - ETA: 0s - loss: 0.0236 - categorical_accuracy: 0.9970\n",
      "Epoch 00013: val_loss did not improve from 0.67214\n",
      "42/42 [==============================] - 91s 2s/step - loss: 0.0236 - categorical_accuracy: 0.9970 - val_loss: 1.5581 - val_categorical_accuracy: 0.6183 - lr: 0.0010\n",
      "Epoch 14/15\n",
      "42/42 [==============================] - ETA: 0s - loss: 0.0194 - categorical_accuracy: 0.9970\n",
      "Epoch 00014: val_loss did not improve from 0.67214\n",
      "42/42 [==============================] - 92s 2s/step - loss: 0.0194 - categorical_accuracy: 0.9970 - val_loss: 1.4410 - val_categorical_accuracy: 0.6167 - lr: 0.0010\n",
      "Epoch 15/15\n",
      "42/42 [==============================] - ETA: 0s - loss: 0.0126 - categorical_accuracy: 1.0000\n",
      "Epoch 00015: val_loss did not improve from 0.67214\n",
      "42/42 [==============================] - 93s 2s/step - loss: 0.0126 - categorical_accuracy: 1.0000 - val_loss: 1.3400 - val_categorical_accuracy: 0.6183 - lr: 0.0010\n"
     ]
    }
   ],
   "source": [
    "history7=model7.fit_generator(train_gen, steps_per_epoch=steps_per_epoch, epochs=num_epochs, verbose=1, \n",
    "                    callbacks=callbacks_list, validation_data=val_gen, \n",
    "                    validation_steps=validation_steps, class_weight=None, workers=1, initial_epoch=0)"
   ]
  },
  {
   "cell_type": "code",
   "execution_count": 102,
   "metadata": {},
   "outputs": [
    {
     "data": {
      "image/png": "[encoded data removed]",
      "text/plain": [
       "<Figure size 432x288 with 1 Axes>"
      ]
     },
     "metadata": {
      "needs_background": "light"
     },
     "output_type": "display_data"
    }
   ],
   "source": [
    "plot_results(history7)"
   ]
  },
  {
   "cell_type": "markdown",
   "metadata": {},
   "source": [
    "#### Model 8: LSTM Model with 2 Layer for feature extraction and 2 FC layer"
   ]
  },
  {
   "cell_type": "code",
   "execution_count": 103,
   "metadata": {},
   "outputs": [],
   "source": [
    "model8=create_cnn_lstm_models(conv_filters=[16,32],dense_filters=[128,64])"
   ]
  },
  {
   "cell_type": "code",
   "execution_count": 104,
   "metadata": {},
   "outputs": [
    {
     "name": "stdout",
     "output_type": "stream",
     "text": [
      "# training sequences = 663\n",
      "# validation sequences = 100\n",
      "# epochs = 25\n",
      "steps_per_epoch: 42\n",
      "validations_steps_per_epoch: 42\n"
     ]
    }
   ],
   "source": [
    "num_epochs=25\n",
    "batch_size=16\n",
    "experiment_size=663\n",
    "train_gen,val_gen=datagen(train_df_processed,val_df_processed,batch_size=batch_size,experiment_size=experiment_size,num_epochs=num_epochs)\n",
    "steps_per_epoch,validation_steps=get_steps(experiment_size=experiment_size)"
   ]
  },
  {
   "cell_type": "code",
   "execution_count": 105,
   "metadata": {},
   "outputs": [
    {
     "name": "stderr",
     "output_type": "stream",
     "text": [
      "/tmp/ipykernel_931/2841850737.py:1: UserWarning: `Model.fit_generator` is deprecated and will be removed in a future version. Please use `Model.fit`, which supports generators.\n",
      "  history8=model8.fit_generator(train_gen, steps_per_epoch=steps_per_epoch, epochs=num_epochs, verbose=1,\n"
     ]
    },
    {
     "name": "stdout",
     "output_type": "stream",
     "text": [
      "Epoch 1/25\n",
      "42/42 [==============================] - ETA: 0s - loss: 1.7209 - categorical_accuracy: 0.3484\n",
      "Epoch 00001: val_loss did not improve from 0.67214\n",
      "42/42 [==============================] - 103s 2s/step - loss: 1.7209 - categorical_accuracy: 0.3484 - val_loss: 1.7419 - val_categorical_accuracy: 0.1867 - lr: 0.0010\n",
      "Epoch 2/25\n",
      "42/42 [==============================] - ETA: 0s - loss: 1.2086 - categorical_accuracy: 0.5098\n",
      "Epoch 00002: val_loss did not improve from 0.67214\n",
      "42/42 [==============================] - 92s 2s/step - loss: 1.2086 - categorical_accuracy: 0.5098 - val_loss: 1.9088 - val_categorical_accuracy: 0.2633 - lr: 0.0010\n",
      "Epoch 3/25\n",
      "42/42 [==============================] - ETA: 0s - loss: 1.1033 - categorical_accuracy: 0.5807\n",
      "Epoch 00003: val_loss did not improve from 0.67214\n",
      "42/42 [==============================] - 93s 2s/step - loss: 1.1033 - categorical_accuracy: 0.5807 - val_loss: 1.9175 - val_categorical_accuracy: 0.2817 - lr: 0.0010\n",
      "Epoch 4/25\n",
      "42/42 [==============================] - ETA: 0s - loss: 1.0818 - categorical_accuracy: 0.5762\n",
      "Epoch 00004: val_loss did not improve from 0.67214\n",
      "42/42 [==============================] - 92s 2s/step - loss: 1.0818 - categorical_accuracy: 0.5762 - val_loss: 1.9146 - val_categorical_accuracy: 0.3000 - lr: 0.0010\n",
      "Epoch 5/25\n",
      "42/42 [==============================] - ETA: 0s - loss: 0.9604 - categorical_accuracy: 0.6501\n",
      "Epoch 00005: val_loss did not improve from 0.67214\n",
      "42/42 [==============================] - 92s 2s/step - loss: 0.9604 - categorical_accuracy: 0.6501 - val_loss: 2.3794 - val_categorical_accuracy: 0.2500 - lr: 0.0010\n",
      "Epoch 6/25\n",
      "42/42 [==============================] - ETA: 0s - loss: 0.9572 - categorical_accuracy: 0.6380\n",
      "Epoch 00006: val_loss did not improve from 0.67214\n",
      "42/42 [==============================] - 93s 2s/step - loss: 0.9572 - categorical_accuracy: 0.6380 - val_loss: 2.0544 - val_categorical_accuracy: 0.3067 - lr: 0.0010\n",
      "Epoch 7/25\n",
      "42/42 [==============================] - ETA: 0s - loss: 0.8947 - categorical_accuracy: 0.6652\n",
      "Epoch 00007: val_loss did not improve from 0.67214\n",
      "42/42 [==============================] - 91s 2s/step - loss: 0.8947 - categorical_accuracy: 0.6652 - val_loss: 2.1505 - val_categorical_accuracy: 0.3467 - lr: 0.0010\n",
      "Epoch 8/25\n",
      "42/42 [==============================] - ETA: 0s - loss: 0.8395 - categorical_accuracy: 0.6787\n",
      "Epoch 00008: val_loss did not improve from 0.67214\n",
      "42/42 [==============================] - 93s 2s/step - loss: 0.8395 - categorical_accuracy: 0.6787 - val_loss: 2.1776 - val_categorical_accuracy: 0.3717 - lr: 0.0010\n",
      "Epoch 9/25\n",
      "42/42 [==============================] - ETA: 0s - loss: 0.7772 - categorical_accuracy: 0.7029\n",
      "Epoch 00009: val_loss did not improve from 0.67214\n",
      "42/42 [==============================] - 94s 2s/step - loss: 0.7772 - categorical_accuracy: 0.7029 - val_loss: 2.5745 - val_categorical_accuracy: 0.3333 - lr: 0.0010\n",
      "Epoch 10/25\n",
      "42/42 [==============================] - ETA: 0s - loss: 0.6754 - categorical_accuracy: 0.7330\n",
      "Epoch 00010: val_loss did not improve from 0.67214\n",
      "42/42 [==============================] - 93s 2s/step - loss: 0.6754 - categorical_accuracy: 0.7330 - val_loss: 2.8939 - val_categorical_accuracy: 0.3267 - lr: 0.0010\n",
      "Epoch 11/25\n",
      "42/42 [==============================] - ETA: 0s - loss: 0.5813 - categorical_accuracy: 0.7798\n",
      "Epoch 00011: val_loss did not improve from 0.67214\n",
      "42/42 [==============================] - 92s 2s/step - loss: 0.5813 - categorical_accuracy: 0.7798 - val_loss: 2.4670 - val_categorical_accuracy: 0.3767 - lr: 0.0010\n",
      "Epoch 12/25\n",
      "42/42 [==============================] - ETA: 0s - loss: 0.4927 - categorical_accuracy: 0.8235\n",
      "Epoch 00012: val_loss did not improve from 0.67214\n",
      "42/42 [==============================] - 91s 2s/step - loss: 0.4927 - categorical_accuracy: 0.8235 - val_loss: 1.7283 - val_categorical_accuracy: 0.4917 - lr: 0.0010\n",
      "Epoch 13/25\n",
      "42/42 [==============================] - ETA: 0s - loss: 0.5249 - categorical_accuracy: 0.8145\n",
      "Epoch 00013: val_loss did not improve from 0.67214\n",
      "42/42 [==============================] - 92s 2s/step - loss: 0.5249 - categorical_accuracy: 0.8145 - val_loss: 2.1495 - val_categorical_accuracy: 0.3533 - lr: 0.0010\n",
      "Epoch 14/25\n",
      "42/42 [==============================] - ETA: 0s - loss: 0.5585 - categorical_accuracy: 0.7919\n",
      "Epoch 00014: val_loss did not improve from 0.67214\n",
      "42/42 [==============================] - 91s 2s/step - loss: 0.5585 - categorical_accuracy: 0.7919 - val_loss: 2.2703 - val_categorical_accuracy: 0.4233 - lr: 0.0010\n",
      "Epoch 15/25\n",
      "42/42 [==============================] - ETA: 0s - loss: 0.4608 - categorical_accuracy: 0.8386\n",
      "Epoch 00015: val_loss did not improve from 0.67214\n",
      "42/42 [==============================] - 93s 2s/step - loss: 0.4608 - categorical_accuracy: 0.8386 - val_loss: 1.9233 - val_categorical_accuracy: 0.4433 - lr: 0.0010\n",
      "Epoch 16/25\n",
      "42/42 [==============================] - ETA: 0s - loss: 0.4588 - categorical_accuracy: 0.8341\n",
      "Epoch 00016: val_loss did not improve from 0.67214\n",
      "42/42 [==============================] - 93s 2s/step - loss: 0.4588 - categorical_accuracy: 0.8341 - val_loss: 1.4529 - val_categorical_accuracy: 0.5367 - lr: 0.0010\n",
      "Epoch 17/25\n",
      "42/42 [==============================] - ETA: 0s - loss: 0.4128 - categorical_accuracy: 0.8552\n",
      "Epoch 00017: val_loss did not improve from 0.67214\n",
      "42/42 [==============================] - 96s 2s/step - loss: 0.4128 - categorical_accuracy: 0.8552 - val_loss: 1.6527 - val_categorical_accuracy: 0.4683 - lr: 0.0010\n",
      "Epoch 18/25\n",
      "42/42 [==============================] - ETA: 0s - loss: 0.3426 - categorical_accuracy: 0.8763\n",
      "Epoch 00018: val_loss did not improve from 0.67214\n",
      "42/42 [==============================] - 95s 2s/step - loss: 0.3426 - categorical_accuracy: 0.8763 - val_loss: 1.5826 - val_categorical_accuracy: 0.5283 - lr: 0.0010\n",
      "Epoch 19/25\n",
      "42/42 [==============================] - ETA: 0s - loss: 0.3637 - categorical_accuracy: 0.8673\n",
      "Epoch 00019: val_loss did not improve from 0.67214\n",
      "42/42 [==============================] - 94s 2s/step - loss: 0.3637 - categorical_accuracy: 0.8673 - val_loss: 1.3928 - val_categorical_accuracy: 0.5533 - lr: 0.0010\n",
      "Epoch 20/25\n",
      "42/42 [==============================] - ETA: 0s - loss: 0.2934 - categorical_accuracy: 0.9050\n",
      "Epoch 00020: val_loss did not improve from 0.67214\n",
      "42/42 [==============================] - 95s 2s/step - loss: 0.2934 - categorical_accuracy: 0.9050 - val_loss: 1.4040 - val_categorical_accuracy: 0.5433 - lr: 0.0010\n",
      "Epoch 21/25\n",
      "42/42 [==============================] - ETA: 0s - loss: 0.2865 - categorical_accuracy: 0.8914\n",
      "Epoch 00021: val_loss did not improve from 0.67214\n",
      "42/42 [==============================] - 93s 2s/step - loss: 0.2865 - categorical_accuracy: 0.8914 - val_loss: 1.4634 - val_categorical_accuracy: 0.5883 - lr: 0.0010\n",
      "Epoch 22/25\n",
      "42/42 [==============================] - ETA: 0s - loss: 0.2347 - categorical_accuracy: 0.9261\n",
      "Epoch 00022: val_loss did not improve from 0.67214\n",
      "42/42 [==============================] - 94s 2s/step - loss: 0.2347 - categorical_accuracy: 0.9261 - val_loss: 1.3218 - val_categorical_accuracy: 0.5933 - lr: 0.0010\n",
      "Epoch 23/25\n",
      "42/42 [==============================] - ETA: 0s - loss: 0.2370 - categorical_accuracy: 0.9306\n",
      "Epoch 00023: val_loss did not improve from 0.67214\n",
      "42/42 [==============================] - 97s 2s/step - loss: 0.2370 - categorical_accuracy: 0.9306 - val_loss: 1.8274 - val_categorical_accuracy: 0.4867 - lr: 0.0010\n",
      "Epoch 24/25\n",
      "42/42 [==============================] - ETA: 0s - loss: 0.1825 - categorical_accuracy: 0.9367\n",
      "Epoch 00024: val_loss did not improve from 0.67214\n",
      "42/42 [==============================] - 95s 2s/step - loss: 0.1825 - categorical_accuracy: 0.9367 - val_loss: 1.4359 - val_categorical_accuracy: 0.5900 - lr: 0.0010\n",
      "Epoch 25/25\n",
      "42/42 [==============================] - ETA: 0s - loss: 0.1606 - categorical_accuracy: 0.9548\n",
      "Epoch 00025: val_loss did not improve from 0.67214\n",
      "42/42 [==============================] - 94s 2s/step - loss: 0.1606 - categorical_accuracy: 0.9548 - val_loss: 1.4198 - val_categorical_accuracy: 0.5533 - lr: 0.0010\n"
     ]
    }
   ],
   "source": [
    "history8=model8.fit_generator(train_gen, steps_per_epoch=steps_per_epoch, epochs=num_epochs, verbose=1, \n",
    "                    callbacks=callbacks_list, validation_data=val_gen, \n",
    "                    validation_steps=validation_steps, class_weight=None, workers=1, initial_epoch=0)"
   ]
  },
  {
   "cell_type": "code",
   "execution_count": 106,
   "metadata": {},
   "outputs": [
    {
     "name": "stdout",
     "output_type": "stream",
     "text": [
      "Model: \"sequential_6\"\n",
      "_________________________________________________________________\n",
      " Layer (type)                Output Shape              Param #   \n",
      "=================================================================\n",
      " time_distributed_4 (TimeDis  (None, None, None, None,  448      \n",
      " tributed)                    16)                                \n",
      "                                                                 \n",
      " time_distributed_5 (TimeDis  (None, None, None, None,  64       \n",
      " tributed)                    16)                                \n",
      "                                                                 \n",
      " time_distributed_6 (TimeDis  (None, None, None, None,  0        \n",
      " tributed)                    16)                                \n",
      "                                                                 \n",
      " time_distributed_7 (TimeDis  (None, None, None, None,  4640     \n",
      " tributed)                    32)                                \n",
      "                                                                 \n",
      " time_distributed_8 (TimeDis  (None, None, None, None,  128      \n",
      " tributed)                    32)                                \n",
      "                                                                 \n",
      " time_distributed_9 (TimeDis  (None, None, None, None,  0        \n",
      " tributed)                    32)                                \n",
      "                                                                 \n",
      " time_distributed_10 (TimeDi  (None, None, None)       0         \n",
      " stributed)                                                      \n",
      "                                                                 \n",
      " lstm_1 (LSTM)               (None, 256)               17597440  \n",
      "                                                                 \n",
      " dense_17 (Dense)            (None, 128)               32896     \n",
      "                                                                 \n",
      " batch_normalization_33 (Bat  (None, 128)              512       \n",
      " chNormalization)                                                \n",
      "                                                                 \n",
      " dense_18 (Dense)            (None, 64)                8256      \n",
      "                                                                 \n",
      " batch_normalization_34 (Bat  (None, 64)               256       \n",
      " chNormalization)                                                \n",
      "                                                                 \n",
      " dense_19 (Dense)            (None, 5)                 325       \n",
      "                                                                 \n",
      "=================================================================\n",
      "Total params: 17,644,965\n",
      "Trainable params: 17,644,485\n",
      "Non-trainable params: 480\n",
      "_________________________________________________________________\n"
     ]
    }
   ],
   "source": [
    "model8.summary()"
   ]
  },
  {
   "cell_type": "code",
   "execution_count": 107,
   "metadata": {},
   "outputs": [
    {
     "data": {
      "image/png": "[encoded data removed]",
      "text/plain": [
       "<Figure size 432x288 with 1 Axes>"
      ]
     },
     "metadata": {
      "needs_background": "light"
     },
     "output_type": "display_data"
    }
   ],
   "source": [
    "plot_results(history8)"
   ]
  },
  {
   "cell_type": "markdown",
   "metadata": {},
   "source": [
    "#### Model 9: GRU Model with 3 Layer for feature extraction and 2 FC layer"
   ]
  },
  {
   "cell_type": "code",
   "execution_count": 108,
   "metadata": {},
   "outputs": [],
   "source": [
    "model9=create_cnn_gru_models(conv_filters=[16,32,64],dense_filters=[128,64])"
   ]
  },
  {
   "cell_type": "code",
   "execution_count": 109,
   "metadata": {},
   "outputs": [
    {
     "name": "stdout",
     "output_type": "stream",
     "text": [
      "# training sequences = 663\n",
      "# validation sequences = 100\n",
      "# epochs = 25\n",
      "steps_per_epoch: 42\n",
      "validations_steps_per_epoch: 42\n"
     ]
    }
   ],
   "source": [
    "num_epochs=25\n",
    "batch_size=16\n",
    "experiment_size=663\n",
    "train_gen,val_gen=datagen(train_df_processed,val_df_processed,batch_size=batch_size,experiment_size=experiment_size,num_epochs=num_epochs)\n",
    "steps_per_epoch,validation_steps=get_steps(experiment_size=experiment_size)"
   ]
  },
  {
   "cell_type": "code",
   "execution_count": 110,
   "metadata": {},
   "outputs": [
    {
     "name": "stderr",
     "output_type": "stream",
     "text": [
      "/tmp/ipykernel_931/3546974361.py:1: UserWarning: `Model.fit_generator` is deprecated and will be removed in a future version. Please use `Model.fit`, which supports generators.\n",
      "  history9=model9.fit_generator(train_gen, steps_per_epoch=steps_per_epoch, epochs=num_epochs, verbose=1,\n"
     ]
    },
    {
     "name": "stdout",
     "output_type": "stream",
     "text": [
      "Epoch 1/25\n",
      "42/42 [==============================] - ETA: 0s - loss: 1.5405 - categorical_accuracy: 0.4072\n",
      "Epoch 00001: val_loss did not improve from 0.67214\n",
      "42/42 [==============================] - 102s 2s/step - loss: 1.5405 - categorical_accuracy: 0.4072 - val_loss: 2.0540 - val_categorical_accuracy: 0.1883 - lr: 0.0010\n",
      "Epoch 2/25\n",
      "42/42 [==============================] - ETA: 0s - loss: 1.0506 - categorical_accuracy: 0.5762\n",
      "Epoch 00002: val_loss did not improve from 0.67214\n",
      "42/42 [==============================] - 97s 2s/step - loss: 1.0506 - categorical_accuracy: 0.5762 - val_loss: 1.9518 - val_categorical_accuracy: 0.2067 - lr: 0.0010\n",
      "Epoch 3/25\n",
      "42/42 [==============================] - ETA: 0s - loss: 0.7553 - categorical_accuracy: 0.7104\n",
      "Epoch 00003: val_loss did not improve from 0.67214\n",
      "42/42 [==============================] - 94s 2s/step - loss: 0.7553 - categorical_accuracy: 0.7104 - val_loss: 2.0867 - val_categorical_accuracy: 0.1983 - lr: 0.0010\n",
      "Epoch 4/25\n",
      "42/42 [==============================] - ETA: 0s - loss: 0.7294 - categorical_accuracy: 0.7074\n",
      "Epoch 00004: val_loss did not improve from 0.67214\n",
      "42/42 [==============================] - 95s 2s/step - loss: 0.7294 - categorical_accuracy: 0.7074 - val_loss: 2.7997 - val_categorical_accuracy: 0.2383 - lr: 0.0010\n",
      "Epoch 5/25\n",
      "42/42 [==============================] - ETA: 0s - loss: 0.5865 - categorical_accuracy: 0.7828\n",
      "Epoch 00005: val_loss did not improve from 0.67214\n",
      "42/42 [==============================] - 97s 2s/step - loss: 0.5865 - categorical_accuracy: 0.7828 - val_loss: 4.5659 - val_categorical_accuracy: 0.1700 - lr: 0.0010\n",
      "Epoch 6/25\n",
      "42/42 [==============================] - ETA: 0s - loss: 0.5359 - categorical_accuracy: 0.7919\n",
      "Epoch 00006: val_loss did not improve from 0.67214\n",
      "42/42 [==============================] - 96s 2s/step - loss: 0.5359 - categorical_accuracy: 0.7919 - val_loss: 5.4228 - val_categorical_accuracy: 0.1667 - lr: 0.0010\n",
      "Epoch 7/25\n",
      "42/42 [==============================] - ETA: 0s - loss: 0.4268 - categorical_accuracy: 0.8492\n",
      "Epoch 00007: val_loss did not improve from 0.67214\n",
      "42/42 [==============================] - 95s 2s/step - loss: 0.4268 - categorical_accuracy: 0.8492 - val_loss: 4.1865 - val_categorical_accuracy: 0.2100 - lr: 0.0010\n",
      "Epoch 8/25\n",
      "42/42 [==============================] - ETA: 0s - loss: 0.3386 - categorical_accuracy: 0.8793\n",
      "Epoch 00008: val_loss did not improve from 0.67214\n",
      "42/42 [==============================] - 95s 2s/step - loss: 0.3386 - categorical_accuracy: 0.8793 - val_loss: 2.9769 - val_categorical_accuracy: 0.3183 - lr: 0.0010\n",
      "Epoch 9/25\n",
      "42/42 [==============================] - ETA: 0s - loss: 0.2791 - categorical_accuracy: 0.9080\n",
      "Epoch 00009: val_loss did not improve from 0.67214\n",
      "42/42 [==============================] - 94s 2s/step - loss: 0.2791 - categorical_accuracy: 0.9080 - val_loss: 2.7078 - val_categorical_accuracy: 0.3633 - lr: 0.0010\n",
      "Epoch 10/25\n",
      "42/42 [==============================] - ETA: 0s - loss: 0.2710 - categorical_accuracy: 0.9155\n",
      "Epoch 00010: val_loss did not improve from 0.67214\n",
      "42/42 [==============================] - 93s 2s/step - loss: 0.2710 - categorical_accuracy: 0.9155 - val_loss: 2.6695 - val_categorical_accuracy: 0.4533 - lr: 0.0010\n",
      "Epoch 11/25\n",
      "42/42 [==============================] - ETA: 0s - loss: 0.2673 - categorical_accuracy: 0.8989\n",
      "Epoch 00011: val_loss did not improve from 0.67214\n",
      "42/42 [==============================] - 91s 2s/step - loss: 0.2673 - categorical_accuracy: 0.8989 - val_loss: 1.6117 - val_categorical_accuracy: 0.5450 - lr: 0.0010\n",
      "Epoch 12/25\n",
      "42/42 [==============================] - ETA: 0s - loss: 0.2776 - categorical_accuracy: 0.9050\n",
      "Epoch 00012: val_loss did not improve from 0.67214\n",
      "42/42 [==============================] - 92s 2s/step - loss: 0.2776 - categorical_accuracy: 0.9050 - val_loss: 1.7311 - val_categorical_accuracy: 0.5383 - lr: 0.0010\n",
      "Epoch 13/25\n",
      "42/42 [==============================] - ETA: 0s - loss: 0.2191 - categorical_accuracy: 0.9170\n",
      "Epoch 00013: val_loss did not improve from 0.67214\n",
      "42/42 [==============================] - 92s 2s/step - loss: 0.2191 - categorical_accuracy: 0.9170 - val_loss: 1.5793 - val_categorical_accuracy: 0.5217 - lr: 0.0010\n",
      "Epoch 14/25\n",
      "42/42 [==============================] - ETA: 0s - loss: 0.2191 - categorical_accuracy: 0.9336\n",
      "Epoch 00014: val_loss did not improve from 0.67214\n",
      "42/42 [==============================] - 90s 2s/step - loss: 0.2191 - categorical_accuracy: 0.9336 - val_loss: 1.5187 - val_categorical_accuracy: 0.5833 - lr: 0.0010\n",
      "Epoch 15/25\n",
      "42/42 [==============================] - ETA: 0s - loss: 0.2598 - categorical_accuracy: 0.9110\n",
      "Epoch 00015: val_loss did not improve from 0.67214\n",
      "42/42 [==============================] - 92s 2s/step - loss: 0.2598 - categorical_accuracy: 0.9110 - val_loss: 1.7970 - val_categorical_accuracy: 0.5617 - lr: 0.0010\n",
      "Epoch 16/25\n",
      "42/42 [==============================] - ETA: 0s - loss: 0.2797 - categorical_accuracy: 0.9020\n",
      "Epoch 00016: val_loss did not improve from 0.67214\n",
      "42/42 [==============================] - 93s 2s/step - loss: 0.2797 - categorical_accuracy: 0.9020 - val_loss: 2.0100 - val_categorical_accuracy: 0.4200 - lr: 0.0010\n",
      "Epoch 17/25\n",
      "42/42 [==============================] - ETA: 0s - loss: 0.2131 - categorical_accuracy: 0.9351\n",
      "Epoch 00017: val_loss did not improve from 0.67214\n",
      "42/42 [==============================] - 90s 2s/step - loss: 0.2131 - categorical_accuracy: 0.9351 - val_loss: 1.1729 - val_categorical_accuracy: 0.6033 - lr: 0.0010\n",
      "Epoch 18/25\n",
      "42/42 [==============================] - ETA: 0s - loss: 0.1759 - categorical_accuracy: 0.9382\n",
      "Epoch 00018: val_loss did not improve from 0.67214\n",
      "42/42 [==============================] - 91s 2s/step - loss: 0.1759 - categorical_accuracy: 0.9382 - val_loss: 1.1555 - val_categorical_accuracy: 0.6200 - lr: 0.0010\n",
      "Epoch 19/25\n",
      "42/42 [==============================] - ETA: 0s - loss: 0.2224 - categorical_accuracy: 0.9261\n",
      "Epoch 00019: val_loss did not improve from 0.67214\n",
      "42/42 [==============================] - 91s 2s/step - loss: 0.2224 - categorical_accuracy: 0.9261 - val_loss: 1.0400 - val_categorical_accuracy: 0.6233 - lr: 0.0010\n",
      "Epoch 20/25\n",
      "42/42 [==============================] - ETA: 0s - loss: 0.2336 - categorical_accuracy: 0.9186\n",
      "Epoch 00020: val_loss did not improve from 0.67214\n",
      "42/42 [==============================] - 91s 2s/step - loss: 0.2336 - categorical_accuracy: 0.9186 - val_loss: 2.0770 - val_categorical_accuracy: 0.5533 - lr: 0.0010\n",
      "Epoch 21/25\n",
      "42/42 [==============================] - ETA: 0s - loss: 0.2272 - categorical_accuracy: 0.9231\n",
      "Epoch 00021: val_loss did not improve from 0.67214\n",
      "42/42 [==============================] - 90s 2s/step - loss: 0.2272 - categorical_accuracy: 0.9231 - val_loss: 1.3475 - val_categorical_accuracy: 0.6333 - lr: 0.0010\n",
      "Epoch 22/25\n",
      "42/42 [==============================] - ETA: 0s - loss: 0.2110 - categorical_accuracy: 0.9321\n",
      "Epoch 00022: val_loss did not improve from 0.67214\n",
      "42/42 [==============================] - 91s 2s/step - loss: 0.2110 - categorical_accuracy: 0.9321 - val_loss: 1.5250 - val_categorical_accuracy: 0.6133 - lr: 0.0010\n",
      "Epoch 23/25\n",
      "42/42 [==============================] - ETA: 0s - loss: 0.1716 - categorical_accuracy: 0.9321\n",
      "Epoch 00023: val_loss did not improve from 0.67214\n",
      "42/42 [==============================] - 92s 2s/step - loss: 0.1716 - categorical_accuracy: 0.9321 - val_loss: 1.2483 - val_categorical_accuracy: 0.6400 - lr: 0.0010\n",
      "Epoch 24/25\n",
      "42/42 [==============================] - ETA: 0s - loss: 0.1354 - categorical_accuracy: 0.9578\n",
      "Epoch 00024: val_loss did not improve from 0.67214\n",
      "42/42 [==============================] - 91s 2s/step - loss: 0.1354 - categorical_accuracy: 0.9578 - val_loss: 1.5911 - val_categorical_accuracy: 0.5233 - lr: 0.0010\n",
      "Epoch 25/25\n",
      "42/42 [==============================] - ETA: 0s - loss: 0.1482 - categorical_accuracy: 0.9502\n",
      "Epoch 00025: val_loss did not improve from 0.67214\n",
      "42/42 [==============================] - 93s 2s/step - loss: 0.1482 - categorical_accuracy: 0.9502 - val_loss: 0.9271 - val_categorical_accuracy: 0.7300 - lr: 0.0010\n"
     ]
    }
   ],
   "source": [
    "history9=model9.fit_generator(train_gen, steps_per_epoch=steps_per_epoch, epochs=num_epochs, verbose=1, \n",
    "                    callbacks=callbacks_list, validation_data=val_gen, \n",
    "                    validation_steps=validation_steps, class_weight=None, workers=1, initial_epoch=0)"
   ]
  },
  {
   "cell_type": "code",
   "execution_count": 111,
   "metadata": {},
   "outputs": [
    {
     "data": {
      "image/png": "[encoded data removed]",
      "text/plain": [
       "<Figure size 432x288 with 1 Axes>"
      ]
     },
     "metadata": {
      "needs_background": "light"
     },
     "output_type": "display_data"
    }
   ],
   "source": [
    "plot_results(history9)"
   ]
  },
  {
   "cell_type": "markdown",
   "metadata": {},
   "source": [
    "#### Model 10: Bidirectional GRU Model with 3 Layer for feature extraction and 2 FC layer"
   ]
  },
  {
   "cell_type": "code",
   "execution_count": 112,
   "metadata": {},
   "outputs": [],
   "source": [
    "model10=create_cnn_gru_models(conv_filters=[16,32,64],dense_filters=[128,64],bidirectional=True)"
   ]
  },
  {
   "cell_type": "code",
   "execution_count": 113,
   "metadata": {},
   "outputs": [
    {
     "name": "stdout",
     "output_type": "stream",
     "text": [
      "# training sequences = 663\n",
      "# validation sequences = 100\n",
      "# epochs = 25\n",
      "steps_per_epoch: 42\n",
      "validations_steps_per_epoch: 42\n"
     ]
    }
   ],
   "source": [
    "num_epochs=25\n",
    "batch_size=16\n",
    "experiment_size=663\n",
    "train_gen,val_gen=datagen(train_df_processed,val_df_processed,batch_size=batch_size,experiment_size=experiment_size,num_epochs=num_epochs)\n",
    "steps_per_epoch,validation_steps=get_steps(experiment_size=experiment_size)"
   ]
  },
  {
   "cell_type": "code",
   "execution_count": 114,
   "metadata": {},
   "outputs": [
    {
     "name": "stderr",
     "output_type": "stream",
     "text": [
      "/tmp/ipykernel_931/3792622884.py:1: UserWarning: `Model.fit_generator` is deprecated and will be removed in a future version. Please use `Model.fit`, which supports generators.\n",
      "  history10=model10.fit_generator(train_gen, steps_per_epoch=steps_per_epoch, epochs=num_epochs, verbose=1,\n"
     ]
    },
    {
     "name": "stdout",
     "output_type": "stream",
     "text": [
      "Epoch 1/25\n",
      "42/42 [==============================] - ETA: 0s - loss: 1.4503 - categorical_accuracy: 0.4495\n",
      "Epoch 00001: val_loss did not improve from 0.67214\n",
      "42/42 [==============================] - 99s 2s/step - loss: 1.4503 - categorical_accuracy: 0.4495 - val_loss: 1.9681 - val_categorical_accuracy: 0.2483 - lr: 0.0010\n",
      "Epoch 2/25\n",
      "42/42 [==============================] - ETA: 0s - loss: 0.9574 - categorical_accuracy: 0.6365\n",
      "Epoch 00002: val_loss did not improve from 0.67214\n",
      "42/42 [==============================] - 93s 2s/step - loss: 0.9574 - categorical_accuracy: 0.6365 - val_loss: 2.8383 - val_categorical_accuracy: 0.1900 - lr: 0.0010\n",
      "Epoch 3/25\n",
      "42/42 [==============================] - ETA: 0s - loss: 0.7368 - categorical_accuracy: 0.7240\n",
      "Epoch 00003: val_loss did not improve from 0.67214\n",
      "42/42 [==============================] - 92s 2s/step - loss: 0.7368 - categorical_accuracy: 0.7240 - val_loss: 3.2044 - val_categorical_accuracy: 0.1733 - lr: 0.0010\n",
      "Epoch 4/25\n",
      "42/42 [==============================] - ETA: 0s - loss: 0.6061 - categorical_accuracy: 0.7813\n",
      "Epoch 00004: val_loss did not improve from 0.67214\n",
      "42/42 [==============================] - 92s 2s/step - loss: 0.6061 - categorical_accuracy: 0.7813 - val_loss: 3.5999 - val_categorical_accuracy: 0.1933 - lr: 0.0010\n",
      "Epoch 5/25\n",
      "42/42 [==============================] - ETA: 0s - loss: 0.4181 - categorical_accuracy: 0.8522\n",
      "Epoch 00005: val_loss did not improve from 0.67214\n",
      "42/42 [==============================] - 92s 2s/step - loss: 0.4181 - categorical_accuracy: 0.8522 - val_loss: 3.7516 - val_categorical_accuracy: 0.2317 - lr: 0.0010\n",
      "Epoch 6/25\n",
      "42/42 [==============================] - ETA: 0s - loss: 0.2722 - categorical_accuracy: 0.9231\n",
      "Epoch 00006: val_loss did not improve from 0.67214\n",
      "42/42 [==============================] - 96s 2s/step - loss: 0.2722 - categorical_accuracy: 0.9231 - val_loss: 4.7428 - val_categorical_accuracy: 0.2750 - lr: 0.0010\n",
      "Epoch 7/25\n",
      "42/42 [==============================] - ETA: 0s - loss: 0.2290 - categorical_accuracy: 0.9276\n",
      "Epoch 00007: val_loss did not improve from 0.67214\n",
      "42/42 [==============================] - 96s 2s/step - loss: 0.2290 - categorical_accuracy: 0.9276 - val_loss: 6.2655 - val_categorical_accuracy: 0.2517 - lr: 0.0010\n",
      "Epoch 8/25\n",
      "42/42 [==============================] - ETA: 0s - loss: 0.2587 - categorical_accuracy: 0.9080\n",
      "Epoch 00008: val_loss did not improve from 0.67214\n",
      "42/42 [==============================] - 95s 2s/step - loss: 0.2587 - categorical_accuracy: 0.9080 - val_loss: 5.5183 - val_categorical_accuracy: 0.2550 - lr: 0.0010\n",
      "Epoch 9/25\n",
      "42/42 [==============================] - ETA: 0s - loss: 0.3247 - categorical_accuracy: 0.8748\n",
      "Epoch 00009: val_loss did not improve from 0.67214\n",
      "42/42 [==============================] - 93s 2s/step - loss: 0.3247 - categorical_accuracy: 0.8748 - val_loss: 3.5401 - val_categorical_accuracy: 0.3817 - lr: 0.0010\n",
      "Epoch 10/25\n",
      "42/42 [==============================] - ETA: 0s - loss: 0.2913 - categorical_accuracy: 0.8944\n",
      "Epoch 00010: val_loss did not improve from 0.67214\n",
      "42/42 [==============================] - 93s 2s/step - loss: 0.2913 - categorical_accuracy: 0.8944 - val_loss: 3.8538 - val_categorical_accuracy: 0.3667 - lr: 0.0010\n",
      "Epoch 11/25\n",
      "42/42 [==============================] - ETA: 0s - loss: 0.2612 - categorical_accuracy: 0.9201\n",
      "Epoch 00011: val_loss did not improve from 0.67214\n",
      "42/42 [==============================] - 94s 2s/step - loss: 0.2612 - categorical_accuracy: 0.9201 - val_loss: 3.3840 - val_categorical_accuracy: 0.4000 - lr: 0.0010\n",
      "Epoch 12/25\n",
      "42/42 [==============================] - ETA: 0s - loss: 0.1741 - categorical_accuracy: 0.9457\n",
      "Epoch 00012: val_loss did not improve from 0.67214\n",
      "42/42 [==============================] - 93s 2s/step - loss: 0.1741 - categorical_accuracy: 0.9457 - val_loss: 2.5746 - val_categorical_accuracy: 0.4700 - lr: 0.0010\n",
      "Epoch 13/25\n",
      "42/42 [==============================] - ETA: 0s - loss: 0.1237 - categorical_accuracy: 0.9593\n",
      "Epoch 00013: val_loss did not improve from 0.67214\n",
      "42/42 [==============================] - 94s 2s/step - loss: 0.1237 - categorical_accuracy: 0.9593 - val_loss: 2.4587 - val_categorical_accuracy: 0.5233 - lr: 0.0010\n",
      "Epoch 14/25\n",
      "42/42 [==============================] - ETA: 0s - loss: 0.1253 - categorical_accuracy: 0.9593\n",
      "Epoch 00014: val_loss did not improve from 0.67214\n",
      "42/42 [==============================] - 93s 2s/step - loss: 0.1253 - categorical_accuracy: 0.9593 - val_loss: 1.1725 - val_categorical_accuracy: 0.5700 - lr: 0.0010\n",
      "Epoch 15/25\n",
      "42/42 [==============================] - ETA: 0s - loss: 0.1113 - categorical_accuracy: 0.9683\n",
      "Epoch 00015: val_loss did not improve from 0.67214\n",
      "42/42 [==============================] - 93s 2s/step - loss: 0.1113 - categorical_accuracy: 0.9683 - val_loss: 1.5615 - val_categorical_accuracy: 0.5917 - lr: 0.0010\n",
      "Epoch 16/25\n",
      "42/42 [==============================] - ETA: 0s - loss: 0.0913 - categorical_accuracy: 0.9744\n",
      "Epoch 00016: val_loss did not improve from 0.67214\n",
      "42/42 [==============================] - 95s 2s/step - loss: 0.0913 - categorical_accuracy: 0.9744 - val_loss: 1.4631 - val_categorical_accuracy: 0.5717 - lr: 0.0010\n",
      "Epoch 17/25\n",
      "42/42 [==============================] - ETA: 0s - loss: 0.0918 - categorical_accuracy: 0.9729\n",
      "Epoch 00017: val_loss did not improve from 0.67214\n",
      "42/42 [==============================] - 95s 2s/step - loss: 0.0918 - categorical_accuracy: 0.9729 - val_loss: 1.8364 - val_categorical_accuracy: 0.4900 - lr: 0.0010\n",
      "Epoch 18/25\n",
      "42/42 [==============================] - ETA: 0s - loss: 0.1415 - categorical_accuracy: 0.9532\n",
      "Epoch 00018: val_loss did not improve from 0.67214\n",
      "42/42 [==============================] - 95s 2s/step - loss: 0.1415 - categorical_accuracy: 0.9532 - val_loss: 1.9398 - val_categorical_accuracy: 0.5750 - lr: 0.0010\n",
      "Epoch 19/25\n",
      "42/42 [==============================] - ETA: 0s - loss: 0.1194 - categorical_accuracy: 0.9653\n",
      "Epoch 00019: val_loss did not improve from 0.67214\n",
      "42/42 [==============================] - 94s 2s/step - loss: 0.1194 - categorical_accuracy: 0.9653 - val_loss: 1.3791 - val_categorical_accuracy: 0.6533 - lr: 0.0010\n",
      "Epoch 20/25\n",
      "42/42 [==============================] - ETA: 0s - loss: 0.1178 - categorical_accuracy: 0.9593\n",
      "Epoch 00020: val_loss did not improve from 0.67214\n",
      "42/42 [==============================] - 95s 2s/step - loss: 0.1178 - categorical_accuracy: 0.9593 - val_loss: 1.3238 - val_categorical_accuracy: 0.6017 - lr: 0.0010\n",
      "Epoch 21/25\n",
      "42/42 [==============================] - ETA: 0s - loss: 0.1661 - categorical_accuracy: 0.9382\n",
      "Epoch 00021: val_loss did not improve from 0.67214\n",
      "42/42 [==============================] - 94s 2s/step - loss: 0.1661 - categorical_accuracy: 0.9382 - val_loss: 1.5653 - val_categorical_accuracy: 0.5917 - lr: 0.0010\n",
      "Epoch 22/25\n",
      "42/42 [==============================] - ETA: 0s - loss: 0.1789 - categorical_accuracy: 0.9457\n",
      "Epoch 00022: val_loss did not improve from 0.67214\n",
      "42/42 [==============================] - 95s 2s/step - loss: 0.1789 - categorical_accuracy: 0.9457 - val_loss: 3.8901 - val_categorical_accuracy: 0.3150 - lr: 0.0010\n",
      "Epoch 23/25\n",
      "42/42 [==============================] - ETA: 0s - loss: 0.2176 - categorical_accuracy: 0.9155\n",
      "Epoch 00023: val_loss did not improve from 0.67214\n",
      "42/42 [==============================] - 93s 2s/step - loss: 0.2176 - categorical_accuracy: 0.9155 - val_loss: 1.1484 - val_categorical_accuracy: 0.5833 - lr: 0.0010\n",
      "Epoch 24/25\n",
      "42/42 [==============================] - ETA: 0s - loss: 0.2148 - categorical_accuracy: 0.9321\n",
      "Epoch 00024: val_loss did not improve from 0.67214\n",
      "42/42 [==============================] - 95s 2s/step - loss: 0.2148 - categorical_accuracy: 0.9321 - val_loss: 1.6626 - val_categorical_accuracy: 0.6000 - lr: 0.0010\n",
      "Epoch 25/25\n",
      "42/42 [==============================] - ETA: 0s - loss: 0.2443 - categorical_accuracy: 0.9231\n",
      "Epoch 00025: val_loss did not improve from 0.67214\n",
      "42/42 [==============================] - 95s 2s/step - loss: 0.2443 - categorical_accuracy: 0.9231 - val_loss: 1.8939 - val_categorical_accuracy: 0.5600 - lr: 0.0010\n"
     ]
    }
   ],
   "source": [
    "history10=model10.fit_generator(train_gen, steps_per_epoch=steps_per_epoch, epochs=num_epochs, verbose=1, \n",
    "                    callbacks=callbacks_list, validation_data=val_gen, \n",
    "                    validation_steps=validation_steps, class_weight=None, workers=1, initial_epoch=0)"
   ]
  },
  {
   "cell_type": "code",
   "execution_count": 115,
   "metadata": {},
   "outputs": [
    {
     "name": "stdout",
     "output_type": "stream",
     "text": [
      "Model: \"sequential_8\"\n",
      "_________________________________________________________________\n",
      " Layer (type)                Output Shape              Param #   \n",
      "=================================================================\n",
      " time_distributed_21 (TimeDi  (None, None, None, None,  448      \n",
      " stributed)                   16)                                \n",
      "                                                                 \n",
      " time_distributed_22 (TimeDi  (None, None, None, None,  64       \n",
      " stributed)                   16)                                \n",
      "                                                                 \n",
      " time_distributed_23 (TimeDi  (None, None, None, None,  0        \n",
      " stributed)                   16)                                \n",
      "                                                                 \n",
      " time_distributed_24 (TimeDi  (None, None, None, None,  4640     \n",
      " stributed)                   32)                                \n",
      "                                                                 \n",
      " time_distributed_25 (TimeDi  (None, None, None, None,  128      \n",
      " stributed)                   32)                                \n",
      "                                                                 \n",
      " time_distributed_26 (TimeDi  (None, None, None, None,  0        \n",
      " stributed)                   32)                                \n",
      "                                                                 \n",
      " time_distributed_27 (TimeDi  (None, None, None, None,  18496    \n",
      " stributed)                   64)                                \n",
      "                                                                 \n",
      " time_distributed_28 (TimeDi  (None, None, None, None,  256      \n",
      " stributed)                   64)                                \n",
      "                                                                 \n",
      " time_distributed_29 (TimeDi  (None, None, None, None,  0        \n",
      " stributed)                   64)                                \n",
      "                                                                 \n",
      " time_distributed_30 (TimeDi  (None, None, None)       0         \n",
      " stributed)                                                      \n",
      "                                                                 \n",
      " bidirectional (Bidirectiona  (None, 512)              10226688  \n",
      " l)                                                              \n",
      "                                                                 \n",
      " dense_23 (Dense)            (None, 128)               65664     \n",
      "                                                                 \n",
      " batch_normalization_43 (Bat  (None, 128)              512       \n",
      " chNormalization)                                                \n",
      "                                                                 \n",
      " dense_24 (Dense)            (None, 64)                8256      \n",
      "                                                                 \n",
      " batch_normalization_44 (Bat  (None, 64)               256       \n",
      " chNormalization)                                                \n",
      "                                                                 \n",
      " dense_25 (Dense)            (None, 5)                 325       \n",
      "                                                                 \n",
      "=================================================================\n",
      "Total params: 10,325,733\n",
      "Trainable params: 10,325,125\n",
      "Non-trainable params: 608\n",
      "_________________________________________________________________\n"
     ]
    }
   ],
   "source": [
    "model10.summary()"
   ]
  },
  {
   "cell_type": "code",
   "execution_count": 116,
   "metadata": {},
   "outputs": [
    {
     "data": {
      "image/png": "[encoded data removed]",
      "text/plain": [
       "<Figure size 432x288 with 1 Axes>"
      ]
     },
     "metadata": {
      "needs_background": "light"
     },
     "output_type": "display_data"
    }
   ],
   "source": [
    "plot_results(history10)"
   ]
  },
  {
   "cell_type": "markdown",
   "metadata": {},
   "source": [
    "#### Model 11: Bidirectional Stacked GRU Model with 3 Layer for feature extraction and 2 FC layer"
   ]
  },
  {
   "cell_type": "code",
   "execution_count": 117,
   "metadata": {},
   "outputs": [],
   "source": [
    "model11=create_cnn_stacked_gru_bidirectional(conv_filters=[16,32,64],dense_filters=[128,64],bidirectional=True)"
   ]
  },
  {
   "cell_type": "code",
   "execution_count": 118,
   "metadata": {},
   "outputs": [
    {
     "name": "stdout",
     "output_type": "stream",
     "text": [
      "# training sequences = 663\n",
      "# validation sequences = 100\n",
      "# epochs = 25\n",
      "steps_per_epoch: 42\n",
      "validations_steps_per_epoch: 42\n"
     ]
    }
   ],
   "source": [
    "num_epochs=25\n",
    "batch_size=16\n",
    "experiment_size=663\n",
    "train_gen,val_gen=datagen(train_df_processed,val_df_processed,batch_size=batch_size,experiment_size=experiment_size,num_epochs=num_epochs)\n",
    "steps_per_epoch,validation_steps=get_steps(experiment_size=experiment_size)"
   ]
  },
  {
   "cell_type": "code",
   "execution_count": 119,
   "metadata": {},
   "outputs": [
    {
     "name": "stderr",
     "output_type": "stream",
     "text": [
      "/tmp/ipykernel_931/4007369950.py:1: UserWarning: `Model.fit_generator` is deprecated and will be removed in a future version. Please use `Model.fit`, which supports generators.\n",
      "  history11=model11.fit_generator(train_gen, steps_per_epoch=steps_per_epoch, epochs=num_epochs, verbose=1,\n"
     ]
    },
    {
     "name": "stdout",
     "output_type": "stream",
     "text": [
      "Epoch 1/25\n",
      "42/42 [==============================] - ETA: 0s - loss: 1.4229 - categorical_accuracy: 0.4646\n",
      "Epoch 00001: val_loss did not improve from 0.67214\n",
      "42/42 [==============================] - 105s 2s/step - loss: 1.4229 - categorical_accuracy: 0.4646 - val_loss: 1.8823 - val_categorical_accuracy: 0.1633 - lr: 0.0010\n",
      "Epoch 2/25\n",
      "42/42 [==============================] - ETA: 0s - loss: 0.8891 - categorical_accuracy: 0.6742\n",
      "Epoch 00002: val_loss did not improve from 0.67214\n",
      "42/42 [==============================] - 96s 2s/step - loss: 0.8891 - categorical_accuracy: 0.6742 - val_loss: 1.7965 - val_categorical_accuracy: 0.1433 - lr: 0.0010\n",
      "Epoch 3/25\n",
      "42/42 [==============================] - ETA: 0s - loss: 0.5875 - categorical_accuracy: 0.7964\n",
      "Epoch 00003: val_loss did not improve from 0.67214\n",
      "42/42 [==============================] - 95s 2s/step - loss: 0.5875 - categorical_accuracy: 0.7964 - val_loss: 2.8238 - val_categorical_accuracy: 0.2367 - lr: 0.0010\n",
      "Epoch 4/25\n",
      "42/42 [==============================] - ETA: 0s - loss: 0.4678 - categorical_accuracy: 0.8265\n",
      "Epoch 00004: val_loss did not improve from 0.67214\n",
      "42/42 [==============================] - 94s 2s/step - loss: 0.4678 - categorical_accuracy: 0.8265 - val_loss: 4.5484 - val_categorical_accuracy: 0.1700 - lr: 0.0010\n",
      "Epoch 5/25\n",
      "42/42 [==============================] - ETA: 0s - loss: 0.2947 - categorical_accuracy: 0.9005\n",
      "Epoch 00005: val_loss did not improve from 0.67214\n",
      "42/42 [==============================] - 96s 2s/step - loss: 0.2947 - categorical_accuracy: 0.9005 - val_loss: 10.5826 - val_categorical_accuracy: 0.1517 - lr: 0.0010\n",
      "Epoch 6/25\n",
      "42/42 [==============================] - ETA: 0s - loss: 0.2197 - categorical_accuracy: 0.9412\n",
      "Epoch 00006: val_loss did not improve from 0.67214\n",
      "42/42 [==============================] - 95s 2s/step - loss: 0.2197 - categorical_accuracy: 0.9412 - val_loss: 12.8795 - val_categorical_accuracy: 0.1600 - lr: 0.0010\n",
      "Epoch 7/25\n",
      "42/42 [==============================] - ETA: 0s - loss: 0.2122 - categorical_accuracy: 0.9336\n",
      "Epoch 00007: val_loss did not improve from 0.67214\n",
      "42/42 [==============================] - 94s 2s/step - loss: 0.2122 - categorical_accuracy: 0.9336 - val_loss: 11.2649 - val_categorical_accuracy: 0.1600 - lr: 0.0010\n",
      "Epoch 8/25\n",
      "42/42 [==============================] - ETA: 0s - loss: 0.1966 - categorical_accuracy: 0.9321\n",
      "Epoch 00008: val_loss did not improve from 0.67214\n",
      "42/42 [==============================] - 95s 2s/step - loss: 0.1966 - categorical_accuracy: 0.9321 - val_loss: 4.0375 - val_categorical_accuracy: 0.3400 - lr: 0.0010\n",
      "Epoch 9/25\n",
      "42/42 [==============================] - ETA: 0s - loss: 0.2797 - categorical_accuracy: 0.9110\n",
      "Epoch 00009: val_loss did not improve from 0.67214\n",
      "42/42 [==============================] - 94s 2s/step - loss: 0.2797 - categorical_accuracy: 0.9110 - val_loss: 2.5268 - val_categorical_accuracy: 0.4667 - lr: 0.0010\n",
      "Epoch 10/25\n",
      "42/42 [==============================] - ETA: 0s - loss: 0.2625 - categorical_accuracy: 0.9110\n",
      "Epoch 00010: val_loss did not improve from 0.67214\n",
      "42/42 [==============================] - 93s 2s/step - loss: 0.2625 - categorical_accuracy: 0.9110 - val_loss: 2.9680 - val_categorical_accuracy: 0.3350 - lr: 0.0010\n",
      "Epoch 11/25\n",
      "42/42 [==============================] - ETA: 0s - loss: 0.1970 - categorical_accuracy: 0.9367\n",
      "Epoch 00011: val_loss did not improve from 0.67214\n",
      "42/42 [==============================] - 94s 2s/step - loss: 0.1970 - categorical_accuracy: 0.9367 - val_loss: 2.1129 - val_categorical_accuracy: 0.4867 - lr: 0.0010\n",
      "Epoch 12/25\n",
      "42/42 [==============================] - ETA: 0s - loss: 0.1833 - categorical_accuracy: 0.9397\n",
      "Epoch 00012: val_loss did not improve from 0.67214\n",
      "42/42 [==============================] - 94s 2s/step - loss: 0.1833 - categorical_accuracy: 0.9397 - val_loss: 3.5617 - val_categorical_accuracy: 0.3667 - lr: 0.0010\n",
      "Epoch 13/25\n",
      "42/42 [==============================] - ETA: 0s - loss: 0.1498 - categorical_accuracy: 0.9532\n",
      "Epoch 00013: val_loss did not improve from 0.67214\n",
      "42/42 [==============================] - 92s 2s/step - loss: 0.1498 - categorical_accuracy: 0.9532 - val_loss: 2.0880 - val_categorical_accuracy: 0.5550 - lr: 0.0010\n",
      "Epoch 14/25\n",
      "42/42 [==============================] - ETA: 0s - loss: 0.1151 - categorical_accuracy: 0.9668\n",
      "Epoch 00014: val_loss did not improve from 0.67214\n",
      "42/42 [==============================] - 93s 2s/step - loss: 0.1151 - categorical_accuracy: 0.9668 - val_loss: 2.7111 - val_categorical_accuracy: 0.4733 - lr: 0.0010\n",
      "Epoch 15/25\n",
      "42/42 [==============================] - ETA: 0s - loss: 0.1048 - categorical_accuracy: 0.9638\n",
      "Epoch 00015: val_loss did not improve from 0.67214\n",
      "42/42 [==============================] - 92s 2s/step - loss: 0.1048 - categorical_accuracy: 0.9638 - val_loss: 3.6446 - val_categorical_accuracy: 0.4133 - lr: 0.0010\n",
      "Epoch 16/25\n",
      "42/42 [==============================] - ETA: 0s - loss: 0.1013 - categorical_accuracy: 0.9653\n",
      "Epoch 00016: val_loss did not improve from 0.67214\n",
      "42/42 [==============================] - 91s 2s/step - loss: 0.1013 - categorical_accuracy: 0.9653 - val_loss: 1.5287 - val_categorical_accuracy: 0.6250 - lr: 0.0010\n",
      "Epoch 17/25\n",
      "42/42 [==============================] - ETA: 0s - loss: 0.0907 - categorical_accuracy: 0.9744\n",
      "Epoch 00017: val_loss did not improve from 0.67214\n",
      "42/42 [==============================] - 92s 2s/step - loss: 0.0907 - categorical_accuracy: 0.9744 - val_loss: 1.3408 - val_categorical_accuracy: 0.6583 - lr: 0.0010\n",
      "Epoch 18/25\n",
      "42/42 [==============================] - ETA: 0s - loss: 0.0707 - categorical_accuracy: 0.9774\n",
      "Epoch 00018: val_loss did not improve from 0.67214\n",
      "42/42 [==============================] - 93s 2s/step - loss: 0.0707 - categorical_accuracy: 0.9774 - val_loss: 2.0930 - val_categorical_accuracy: 0.5183 - lr: 0.0010\n",
      "Epoch 19/25\n",
      "42/42 [==============================] - ETA: 0s - loss: 0.1344 - categorical_accuracy: 0.9548\n",
      "Epoch 00019: val_loss did not improve from 0.67214\n",
      "42/42 [==============================] - 94s 2s/step - loss: 0.1344 - categorical_accuracy: 0.9548 - val_loss: 4.4831 - val_categorical_accuracy: 0.3267 - lr: 0.0010\n",
      "Epoch 20/25\n",
      "42/42 [==============================] - ETA: 0s - loss: 0.1355 - categorical_accuracy: 0.9593\n",
      "Epoch 00020: val_loss did not improve from 0.67214\n",
      "42/42 [==============================] - 94s 2s/step - loss: 0.1355 - categorical_accuracy: 0.9593 - val_loss: 1.7351 - val_categorical_accuracy: 0.6567 - lr: 0.0010\n",
      "Epoch 21/25\n",
      "42/42 [==============================] - ETA: 0s - loss: 0.1525 - categorical_accuracy: 0.9472\n",
      "Epoch 00021: val_loss did not improve from 0.67214\n",
      "42/42 [==============================] - 92s 2s/step - loss: 0.1525 - categorical_accuracy: 0.9472 - val_loss: 2.7822 - val_categorical_accuracy: 0.4183 - lr: 0.0010\n",
      "Epoch 22/25\n",
      "42/42 [==============================] - ETA: 0s - loss: 0.2134 - categorical_accuracy: 0.9306\n",
      "Epoch 00022: val_loss did not improve from 0.67214\n",
      "42/42 [==============================] - 92s 2s/step - loss: 0.2134 - categorical_accuracy: 0.9306 - val_loss: 2.9996 - val_categorical_accuracy: 0.5300 - lr: 0.0010\n",
      "Epoch 23/25\n",
      "42/42 [==============================] - ETA: 0s - loss: 0.2217 - categorical_accuracy: 0.9110\n",
      "Epoch 00023: val_loss did not improve from 0.67214\n",
      "42/42 [==============================] - 91s 2s/step - loss: 0.2217 - categorical_accuracy: 0.9110 - val_loss: 2.5866 - val_categorical_accuracy: 0.5117 - lr: 0.0010\n",
      "Epoch 24/25\n",
      "42/42 [==============================] - ETA: 0s - loss: 0.1278 - categorical_accuracy: 0.9457\n",
      "Epoch 00024: val_loss did not improve from 0.67214\n",
      "42/42 [==============================] - 94s 2s/step - loss: 0.1278 - categorical_accuracy: 0.9457 - val_loss: 1.6541 - val_categorical_accuracy: 0.5200 - lr: 0.0010\n",
      "Epoch 25/25\n",
      "42/42 [==============================] - ETA: 0s - loss: 0.1244 - categorical_accuracy: 0.9593\n",
      "Epoch 00025: val_loss did not improve from 0.67214\n",
      "42/42 [==============================] - 91s 2s/step - loss: 0.1244 - categorical_accuracy: 0.9593 - val_loss: 1.8183 - val_categorical_accuracy: 0.5933 - lr: 0.0010\n"
     ]
    }
   ],
   "source": [
    "history11=model11.fit_generator(train_gen, steps_per_epoch=steps_per_epoch, epochs=num_epochs, verbose=1, \n",
    "                    callbacks=callbacks_list, validation_data=val_gen, \n",
    "                    validation_steps=validation_steps, class_weight=None, workers=1, initial_epoch=0)"
   ]
  },
  {
   "cell_type": "code",
   "execution_count": 120,
   "metadata": {},
   "outputs": [
    {
     "data": {
      "image/png": "[encoded data removed]",
      "text/plain": [
       "<Figure size 432x288 with 1 Axes>"
      ]
     },
     "metadata": {
      "needs_background": "light"
     },
     "output_type": "display_data"
    }
   ],
   "source": [
    "plot_results(history11)"
   ]
  },
  {
   "cell_type": "markdown",
   "metadata": {},
   "source": [
    "#### Model 12: Bidirectional LSTM Model with 4 Layer for feature extraction and 2 FC layer"
   ]
  },
  {
   "cell_type": "code",
   "execution_count": 121,
   "metadata": {},
   "outputs": [],
   "source": [
    "model12=create_cnn_stacked_LSTM_bidirectional(conv_filters=[16,32,64,128],dense_filters=[128,64],bidirectional=True)"
   ]
  },
  {
   "cell_type": "code",
   "execution_count": 122,
   "metadata": {},
   "outputs": [
    {
     "name": "stdout",
     "output_type": "stream",
     "text": [
      "# training sequences = 663\n",
      "# validation sequences = 100\n",
      "# epochs = 25\n",
      "steps_per_epoch: 42\n",
      "validations_steps_per_epoch: 42\n"
     ]
    }
   ],
   "source": [
    "num_epochs=25\n",
    "batch_size=16\n",
    "experiment_size=663\n",
    "train_gen,val_gen=datagen(train_df_processed,val_df_processed,batch_size=batch_size,experiment_size=experiment_size,num_epochs=num_epochs)\n",
    "steps_per_epoch,validation_steps=get_steps(experiment_size=experiment_size)"
   ]
  },
  {
   "cell_type": "code",
   "execution_count": 123,
   "metadata": {},
   "outputs": [
    {
     "name": "stderr",
     "output_type": "stream",
     "text": [
      "/tmp/ipykernel_931/4078380439.py:1: UserWarning: `Model.fit_generator` is deprecated and will be removed in a future version. Please use `Model.fit`, which supports generators.\n",
      "  history12=model12.fit_generator(train_gen, steps_per_epoch=steps_per_epoch, epochs=num_epochs, verbose=1,\n"
     ]
    },
    {
     "name": "stdout",
     "output_type": "stream",
     "text": [
      "Epoch 1/25\n",
      "42/42 [==============================] - ETA: 0s - loss: 1.4718 - categorical_accuracy: 0.4359\n",
      "Epoch 00001: val_loss did not improve from 0.67214\n",
      "42/42 [==============================] - 102s 2s/step - loss: 1.4718 - categorical_accuracy: 0.4359 - val_loss: 1.7450 - val_categorical_accuracy: 0.2033 - lr: 0.0010\n",
      "Epoch 2/25\n",
      "42/42 [==============================] - ETA: 0s - loss: 1.1072 - categorical_accuracy: 0.5535\n",
      "Epoch 00002: val_loss did not improve from 0.67214\n",
      "42/42 [==============================] - 93s 2s/step - loss: 1.1072 - categorical_accuracy: 0.5535 - val_loss: 1.6192 - val_categorical_accuracy: 0.2117 - lr: 0.0010\n",
      "Epoch 3/25\n",
      "42/42 [==============================] - ETA: 0s - loss: 0.8503 - categorical_accuracy: 0.6757\n",
      "Epoch 00003: val_loss did not improve from 0.67214\n",
      "42/42 [==============================] - 93s 2s/step - loss: 0.8503 - categorical_accuracy: 0.6757 - val_loss: 1.9064 - val_categorical_accuracy: 0.2100 - lr: 0.0010\n",
      "Epoch 4/25\n",
      "42/42 [==============================] - ETA: 0s - loss: 0.6367 - categorical_accuracy: 0.7617\n",
      "Epoch 00004: val_loss did not improve from 0.67214\n",
      "42/42 [==============================] - 91s 2s/step - loss: 0.6367 - categorical_accuracy: 0.7617 - val_loss: 1.8686 - val_categorical_accuracy: 0.2550 - lr: 0.0010\n",
      "Epoch 5/25\n",
      "42/42 [==============================] - ETA: 0s - loss: 0.5335 - categorical_accuracy: 0.7994\n",
      "Epoch 00005: val_loss did not improve from 0.67214\n",
      "42/42 [==============================] - 92s 2s/step - loss: 0.5335 - categorical_accuracy: 0.7994 - val_loss: 2.3361 - val_categorical_accuracy: 0.3317 - lr: 0.0010\n",
      "Epoch 6/25\n",
      "42/42 [==============================] - ETA: 0s - loss: 0.4267 - categorical_accuracy: 0.8416\n",
      "Epoch 00006: val_loss did not improve from 0.67214\n",
      "42/42 [==============================] - 92s 2s/step - loss: 0.4267 - categorical_accuracy: 0.8416 - val_loss: 2.4901 - val_categorical_accuracy: 0.2250 - lr: 0.0010\n",
      "Epoch 7/25\n",
      "42/42 [==============================] - ETA: 0s - loss: 0.3758 - categorical_accuracy: 0.8733\n",
      "Epoch 00007: val_loss did not improve from 0.67214\n",
      "42/42 [==============================] - 92s 2s/step - loss: 0.3758 - categorical_accuracy: 0.8733 - val_loss: 3.0554 - val_categorical_accuracy: 0.2450 - lr: 0.0010\n",
      "Epoch 8/25\n",
      "42/42 [==============================] - ETA: 0s - loss: 0.2486 - categorical_accuracy: 0.9020\n",
      "Epoch 00008: val_loss did not improve from 0.67214\n",
      "42/42 [==============================] - 92s 2s/step - loss: 0.2486 - categorical_accuracy: 0.9020 - val_loss: 3.5350 - val_categorical_accuracy: 0.2750 - lr: 0.0010\n",
      "Epoch 9/25\n",
      "42/42 [==============================] - ETA: 0s - loss: 0.2270 - categorical_accuracy: 0.9291\n",
      "Epoch 00009: val_loss did not improve from 0.67214\n",
      "42/42 [==============================] - 92s 2s/step - loss: 0.2270 - categorical_accuracy: 0.9291 - val_loss: 2.2832 - val_categorical_accuracy: 0.3050 - lr: 0.0010\n",
      "Epoch 10/25\n",
      "42/42 [==============================] - ETA: 0s - loss: 0.2085 - categorical_accuracy: 0.9291\n",
      "Epoch 00010: val_loss did not improve from 0.67214\n",
      "42/42 [==============================] - 92s 2s/step - loss: 0.2085 - categorical_accuracy: 0.9291 - val_loss: 2.6839 - val_categorical_accuracy: 0.3650 - lr: 0.0010\n",
      "Epoch 11/25\n",
      "42/42 [==============================] - ETA: 0s - loss: 0.1299 - categorical_accuracy: 0.9532\n",
      "Epoch 00011: val_loss did not improve from 0.67214\n",
      "42/42 [==============================] - 93s 2s/step - loss: 0.1299 - categorical_accuracy: 0.9532 - val_loss: 1.9825 - val_categorical_accuracy: 0.4817 - lr: 0.0010\n",
      "Epoch 12/25\n",
      "42/42 [==============================] - ETA: 0s - loss: 0.1986 - categorical_accuracy: 0.9276\n",
      "Epoch 00012: val_loss did not improve from 0.67214\n",
      "42/42 [==============================] - 94s 2s/step - loss: 0.1986 - categorical_accuracy: 0.9276 - val_loss: 1.9136 - val_categorical_accuracy: 0.4867 - lr: 0.0010\n",
      "Epoch 13/25\n",
      "42/42 [==============================] - ETA: 0s - loss: 0.1665 - categorical_accuracy: 0.9457\n",
      "Epoch 00013: val_loss did not improve from 0.67214\n",
      "42/42 [==============================] - 95s 2s/step - loss: 0.1665 - categorical_accuracy: 0.9457 - val_loss: 1.7945 - val_categorical_accuracy: 0.5083 - lr: 0.0010\n",
      "Epoch 14/25\n",
      "42/42 [==============================] - ETA: 0s - loss: 0.1181 - categorical_accuracy: 0.9608\n",
      "Epoch 00014: val_loss did not improve from 0.67214\n",
      "42/42 [==============================] - 92s 2s/step - loss: 0.1181 - categorical_accuracy: 0.9608 - val_loss: 2.1406 - val_categorical_accuracy: 0.4850 - lr: 0.0010\n",
      "Epoch 15/25\n",
      "42/42 [==============================] - ETA: 0s - loss: 0.1749 - categorical_accuracy: 0.9457\n",
      "Epoch 00015: val_loss did not improve from 0.67214\n",
      "42/42 [==============================] - 94s 2s/step - loss: 0.1749 - categorical_accuracy: 0.9457 - val_loss: 1.4175 - val_categorical_accuracy: 0.6067 - lr: 0.0010\n",
      "Epoch 16/25\n",
      "42/42 [==============================] - ETA: 0s - loss: 0.1943 - categorical_accuracy: 0.9306\n",
      "Epoch 00016: val_loss did not improve from 0.67214\n",
      "42/42 [==============================] - 93s 2s/step - loss: 0.1943 - categorical_accuracy: 0.9306 - val_loss: 1.8092 - val_categorical_accuracy: 0.6133 - lr: 0.0010\n",
      "Epoch 17/25\n",
      "42/42 [==============================] - ETA: 0s - loss: 0.2127 - categorical_accuracy: 0.9382\n",
      "Epoch 00017: val_loss did not improve from 0.67214\n",
      "42/42 [==============================] - 93s 2s/step - loss: 0.2127 - categorical_accuracy: 0.9382 - val_loss: 3.0767 - val_categorical_accuracy: 0.4183 - lr: 0.0010\n",
      "Epoch 18/25\n",
      "42/42 [==============================] - ETA: 0s - loss: 0.1061 - categorical_accuracy: 0.9713\n",
      "Epoch 00018: val_loss did not improve from 0.67214\n",
      "42/42 [==============================] - 93s 2s/step - loss: 0.1061 - categorical_accuracy: 0.9713 - val_loss: 1.5903 - val_categorical_accuracy: 0.5867 - lr: 0.0010\n",
      "Epoch 19/25\n",
      "42/42 [==============================] - ETA: 0s - loss: 0.0896 - categorical_accuracy: 0.9729\n",
      "Epoch 00019: val_loss did not improve from 0.67214\n",
      "42/42 [==============================] - 93s 2s/step - loss: 0.0896 - categorical_accuracy: 0.9729 - val_loss: 1.0999 - val_categorical_accuracy: 0.6917 - lr: 0.0010\n",
      "Epoch 20/25\n",
      "42/42 [==============================] - ETA: 0s - loss: 0.1504 - categorical_accuracy: 0.9397\n",
      "Epoch 00020: val_loss did not improve from 0.67214\n",
      "42/42 [==============================] - 94s 2s/step - loss: 0.1504 - categorical_accuracy: 0.9397 - val_loss: 3.8846 - val_categorical_accuracy: 0.3550 - lr: 0.0010\n",
      "Epoch 21/25\n",
      "42/42 [==============================] - ETA: 0s - loss: 0.2013 - categorical_accuracy: 0.9306\n",
      "Epoch 00021: val_loss did not improve from 0.67214\n",
      "42/42 [==============================] - 92s 2s/step - loss: 0.2013 - categorical_accuracy: 0.9306 - val_loss: 3.5168 - val_categorical_accuracy: 0.4567 - lr: 0.0010\n",
      "Epoch 22/25\n",
      "42/42 [==============================] - ETA: 0s - loss: 0.0835 - categorical_accuracy: 0.9774\n",
      "Epoch 00022: val_loss did not improve from 0.67214\n",
      "42/42 [==============================] - 92s 2s/step - loss: 0.0835 - categorical_accuracy: 0.9774 - val_loss: 2.4576 - val_categorical_accuracy: 0.5650 - lr: 0.0010\n",
      "Epoch 23/25\n",
      "42/42 [==============================] - ETA: 0s - loss: 0.1129 - categorical_accuracy: 0.9653\n",
      "Epoch 00023: val_loss did not improve from 0.67214\n",
      "42/42 [==============================] - 93s 2s/step - loss: 0.1129 - categorical_accuracy: 0.9653 - val_loss: 1.6197 - val_categorical_accuracy: 0.5383 - lr: 0.0010\n",
      "Epoch 24/25\n",
      "42/42 [==============================] - ETA: 0s - loss: 0.1829 - categorical_accuracy: 0.9321\n",
      "Epoch 00024: val_loss did not improve from 0.67214\n",
      "42/42 [==============================] - 93s 2s/step - loss: 0.1829 - categorical_accuracy: 0.9321 - val_loss: 1.4577 - val_categorical_accuracy: 0.5667 - lr: 0.0010\n",
      "Epoch 25/25\n",
      "42/42 [==============================] - ETA: 0s - loss: 0.1283 - categorical_accuracy: 0.9578\n",
      "Epoch 00025: val_loss did not improve from 0.67214\n",
      "42/42 [==============================] - 92s 2s/step - loss: 0.1283 - categorical_accuracy: 0.9578 - val_loss: 1.3753 - val_categorical_accuracy: 0.6417 - lr: 0.0010\n"
     ]
    }
   ],
   "source": [
    "history12=model12.fit_generator(train_gen, steps_per_epoch=steps_per_epoch, epochs=num_epochs, verbose=1, \n",
    "                    callbacks=callbacks_list, validation_data=val_gen, \n",
    "                    validation_steps=validation_steps, class_weight=None, workers=1, initial_epoch=0)"
   ]
  },
  {
   "cell_type": "code",
   "execution_count": 175,
   "metadata": {},
   "outputs": [
    {
     "data": {
      "image/png": "[encoded data removed]",
      "text/plain": [
       "<Figure size 432x288 with 1 Axes>"
      ]
     },
     "metadata": {
      "needs_background": "light"
     },
     "output_type": "display_data"
    }
   ],
   "source": [
    "plot_results(history12)"
   ]
  },
  {
   "cell_type": "markdown",
   "metadata": {},
   "source": [
    "#### Transfer Learning"
   ]
  },
  {
   "cell_type": "code",
   "execution_count": 179,
   "metadata": {},
   "outputs": [],
   "source": [
    "from keras.applications.mobilenet_v2 import MobileNetV2"
   ]
  },
  {
   "cell_type": "code",
   "execution_count": 183,
   "metadata": {},
   "outputs": [],
   "source": [
    "def create_mobilenet_lstm(dense_filters,input_shape=input_shape,num_classes=5):\n",
    "    model=keras.Sequential()\n",
    "    mobilenetv2=MobileNetV2(include_top=False,weights='imagenet')\n",
    "    model.add(TimeDistributed(mobilenetv2,input_shape=input_shape))\n",
    "    model.add(TimeDistributed(keras.layers.Flatten()))\n",
    "    keras.layers.Dropout(0.2)\n",
    "    model.add(keras.layers.LSTM(256,return_sequences=False))\n",
    "    for fil in dense_filters:\n",
    "        add_dense_layer(fil,model)\n",
    "        keras.layers.Dropout(0.2)\n",
    "    model.add(keras.layers.Dense(num_classes,activation='softmax'))\n",
    "    model.compile(optimizer='Adam', loss='categorical_crossentropy', metrics=['categorical_accuracy'])\n",
    "    #print(model.summary())\n",
    "    return model"
   ]
  },
  {
   "cell_type": "markdown",
   "metadata": {},
   "source": [
    "#### Model 13 : MobileNet + LSTM"
   ]
  },
  {
   "cell_type": "code",
   "execution_count": 184,
   "metadata": {},
   "outputs": [
    {
     "name": "stdout",
     "output_type": "stream",
     "text": [
      "WARNING:tensorflow:`input_shape` is undefined or non-square, or `rows` is not in [96, 128, 160, 192, 224]. Weights for input shape (224, 224) will be loaded as the default.\n",
      "Downloading data from https://storage.googleapis.com/tensorflow/keras-applications/mobilenet_v2/mobilenet_v2_weights_tf_dim_ordering_tf_kernels_1.0_224_no_top.h5\n",
      "9412608/9406464 [==============================] - 0s 0us/step\n",
      "9420800/9406464 [==============================] - 0s 0us/step\n"
     ]
    }
   ],
   "source": [
    "model13=create_mobilenet_lstm([128,64],input_shape=(25,100,100,3))"
   ]
  },
  {
   "cell_type": "code",
   "execution_count": 185,
   "metadata": {},
   "outputs": [
    {
     "name": "stdout",
     "output_type": "stream",
     "text": [
      "Model: \"sequential_12\"\n",
      "_________________________________________________________________\n",
      " Layer (type)                Output Shape              Param #   \n",
      "=================================================================\n",
      " time_distributed_55 (TimeDi  (None, 25, 3, 3, 1280)   2257984   \n",
      " stributed)                                                      \n",
      "                                                                 \n",
      " time_distributed_56 (TimeDi  (None, 25, 11520)        0         \n",
      " stributed)                                                      \n",
      "                                                                 \n",
      " lstm_4 (LSTM)               (None, 256)               12059648  \n",
      "                                                                 \n",
      " dense_32 (Dense)            (None, 128)               32896     \n",
      "                                                                 \n",
      " batch_normalization_56 (Bat  (None, 128)              512       \n",
      " chNormalization)                                                \n",
      "                                                                 \n",
      " dense_33 (Dense)            (None, 64)                8256      \n",
      "                                                                 \n",
      " batch_normalization_57 (Bat  (None, 64)               256       \n",
      " chNormalization)                                                \n",
      "                                                                 \n",
      " dense_34 (Dense)            (None, 5)                 325       \n",
      "                                                                 \n",
      "=================================================================\n",
      "Total params: 14,359,877\n",
      "Trainable params: 14,325,381\n",
      "Non-trainable params: 34,496\n",
      "_________________________________________________________________\n"
     ]
    }
   ],
   "source": [
    "model13.summary()"
   ]
  },
  {
   "cell_type": "code",
   "execution_count": 187,
   "metadata": {},
   "outputs": [
    {
     "name": "stderr",
     "output_type": "stream",
     "text": [
      "/tmp/ipykernel_931/3142840828.py:1: UserWarning: `Model.fit_generator` is deprecated and will be removed in a future version. Please use `Model.fit`, which supports generators.\n",
      "  history13=model13.fit_generator(train_gen, steps_per_epoch=steps_per_epoch, epochs=num_epochs, verbose=1,\n"
     ]
    },
    {
     "name": "stdout",
     "output_type": "stream",
     "text": [
      "Epoch 1/25\n",
      "42/42 [==============================] - ETA: 0s - loss: 1.6317 - categorical_accuracy: 0.3816\n",
      "Epoch 00001: val_loss did not improve from 0.67214\n",
      "42/42 [==============================] - 100s 2s/step - loss: 1.6317 - categorical_accuracy: 0.3816 - val_loss: 1.5976 - val_categorical_accuracy: 0.2417 - lr: 0.0010\n",
      "Epoch 2/25\n",
      "42/42 [==============================] - ETA: 0s - loss: 1.0247 - categorical_accuracy: 0.5867\n",
      "Epoch 00002: val_loss did not improve from 0.67214\n",
      "42/42 [==============================] - 92s 2s/step - loss: 1.0247 - categorical_accuracy: 0.5867 - val_loss: 1.5832 - val_categorical_accuracy: 0.2867 - lr: 0.0010\n",
      "Epoch 3/25\n",
      "42/42 [==============================] - ETA: 0s - loss: 0.7661 - categorical_accuracy: 0.7104\n",
      "Epoch 00003: val_loss did not improve from 0.67214\n",
      "42/42 [==============================] - 92s 2s/step - loss: 0.7661 - categorical_accuracy: 0.7104 - val_loss: 1.6338 - val_categorical_accuracy: 0.1933 - lr: 0.0010\n",
      "Epoch 4/25\n",
      "42/42 [==============================] - ETA: 0s - loss: 0.5760 - categorical_accuracy: 0.8039\n",
      "Epoch 00004: val_loss did not improve from 0.67214\n",
      "42/42 [==============================] - 90s 2s/step - loss: 0.5760 - categorical_accuracy: 0.8039 - val_loss: 1.4646 - val_categorical_accuracy: 0.3133 - lr: 0.0010\n",
      "Epoch 5/25\n",
      "42/42 [==============================] - ETA: 0s - loss: 0.5119 - categorical_accuracy: 0.8100\n",
      "Epoch 00005: val_loss did not improve from 0.67214\n",
      "42/42 [==============================] - 91s 2s/step - loss: 0.5119 - categorical_accuracy: 0.8100 - val_loss: 1.7019 - val_categorical_accuracy: 0.3783 - lr: 0.0010\n",
      "Epoch 6/25\n",
      "42/42 [==============================] - ETA: 0s - loss: 0.5492 - categorical_accuracy: 0.8115\n",
      "Epoch 00006: val_loss did not improve from 0.67214\n",
      "42/42 [==============================] - 92s 2s/step - loss: 0.5492 - categorical_accuracy: 0.8115 - val_loss: 1.5042 - val_categorical_accuracy: 0.3383 - lr: 0.0010\n",
      "Epoch 7/25\n",
      "42/42 [==============================] - ETA: 0s - loss: 0.5433 - categorical_accuracy: 0.7919\n",
      "Epoch 00007: val_loss did not improve from 0.67214\n",
      "42/42 [==============================] - 89s 2s/step - loss: 0.5433 - categorical_accuracy: 0.7919 - val_loss: 1.7361 - val_categorical_accuracy: 0.3567 - lr: 0.0010\n",
      "Epoch 8/25\n",
      "42/42 [==============================] - ETA: 0s - loss: 0.5493 - categorical_accuracy: 0.8175\n",
      "Epoch 00008: val_loss did not improve from 0.67214\n",
      "42/42 [==============================] - 91s 2s/step - loss: 0.5493 - categorical_accuracy: 0.8175 - val_loss: 1.2897 - val_categorical_accuracy: 0.5150 - lr: 0.0010\n",
      "Epoch 9/25\n",
      "42/42 [==============================] - ETA: 0s - loss: 0.4741 - categorical_accuracy: 0.8281\n",
      "Epoch 00009: val_loss did not improve from 0.67214\n",
      "42/42 [==============================] - 92s 2s/step - loss: 0.4741 - categorical_accuracy: 0.8281 - val_loss: 1.4360 - val_categorical_accuracy: 0.5367 - lr: 0.0010\n",
      "Epoch 10/25\n",
      "42/42 [==============================] - ETA: 0s - loss: 0.4509 - categorical_accuracy: 0.8462\n",
      "Epoch 00010: val_loss did not improve from 0.67214\n",
      "42/42 [==============================] - 104s 3s/step - loss: 0.4509 - categorical_accuracy: 0.8462 - val_loss: 1.6731 - val_categorical_accuracy: 0.5250 - lr: 0.0010\n",
      "Epoch 11/25\n",
      "42/42 [==============================] - ETA: 0s - loss: 0.4049 - categorical_accuracy: 0.8703\n",
      "Epoch 00011: val_loss did not improve from 0.67214\n",
      "42/42 [==============================] - 103s 3s/step - loss: 0.4049 - categorical_accuracy: 0.8703 - val_loss: 0.8246 - val_categorical_accuracy: 0.7233 - lr: 0.0010\n",
      "Epoch 12/25\n",
      "42/42 [==============================] - ETA: 0s - loss: 0.3161 - categorical_accuracy: 0.8884\n",
      "Epoch 00012: val_loss did not improve from 0.67214\n",
      "42/42 [==============================] - 91s 2s/step - loss: 0.3161 - categorical_accuracy: 0.8884 - val_loss: 1.1980 - val_categorical_accuracy: 0.6083 - lr: 0.0010\n",
      "Epoch 13/25\n",
      "42/42 [==============================] - ETA: 0s - loss: 0.2173 - categorical_accuracy: 0.9306\n",
      "Epoch 00013: val_loss did not improve from 0.67214\n",
      "42/42 [==============================] - 91s 2s/step - loss: 0.2173 - categorical_accuracy: 0.9306 - val_loss: 1.5430 - val_categorical_accuracy: 0.6117 - lr: 0.0010\n",
      "Epoch 14/25\n",
      "42/42 [==============================] - ETA: 0s - loss: 0.2731 - categorical_accuracy: 0.9201\n",
      "Epoch 00014: val_loss did not improve from 0.67214\n",
      "42/42 [==============================] - 90s 2s/step - loss: 0.2731 - categorical_accuracy: 0.9201 - val_loss: 1.5329 - val_categorical_accuracy: 0.5917 - lr: 0.0010\n",
      "Epoch 15/25\n",
      "42/42 [==============================] - ETA: 0s - loss: 0.3034 - categorical_accuracy: 0.9065\n",
      "Epoch 00015: val_loss did not improve from 0.67214\n",
      "42/42 [==============================] - 91s 2s/step - loss: 0.3034 - categorical_accuracy: 0.9065 - val_loss: 1.4784 - val_categorical_accuracy: 0.6500 - lr: 0.0010\n",
      "Epoch 16/25\n",
      "42/42 [==============================] - ETA: 0s - loss: 0.3202 - categorical_accuracy: 0.8869\n",
      "Epoch 00016: val_loss did not improve from 0.67214\n",
      "42/42 [==============================] - 91s 2s/step - loss: 0.3202 - categorical_accuracy: 0.8869 - val_loss: 1.6251 - val_categorical_accuracy: 0.6017 - lr: 0.0010\n",
      "Epoch 17/25\n",
      "42/42 [==============================] - ETA: 0s - loss: 0.1851 - categorical_accuracy: 0.9412\n",
      "Epoch 00017: val_loss did not improve from 0.67214\n",
      "42/42 [==============================] - 93s 2s/step - loss: 0.1851 - categorical_accuracy: 0.9412 - val_loss: 2.1741 - val_categorical_accuracy: 0.6233 - lr: 0.0010\n",
      "Epoch 18/25\n",
      "42/42 [==============================] - ETA: 0s - loss: 0.2041 - categorical_accuracy: 0.9321\n",
      "Epoch 00018: val_loss did not improve from 0.67214\n",
      "42/42 [==============================] - 92s 2s/step - loss: 0.2041 - categorical_accuracy: 0.9321 - val_loss: 2.7072 - val_categorical_accuracy: 0.4350 - lr: 0.0010\n",
      "Epoch 19/25\n",
      "42/42 [==============================] - ETA: 0s - loss: 0.2476 - categorical_accuracy: 0.9336\n",
      "Epoch 00019: val_loss did not improve from 0.67214\n",
      "42/42 [==============================] - 92s 2s/step - loss: 0.2476 - categorical_accuracy: 0.9336 - val_loss: 1.4189 - val_categorical_accuracy: 0.6450 - lr: 0.0010\n",
      "Epoch 20/25\n",
      "42/42 [==============================] - ETA: 0s - loss: 0.2750 - categorical_accuracy: 0.8974\n",
      "Epoch 00020: val_loss did not improve from 0.67214\n",
      "42/42 [==============================] - 91s 2s/step - loss: 0.2750 - categorical_accuracy: 0.8974 - val_loss: 0.9975 - val_categorical_accuracy: 0.7000 - lr: 0.0010\n",
      "Epoch 21/25\n",
      "42/42 [==============================] - ETA: 0s - loss: 0.3165 - categorical_accuracy: 0.8959\n",
      "Epoch 00021: val_loss did not improve from 0.67214\n",
      "42/42 [==============================] - 90s 2s/step - loss: 0.3165 - categorical_accuracy: 0.8959 - val_loss: 2.0885 - val_categorical_accuracy: 0.3967 - lr: 0.0010\n",
      "Epoch 22/25\n",
      "42/42 [==============================] - ETA: 0s - loss: 0.5082 - categorical_accuracy: 0.8130\n",
      "Epoch 00022: val_loss did not improve from 0.67214\n",
      "42/42 [==============================] - 91s 2s/step - loss: 0.5082 - categorical_accuracy: 0.8130 - val_loss: 2.3341 - val_categorical_accuracy: 0.4133 - lr: 0.0010\n",
      "Epoch 23/25\n",
      "42/42 [==============================] - ETA: 0s - loss: 0.3396 - categorical_accuracy: 0.8944\n",
      "Epoch 00023: val_loss did not improve from 0.67214\n",
      "42/42 [==============================] - 93s 2s/step - loss: 0.3396 - categorical_accuracy: 0.8944 - val_loss: 1.2729 - val_categorical_accuracy: 0.6217 - lr: 0.0010\n",
      "Epoch 24/25\n",
      "42/42 [==============================] - ETA: 0s - loss: 0.3273 - categorical_accuracy: 0.8778\n",
      "Epoch 00024: val_loss did not improve from 0.67214\n",
      "42/42 [==============================] - 92s 2s/step - loss: 0.3273 - categorical_accuracy: 0.8778 - val_loss: 1.1910 - val_categorical_accuracy: 0.5900 - lr: 0.0010\n",
      "Epoch 25/25\n",
      "42/42 [==============================] - ETA: 0s - loss: 0.3221 - categorical_accuracy: 0.8914\n",
      "Epoch 00025: val_loss did not improve from 0.67214\n",
      "42/42 [==============================] - 93s 2s/step - loss: 0.3221 - categorical_accuracy: 0.8914 - val_loss: 1.1290 - val_categorical_accuracy: 0.7083 - lr: 0.0010\n"
     ]
    }
   ],
   "source": [
    "history13=model13.fit_generator(train_gen, steps_per_epoch=steps_per_epoch, epochs=num_epochs, verbose=1, \n",
    "                    callbacks=callbacks_list, validation_data=val_gen, \n",
    "                    validation_steps=validation_steps, class_weight=None, workers=1, initial_epoch=0)"
   ]
  },
  {
   "cell_type": "code",
   "execution_count": 188,
   "metadata": {},
   "outputs": [
    {
     "data": {
      "image/png": "[encoded data removed]",
      "text/plain": [
       "<Figure size 432x288 with 1 Axes>"
      ]
     },
     "metadata": {
      "needs_background": "light"
     },
     "output_type": "display_data"
    }
   ],
   "source": [
    "plot_results(history13)"
   ]
  },
  {
   "cell_type": "code",
   "execution_count": 186,
   "metadata": {},
   "outputs": [
    {
     "name": "stdout",
     "output_type": "stream",
     "text": [
      "# training sequences = 663\n",
      "# validation sequences = 100\n",
      "# epochs = 25\n",
      "steps_per_epoch: 42\n",
      "validations_steps_per_epoch: 42\n"
     ]
    }
   ],
   "source": [
    "num_epochs=25\n",
    "batch_size=16\n",
    "experiment_size=663\n",
    "train_gen,val_gen=datagen(train_df_processed,val_df_processed,batch_size=batch_size,experiment_size=experiment_size,num_epochs=num_epochs)\n",
    "steps_per_epoch,validation_steps=get_steps(experiment_size=experiment_size)"
   ]
  },
  {
   "cell_type": "code",
   "execution_count": 209,
   "metadata": {},
   "outputs": [
    {
     "data": {
      "text/plain": [
       "['BASE_WEIGHTS_PATH',\n",
       " 'DOC',\n",
       " 'ResNet',\n",
       " 'ResNet101',\n",
       " 'ResNet152',\n",
       " 'ResNet50',\n",
       " 'VersionAwareLayers',\n",
       " 'WEIGHTS_HASHES',\n",
       " '__builtins__',\n",
       " '__cached__',\n",
       " '__doc__',\n",
       " '__file__',\n",
       " '__loader__',\n",
       " '__name__',\n",
       " '__package__',\n",
       " '__spec__',\n",
       " 'backend',\n",
       " 'block1',\n",
       " 'block2',\n",
       " 'block3',\n",
       " 'data_utils',\n",
       " 'decode_predictions',\n",
       " 'imagenet_utils',\n",
       " 'keras_export',\n",
       " 'layer_utils',\n",
       " 'layers',\n",
       " 'preprocess_input',\n",
       " 'stack1',\n",
       " 'stack2',\n",
       " 'stack3',\n",
       " 'tf',\n",
       " 'training']"
      ]
     },
     "execution_count": 209,
     "metadata": {},
     "output_type": "execute_result"
    }
   ],
   "source": [
    "dir(keras.applications.resnet)"
   ]
  },
  {
   "cell_type": "code",
   "execution_count": 210,
   "metadata": {},
   "outputs": [],
   "source": [
    "from keras.applications.resnet import ResNet50"
   ]
  },
  {
   "cell_type": "code",
   "execution_count": 211,
   "metadata": {},
   "outputs": [],
   "source": [
    "def create_resnet_lstm(dense_filters,input_shape=input_shape,num_classes=5):\n",
    "    model=keras.Sequential()\n",
    "    mobilenetv2=ResNet50(include_top=False,weights='imagenet')\n",
    "    model.add(TimeDistributed(mobilenetv2,input_shape=input_shape))\n",
    "    model.add(TimeDistributed(keras.layers.Flatten()))\n",
    "    keras.layers.Dropout(0.2)\n",
    "    model.add(keras.layers.LSTM(256,return_sequences=False))\n",
    "    for fil in dense_filters:\n",
    "        add_dense_layer(fil,model)\n",
    "        keras.layers.Dropout(0.2)\n",
    "    model.add(keras.layers.Dense(num_classes,activation='softmax'))\n",
    "    model.compile(optimizer='Adam', loss='categorical_crossentropy', metrics=['categorical_accuracy'])\n",
    "    print(model.summary())\n",
    "    return model"
   ]
  },
  {
   "cell_type": "markdown",
   "metadata": {},
   "source": [
    "#### Model 15 : ResNet50 + LSTM"
   ]
  },
  {
   "cell_type": "code",
   "execution_count": 212,
   "metadata": {},
   "outputs": [
    {
     "name": "stdout",
     "output_type": "stream",
     "text": [
      "Downloading data from https://storage.googleapis.com/tensorflow/keras-applications/resnet/resnet50_weights_tf_dim_ordering_tf_kernels_notop.h5\n",
      "94773248/94765736 [==============================] - 6s 0us/step\n",
      "94781440/94765736 [==============================] - 6s 0us/step\n",
      "Model: \"sequential_14\"\n",
      "_________________________________________________________________\n",
      " Layer (type)                Output Shape              Param #   \n",
      "=================================================================\n",
      " time_distributed_57 (TimeDi  (None, 25, 4, 4, 2048)   23587712  \n",
      " stributed)                                                      \n",
      "                                                                 \n",
      " time_distributed_58 (TimeDi  (None, 25, 32768)        0         \n",
      " stributed)                                                      \n",
      "                                                                 \n",
      " lstm_5 (LSTM)               (None, 256)               33817600  \n",
      "                                                                 \n",
      " dense_35 (Dense)            (None, 128)               32896     \n",
      "                                                                 \n",
      " batch_normalization_58 (Bat  (None, 128)              512       \n",
      " chNormalization)                                                \n",
      "                                                                 \n",
      " dense_36 (Dense)            (None, 64)                8256      \n",
      "                                                                 \n",
      " batch_normalization_59 (Bat  (None, 64)               256       \n",
      " chNormalization)                                                \n",
      "                                                                 \n",
      " dense_37 (Dense)            (None, 5)                 325       \n",
      "                                                                 \n",
      "=================================================================\n",
      "Total params: 57,447,557\n",
      "Trainable params: 57,394,053\n",
      "Non-trainable params: 53,504\n",
      "_________________________________________________________________\n",
      "None\n"
     ]
    }
   ],
   "source": [
    "model15=create_resnet_lstm([128,64],input_shape=(25,100,100,3))"
   ]
  },
  {
   "cell_type": "code",
   "execution_count": 213,
   "metadata": {},
   "outputs": [
    {
     "name": "stdout",
     "output_type": "stream",
     "text": [
      "# training sequences = 663\n",
      "# validation sequences = 100\n",
      "# epochs = 25\n",
      "steps_per_epoch: 42\n",
      "validations_steps_per_epoch: 42\n"
     ]
    }
   ],
   "source": [
    "num_epochs=25\n",
    "batch_size=16\n",
    "experiment_size=663\n",
    "train_gen,val_gen=datagen(train_df_processed,val_df_processed,batch_size=batch_size,experiment_size=experiment_size,num_epochs=num_epochs)\n",
    "steps_per_epoch,validation_steps=get_steps(experiment_size=experiment_size)"
   ]
  },
  {
   "cell_type": "code",
   "execution_count": 214,
   "metadata": {},
   "outputs": [
    {
     "name": "stderr",
     "output_type": "stream",
     "text": [
      "/tmp/ipykernel_931/3969496040.py:1: UserWarning: `Model.fit_generator` is deprecated and will be removed in a future version. Please use `Model.fit`, which supports generators.\n",
      "  history15=model15.fit_generator(train_gen, steps_per_epoch=steps_per_epoch, epochs=num_epochs, verbose=1,\n"
     ]
    },
    {
     "name": "stdout",
     "output_type": "stream",
     "text": [
      "Epoch 1/25\n",
      "42/42 [==============================] - ETA: 0s - loss: 1.5938 - categorical_accuracy: 0.4057\n",
      "Epoch 00001: val_loss did not improve from 0.67214\n",
      "42/42 [==============================] - 110s 2s/step - loss: 1.5938 - categorical_accuracy: 0.4057 - val_loss: 1.6817 - val_categorical_accuracy: 0.1850 - lr: 0.0010\n",
      "Epoch 2/25\n",
      "42/42 [==============================] - ETA: 0s - loss: 1.1198 - categorical_accuracy: 0.5596\n",
      "Epoch 00002: val_loss did not improve from 0.67214\n",
      "42/42 [==============================] - 92s 2s/step - loss: 1.1198 - categorical_accuracy: 0.5596 - val_loss: 1.8379 - val_categorical_accuracy: 0.2100 - lr: 0.0010\n",
      "Epoch 3/25\n",
      "42/42 [==============================] - ETA: 0s - loss: 1.2553 - categorical_accuracy: 0.4977\n",
      "Epoch 00003: val_loss did not improve from 0.67214\n",
      "42/42 [==============================] - 92s 2s/step - loss: 1.2553 - categorical_accuracy: 0.4977 - val_loss: 1.6831 - val_categorical_accuracy: 0.2117 - lr: 0.0010\n",
      "Epoch 4/25\n",
      "42/42 [==============================] - ETA: 0s - loss: 1.1901 - categorical_accuracy: 0.5158\n",
      "Epoch 00004: val_loss did not improve from 0.67214\n",
      "42/42 [==============================] - 92s 2s/step - loss: 1.1901 - categorical_accuracy: 0.5158 - val_loss: 1.7050 - val_categorical_accuracy: 0.2283 - lr: 0.0010\n",
      "Epoch 5/25\n",
      "42/42 [==============================] - ETA: 0s - loss: 1.2162 - categorical_accuracy: 0.4902\n",
      "Epoch 00005: val_loss did not improve from 0.67214\n",
      "42/42 [==============================] - 90s 2s/step - loss: 1.2162 - categorical_accuracy: 0.4902 - val_loss: 1.6002 - val_categorical_accuracy: 0.2900 - lr: 0.0010\n",
      "Epoch 6/25\n",
      "42/42 [==============================] - ETA: 0s - loss: 1.2200 - categorical_accuracy: 0.5098\n",
      "Epoch 00006: val_loss did not improve from 0.67214\n",
      "42/42 [==============================] - 91s 2s/step - loss: 1.2200 - categorical_accuracy: 0.5098 - val_loss: 1.7215 - val_categorical_accuracy: 0.1633 - lr: 0.0010\n",
      "Epoch 7/25\n",
      "42/42 [==============================] - ETA: 0s - loss: 1.4631 - categorical_accuracy: 0.3831\n",
      "Epoch 00007: val_loss did not improve from 0.67214\n",
      "42/42 [==============================] - 92s 2s/step - loss: 1.4631 - categorical_accuracy: 0.3831 - val_loss: 2.1017 - val_categorical_accuracy: 0.1533 - lr: 0.0010\n",
      "Epoch 8/25\n",
      "42/42 [==============================] - ETA: 0s - loss: 1.2528 - categorical_accuracy: 0.4766\n",
      "Epoch 00008: val_loss did not improve from 0.67214\n",
      "42/42 [==============================] - 95s 2s/step - loss: 1.2528 - categorical_accuracy: 0.4766 - val_loss: 2.5375 - val_categorical_accuracy: 0.1983 - lr: 0.0010\n",
      "Epoch 9/25\n",
      "42/42 [==============================] - ETA: 0s - loss: 1.1529 - categorical_accuracy: 0.5294\n",
      "Epoch 00009: val_loss did not improve from 0.67214\n",
      "42/42 [==============================] - 93s 2s/step - loss: 1.1529 - categorical_accuracy: 0.5294 - val_loss: 2.6056 - val_categorical_accuracy: 0.2367 - lr: 0.0010\n",
      "Epoch 10/25\n",
      "42/42 [==============================] - ETA: 0s - loss: 1.0638 - categorical_accuracy: 0.5566\n",
      "Epoch 00010: val_loss did not improve from 0.67214\n",
      "42/42 [==============================] - 91s 2s/step - loss: 1.0638 - categorical_accuracy: 0.5566 - val_loss: 2.8007 - val_categorical_accuracy: 0.2233 - lr: 0.0010\n",
      "Epoch 11/25\n",
      "42/42 [==============================] - ETA: 0s - loss: 0.9254 - categorical_accuracy: 0.6214\n",
      "Epoch 00011: val_loss did not improve from 0.67214\n",
      "42/42 [==============================] - 92s 2s/step - loss: 0.9254 - categorical_accuracy: 0.6214 - val_loss: 1.5692 - val_categorical_accuracy: 0.4817 - lr: 0.0010\n",
      "Epoch 12/25\n",
      "42/42 [==============================] - ETA: 0s - loss: 0.7608 - categorical_accuracy: 0.6998\n",
      "Epoch 00012: val_loss did not improve from 0.67214\n",
      "42/42 [==============================] - 91s 2s/step - loss: 0.7608 - categorical_accuracy: 0.6998 - val_loss: 1.5302 - val_categorical_accuracy: 0.5150 - lr: 0.0010\n",
      "Epoch 13/25\n",
      "42/42 [==============================] - ETA: 0s - loss: 0.7052 - categorical_accuracy: 0.7300\n",
      "Epoch 00013: val_loss did not improve from 0.67214\n",
      "42/42 [==============================] - 92s 2s/step - loss: 0.7052 - categorical_accuracy: 0.7300 - val_loss: 1.5410 - val_categorical_accuracy: 0.5567 - lr: 0.0010\n",
      "Epoch 14/25\n",
      "42/42 [==============================] - ETA: 0s - loss: 0.6703 - categorical_accuracy: 0.7255\n",
      "Epoch 00014: val_loss did not improve from 0.67214\n",
      "42/42 [==============================] - 91s 2s/step - loss: 0.6703 - categorical_accuracy: 0.7255 - val_loss: 1.3598 - val_categorical_accuracy: 0.5033 - lr: 0.0010\n",
      "Epoch 15/25\n",
      "42/42 [==============================] - ETA: 0s - loss: 0.4872 - categorical_accuracy: 0.8100\n",
      "Epoch 00015: val_loss did not improve from 0.67214\n",
      "42/42 [==============================] - 92s 2s/step - loss: 0.4872 - categorical_accuracy: 0.8100 - val_loss: 1.3165 - val_categorical_accuracy: 0.6500 - lr: 0.0010\n",
      "Epoch 16/25\n",
      "42/42 [==============================] - ETA: 0s - loss: 0.3417 - categorical_accuracy: 0.8733\n",
      "Epoch 00016: val_loss did not improve from 0.67214\n",
      "42/42 [==============================] - 91s 2s/step - loss: 0.3417 - categorical_accuracy: 0.8733 - val_loss: 0.9968 - val_categorical_accuracy: 0.6650 - lr: 0.0010\n",
      "Epoch 17/25\n",
      "42/42 [==============================] - ETA: 0s - loss: 0.3847 - categorical_accuracy: 0.8612\n",
      "Epoch 00017: val_loss did not improve from 0.67214\n",
      "42/42 [==============================] - 90s 2s/step - loss: 0.3847 - categorical_accuracy: 0.8612 - val_loss: 1.0134 - val_categorical_accuracy: 0.6950 - lr: 0.0010\n",
      "Epoch 18/25\n",
      "42/42 [==============================] - ETA: 0s - loss: 0.3530 - categorical_accuracy: 0.8733\n",
      "Epoch 00018: val_loss did not improve from 0.67214\n",
      "42/42 [==============================] - 91s 2s/step - loss: 0.3530 - categorical_accuracy: 0.8733 - val_loss: 1.1031 - val_categorical_accuracy: 0.5850 - lr: 0.0010\n",
      "Epoch 19/25\n",
      "42/42 [==============================] - ETA: 0s - loss: 0.3079 - categorical_accuracy: 0.8824\n",
      "Epoch 00019: val_loss did not improve from 0.67214\n",
      "42/42 [==============================] - 91s 2s/step - loss: 0.3079 - categorical_accuracy: 0.8824 - val_loss: 0.9143 - val_categorical_accuracy: 0.7283 - lr: 0.0010\n",
      "Epoch 20/25\n",
      "42/42 [==============================] - ETA: 0s - loss: 0.3286 - categorical_accuracy: 0.8718\n",
      "Epoch 00020: val_loss did not improve from 0.67214\n",
      "42/42 [==============================] - 91s 2s/step - loss: 0.3286 - categorical_accuracy: 0.8718 - val_loss: 1.3459 - val_categorical_accuracy: 0.5867 - lr: 0.0010\n",
      "Epoch 21/25\n",
      "42/42 [==============================] - ETA: 0s - loss: 0.3254 - categorical_accuracy: 0.8899\n",
      "Epoch 00021: val_loss did not improve from 0.67214\n",
      "42/42 [==============================] - 89s 2s/step - loss: 0.3254 - categorical_accuracy: 0.8899 - val_loss: 1.4116 - val_categorical_accuracy: 0.6417 - lr: 0.0010\n",
      "Epoch 22/25\n",
      "42/42 [==============================] - ETA: 0s - loss: 0.2359 - categorical_accuracy: 0.9140\n",
      "Epoch 00022: val_loss did not improve from 0.67214\n",
      "42/42 [==============================] - 90s 2s/step - loss: 0.2359 - categorical_accuracy: 0.9140 - val_loss: 1.3892 - val_categorical_accuracy: 0.6167 - lr: 0.0010\n",
      "Epoch 23/25\n",
      "42/42 [==============================] - ETA: 0s - loss: 0.2514 - categorical_accuracy: 0.9246\n",
      "Epoch 00023: val_loss did not improve from 0.67214\n",
      "42/42 [==============================] - 92s 2s/step - loss: 0.2514 - categorical_accuracy: 0.9246 - val_loss: 1.2296 - val_categorical_accuracy: 0.6700 - lr: 0.0010\n",
      "Epoch 24/25\n",
      "42/42 [==============================] - ETA: 0s - loss: 0.2826 - categorical_accuracy: 0.9095\n",
      "Epoch 00024: val_loss did not improve from 0.67214\n",
      "42/42 [==============================] - 91s 2s/step - loss: 0.2826 - categorical_accuracy: 0.9095 - val_loss: 1.2625 - val_categorical_accuracy: 0.6050 - lr: 0.0010\n",
      "Epoch 25/25\n",
      "42/42 [==============================] - ETA: 0s - loss: 0.3783 - categorical_accuracy: 0.8688\n",
      "Epoch 00025: val_loss did not improve from 0.67214\n",
      "42/42 [==============================] - 91s 2s/step - loss: 0.3783 - categorical_accuracy: 0.8688 - val_loss: 1.5127 - val_categorical_accuracy: 0.6233 - lr: 0.0010\n"
     ]
    }
   ],
   "source": [
    "history15=model15.fit_generator(train_gen, steps_per_epoch=steps_per_epoch, epochs=num_epochs, verbose=1, \n",
    "                    callbacks=callbacks_list, validation_data=val_gen, \n",
    "                    validation_steps=validation_steps, class_weight=None, workers=1, initial_epoch=0)"
   ]
  },
  {
   "cell_type": "code",
   "execution_count": 219,
   "metadata": {},
   "outputs": [
    {
     "data": {
      "image/png": "[encoded data removed]",
      "text/plain": [
       "<Figure size 432x288 with 1 Axes>"
      ]
     },
     "metadata": {
      "needs_background": "light"
     },
     "output_type": "display_data"
    }
   ],
   "source": [
    "plot_results(history15)"
   ]
  },
  {
   "cell_type": "code",
   "execution_count": 220,
   "metadata": {},
   "outputs": [],
   "source": [
    "high_accuracy_models=pd.DataFrame()\n",
    "d=({1:history,2:history2,3:history3,4:history4,5:history5,7:history7,8:history8,9:history9,\n",
    "    10:history10,11:history11,12:history12,\n",
    "    13:history13,15:history15})\n",
    "for k,i in d.items():\n",
    "    accuracy=pd.DataFrame(i.history)\n",
    "    acc=accuracy[accuracy['val_categorical_accuracy'] > 0.7]\n",
    "    acc['model']=\"Model.{}\".format(k)\n",
    "    if(acc.shape[0]>0):\n",
    "        high_accuracy_models=pd.concat([high_accuracy_models,acc])"
   ]
  },
  {
   "cell_type": "code",
   "execution_count": 221,
   "metadata": {},
   "outputs": [
    {
     "data": {
      "text/html": [
       "<div>\n",
       "<style scoped>\n",
       "    .dataframe tbody tr th:only-of-type {\n",
       "        vertical-align: middle;\n",
       "    }\n",
       "\n",
       "    .dataframe tbody tr th {\n",
       "        vertical-align: top;\n",
       "    }\n",
       "\n",
       "    .dataframe thead th {\n",
       "        text-align: right;\n",
       "    }\n",
       "</style>\n",
       "<table border=\"1\" class=\"dataframe\">\n",
       "  <thead>\n",
       "    <tr style=\"text-align: right;\">\n",
       "      <th></th>\n",
       "      <th>loss</th>\n",
       "      <th>categorical_accuracy</th>\n",
       "      <th>val_loss</th>\n",
       "      <th>val_categorical_accuracy</th>\n",
       "      <th>lr</th>\n",
       "      <th>model</th>\n",
       "    </tr>\n",
       "  </thead>\n",
       "  <tbody>\n",
       "    <tr>\n",
       "      <th>29</th>\n",
       "      <td>0.371804</td>\n",
       "      <td>0.864253</td>\n",
       "      <td>0.672143</td>\n",
       "      <td>0.777049</td>\n",
       "      <td>0.001</td>\n",
       "      <td>Model.4</td>\n",
       "    </tr>\n",
       "    <tr>\n",
       "      <th>13</th>\n",
       "      <td>0.601321</td>\n",
       "      <td>0.773756</td>\n",
       "      <td>1.031176</td>\n",
       "      <td>0.736066</td>\n",
       "      <td>0.001</td>\n",
       "      <td>Model.4</td>\n",
       "    </tr>\n",
       "    <tr>\n",
       "      <th>24</th>\n",
       "      <td>0.148157</td>\n",
       "      <td>0.950226</td>\n",
       "      <td>0.927094</td>\n",
       "      <td>0.730000</td>\n",
       "      <td>0.001</td>\n",
       "      <td>Model.9</td>\n",
       "    </tr>\n",
       "    <tr>\n",
       "      <th>18</th>\n",
       "      <td>0.307900</td>\n",
       "      <td>0.882353</td>\n",
       "      <td>0.914279</td>\n",
       "      <td>0.728333</td>\n",
       "      <td>0.001</td>\n",
       "      <td>Model.15</td>\n",
       "    </tr>\n",
       "    <tr>\n",
       "      <th>10</th>\n",
       "      <td>0.404885</td>\n",
       "      <td>0.870287</td>\n",
       "      <td>0.824601</td>\n",
       "      <td>0.723333</td>\n",
       "      <td>0.001</td>\n",
       "      <td>Model.13</td>\n",
       "    </tr>\n",
       "    <tr>\n",
       "      <th>26</th>\n",
       "      <td>0.437875</td>\n",
       "      <td>0.837104</td>\n",
       "      <td>0.775418</td>\n",
       "      <td>0.721311</td>\n",
       "      <td>0.001</td>\n",
       "      <td>Model.4</td>\n",
       "    </tr>\n",
       "    <tr>\n",
       "      <th>28</th>\n",
       "      <td>0.312201</td>\n",
       "      <td>0.895928</td>\n",
       "      <td>0.773173</td>\n",
       "      <td>0.721311</td>\n",
       "      <td>0.001</td>\n",
       "      <td>Model.4</td>\n",
       "    </tr>\n",
       "    <tr>\n",
       "      <th>27</th>\n",
       "      <td>0.384163</td>\n",
       "      <td>0.862745</td>\n",
       "      <td>0.944897</td>\n",
       "      <td>0.720000</td>\n",
       "      <td>0.001</td>\n",
       "      <td>Model.4</td>\n",
       "    </tr>\n",
       "    <tr>\n",
       "      <th>19</th>\n",
       "      <td>0.442169</td>\n",
       "      <td>0.832579</td>\n",
       "      <td>0.827746</td>\n",
       "      <td>0.717857</td>\n",
       "      <td>0.001</td>\n",
       "      <td>Model.3</td>\n",
       "    </tr>\n",
       "    <tr>\n",
       "      <th>24</th>\n",
       "      <td>0.322134</td>\n",
       "      <td>0.891403</td>\n",
       "      <td>1.128959</td>\n",
       "      <td>0.708333</td>\n",
       "      <td>0.001</td>\n",
       "      <td>Model.13</td>\n",
       "    </tr>\n",
       "    <tr>\n",
       "      <th>13</th>\n",
       "      <td>0.726717</td>\n",
       "      <td>0.734540</td>\n",
       "      <td>0.756179</td>\n",
       "      <td>0.704918</td>\n",
       "      <td>0.001</td>\n",
       "      <td>Model.5</td>\n",
       "    </tr>\n",
       "  </tbody>\n",
       "</table>\n",
       "</div>"
      ],
      "text/plain": [
       "        loss  categorical_accuracy  val_loss  val_categorical_accuracy     lr  \\\n",
       "29  0.371804              0.864253  0.672143                  0.777049  0.001   \n",
       "13  0.601321              0.773756  1.031176                  0.736066  0.001   \n",
       "24  0.148157              0.950226  0.927094                  0.730000  0.001   \n",
       "18  0.307900              0.882353  0.914279                  0.728333  0.001   \n",
       "10  0.404885              0.870287  0.824601                  0.723333  0.001   \n",
       "26  0.437875              0.837104  0.775418                  0.721311  0.001   \n",
       "28  0.312201              0.895928  0.773173                  0.721311  0.001   \n",
       "27  0.384163              0.862745  0.944897                  0.720000  0.001   \n",
       "19  0.442169              0.832579  0.827746                  0.717857  0.001   \n",
       "24  0.322134              0.891403  1.128959                  0.708333  0.001   \n",
       "13  0.726717              0.734540  0.756179                  0.704918  0.001   \n",
       "\n",
       "       model  \n",
       "29   Model.4  \n",
       "13   Model.4  \n",
       "24   Model.9  \n",
       "18  Model.15  \n",
       "10  Model.13  \n",
       "26   Model.4  \n",
       "28   Model.4  \n",
       "27   Model.4  \n",
       "19   Model.3  \n",
       "24  Model.13  \n",
       "13   Model.5  "
      ]
     },
     "execution_count": 221,
     "metadata": {},
     "output_type": "execute_result"
    }
   ],
   "source": [
    "high_accuracy_models.sort_values(by='val_categorical_accuracy',ascending=False)"
   ]
  },
  {
   "cell_type": "code",
   "execution_count": 157,
   "metadata": {},
   "outputs": [],
   "source": [
    "saved_model = tf.keras.models.load_model('model_init_2025-01-2411_10_43.445280/model-00030-0.37180-0.86425-0.67214-0.77705.h5')"
   ]
  },
  {
   "cell_type": "code",
   "execution_count": 163,
   "metadata": {},
   "outputs": [
    {
     "name": "stdout",
     "output_type": "stream",
     "text": [
      "50/50 [==============================] - 55s 1s/step - loss: 0.6958 - categorical_accuracy: 0.8184\n"
     ]
    },
    {
     "data": {
      "text/plain": [
       "[0.6957745552062988, 0.8184357285499573]"
      ]
     },
     "execution_count": 163,
     "metadata": {},
     "output_type": "execute_result"
    }
   ],
   "source": [
    "saved_model.evaluate(val_gen,steps=50)"
   ]
  },
  {
   "cell_type": "code",
   "execution_count": 159,
   "metadata": {},
   "outputs": [],
   "source": [
    "X,y=next(val_gen)"
   ]
  },
  {
   "cell_type": "code",
   "execution_count": 164,
   "metadata": {},
   "outputs": [
    {
     "data": {
      "text/plain": [
       "(16, 25, 100, 100, 3)"
      ]
     },
     "execution_count": 164,
     "metadata": {},
     "output_type": "execute_result"
    }
   ],
   "source": [
    "X.shape"
   ]
  },
  {
   "cell_type": "code",
   "execution_count": 170,
   "metadata": {},
   "outputs": [
    {
     "data": {
      "text/plain": [
       "(16, 5)"
      ]
     },
     "execution_count": 170,
     "metadata": {},
     "output_type": "execute_result"
    }
   ],
   "source": [
    "y.shape"
   ]
  },
  {
   "cell_type": "markdown",
   "metadata": {},
   "source": [
    "#### Actual Class Label"
   ]
  },
  {
   "cell_type": "code",
   "execution_count": 172,
   "metadata": {},
   "outputs": [
    {
     "data": {
      "text/plain": [
       "2"
      ]
     },
     "execution_count": 172,
     "metadata": {},
     "output_type": "execute_result"
    }
   ],
   "source": [
    "np.argmax(y[0])"
   ]
  },
  {
   "cell_type": "code",
   "execution_count": 167,
   "metadata": {},
   "outputs": [
    {
     "data": {
      "text/plain": [
       "<matplotlib.image.AxesImage at 0x7f65e287fb50>"
      ]
     },
     "execution_count": 167,
     "metadata": {},
     "output_type": "execute_result"
    },
    {
     "data": {
      "image/png": "[encoded data removed]",
      "text/plain": [
       "<Figure size 432x288 with 1 Axes>"
      ]
     },
     "metadata": {
      "needs_background": "light"
     },
     "output_type": "display_data"
    }
   ],
   "source": [
    "plt.imshow(X[0][0])"
   ]
  },
  {
   "cell_type": "markdown",
   "metadata": {},
   "source": [
    "#### Predicted Class Label"
   ]
  },
  {
   "cell_type": "code",
   "execution_count": 165,
   "metadata": {},
   "outputs": [],
   "source": [
    "predicted=saved_model.predict(X)"
   ]
  },
  {
   "cell_type": "code",
   "execution_count": 166,
   "metadata": {},
   "outputs": [
    {
     "data": {
      "text/plain": [
       "(16, 5)"
      ]
     },
     "execution_count": 166,
     "metadata": {},
     "output_type": "execute_result"
    }
   ],
   "source": [
    "predicted.shape"
   ]
  },
  {
   "cell_type": "code",
   "execution_count": 168,
   "metadata": {},
   "outputs": [
    {
     "data": {
      "text/plain": [
       "2"
      ]
     },
     "execution_count": 168,
     "metadata": {},
     "output_type": "execute_result"
    }
   ],
   "source": [
    "np.argmax(predicted[0])"
   ]
  },
  {
   "cell_type": "code",
   "execution_count": 173,
   "metadata": {},
   "outputs": [
    {
     "name": "stdout",
     "output_type": "stream",
     "text": [
      "  adding: model_init_2025-01-2411_10_43.445280/ (stored 0%)\n",
      "  adding: model_init_2025-01-2411_10_43.445280/model-00001-1.48206-0.57200-1.67600-0.24500.h5 (deflated 7%)\n",
      "  adding: model_init_2025-01-2411_10_43.445280/model-00012-0.32394-0.88235-1.35601-0.54483.h5 (deflated 8%)\n",
      "  adding: model_init_2025-01-2411_10_43.445280/model-00016-0.47518-0.83560-0.99466-0.66071.h5 (deflated 8%)\n",
      "  adding: model_init_2025-01-2411_10_43.445280/model-00020-0.44217-0.83258-0.82775-0.71786.h5 (deflated 8%)\n",
      "  adding: model_init_2025-01-2411_10_43.445280/model-00019-0.43510-0.83710-0.78265-0.67213.h5 (deflated 9%)\n",
      "  adding: model_init_2025-01-2411_10_43.445280/model-00022-0.49978-0.81750-0.75121-0.68852.h5 (deflated 9%)\n",
      "  adding: model_init_2025-01-2411_10_43.445280/model-00030-0.37180-0.86425-0.67214-0.77705.h5 (deflated 11%)\n"
     ]
    }
   ],
   "source": [
    "!zip -r models.zip model_init_2025-01-2411_10_43.445280"
   ]
  },
  {
   "cell_type": "code",
   "execution_count": null,
   "metadata": {},
   "outputs": [],
   "source": []
  }
 ],
 "metadata": {
  "kernelspec": {
   "display_name": "Python 3 (ipykernel)",
   "language": "python",
   "name": "python3"
  },
  "language_info": {
   "codemirror_mode": {
    "name": "ipython",
    "version": 3
   },
   "file_extension": ".py",
   "mimetype": "text/x-python",
   "name": "python",
   "nbconvert_exporter": "python",
   "pygments_lexer": "ipython3",
   "version": "3.8.10"
  }
 },
 "nbformat": 4,
 "nbformat_minor": 4
}
